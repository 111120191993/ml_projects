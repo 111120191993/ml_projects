{
 "cells": [
  {
   "cell_type": "markdown",
   "metadata": {},
   "source": [
    "  <tr>\n",
    "        <td>\n",
    "            <div align=\"left\">\n",
    "                <font size=25px>\n",
    "                    <b>Kmeans Clustering\n",
    "                    </b>\n",
    "                </font>\n",
    "            </div>\n",
    "        </td>\n",
    "    </tr>"
   ]
  },
  {
   "cell_type": "markdown",
   "metadata": {},
   "source": [
    "## Problem Statement:\n",
    "A key challenge for e-commerce businesses is to analyze the trend in the market to increase their sales. The trend can be easily observed if the companies can group the customers; based on their activity on the e-commerce site.  This grouping can be done by applying different criteria like previous orders, mostly searched brands and so on. The machine learning clustering algorithms can provide an analytical method to cluster customers with similar interests."
   ]
  },
  {
   "cell_type": "markdown",
   "metadata": {},
   "source": [
    "## Data Definition:\n",
    "\n",
    "Input variables:\n",
    "\n",
    "1) **Cust_ID** Unique numbering for customers\n",
    "\n",
    "2) **Gender:** Gender of the customer\n",
    "\n",
    "\n",
    "3) **Orders:** Number of orders placed by each customer in the past\n",
    "\n",
    "\n",
    "Remaining 35 features contains the number of times customers have searched them"
   ]
  },
  {
   "cell_type": "markdown",
   "metadata": {},
   "source": [
    "## Content\n",
    "\n",
    "1. **[Import Packages](#import_packages)**\n",
    "2. **[Read Data](#Read_Data)**\n",
    "3. **[Understand and Prepare the Data](#data_preparation)**\n",
    "    - 3.1 - [Data Types and Dimensions](#Data_Types)\n",
    "    - 3.2 - [Distribution of Variables](#data_prepartion)\n",
    "    - 3.3 - [Statistical Summary](#Statistical_Summary)\n",
    "    - 3.4 - [Missing Data Treatment](#Missing_Data_Treatment)\n",
    "    - 3.5 - [Visualization](#Visualization)\n",
    "4. **[K-means Clustering](#modeling)**\n",
    "    - 4.1 - [Prepare the data](#preparation_of_data)\n",
    "    - 4.2 - [Build a Model with Multiple K](#model_k)\n",
    "5. **[Retrieve the Clusters](#retrieve_clusters)**\n",
    "6. **[Clusters Analysis](#cluster)**\n",
    "    - 6.1 - [Analysis of Cluster_1](#cluster_1)\n",
    "    - 6.2 - [Analysis of Cluster_2](#cluster_2)\n",
    "    - 6.3 - [Analysis of Cluster_3](#cluster_3)\n",
    "    - 6.4 - [Analysis of Cluster_4](#cluster_4)\n",
    "7. **[Conclusion](#conclusion)**"
   ]
  },
  {
   "cell_type": "markdown",
   "metadata": {},
   "source": [
    "<a id='import_packages'></a>\n",
    "## 1. Import Packages"
   ]
  },
  {
   "cell_type": "code",
   "execution_count": 3,
   "metadata": {},
   "outputs": [],
   "source": [
    "import pandas as pd\n",
    "import numpy as np\n",
    "import matplotlib.pyplot as plt\n",
    "import seaborn as sns\n",
    "# Set default setting of seaborn\n",
    "sns.set()"
   ]
  },
  {
   "cell_type": "markdown",
   "metadata": {},
   "source": [
    "<a id='Read_Data'></a>\n",
    "## 2. Read the Data"
   ]
  },
  {
   "cell_type": "markdown",
   "metadata": {},
   "source": [
    "<table align=\"left\">\n",
    "    <tr>\n",
    "        <td width=\"8%\">\n",
    "            <img src=\"key.png\">\n",
    "        </td>\n",
    "        <td>\n",
    "            <div align=\"left\", style=\"font-size:120%\">\n",
    "                    <b>Read the data using read_excel() function from pandas<br> \n",
    "                </font>\n",
    "            </div>\n",
    "        </td>\n",
    "    </tr>\n",
    "</table>"
   ]
  },
  {
   "cell_type": "code",
   "execution_count": 24,
   "metadata": {},
   "outputs": [
    {
     "data": {
      "text/html": [
       "<div>\n",
       "<style scoped>\n",
       "    .dataframe tbody tr th:only-of-type {\n",
       "        vertical-align: middle;\n",
       "    }\n",
       "\n",
       "    .dataframe tbody tr th {\n",
       "        vertical-align: top;\n",
       "    }\n",
       "\n",
       "    .dataframe thead th {\n",
       "        text-align: right;\n",
       "    }\n",
       "</style>\n",
       "<table border=\"1\" class=\"dataframe\">\n",
       "  <thead>\n",
       "    <tr style=\"text-align: right;\">\n",
       "      <th></th>\n",
       "      <th>Gender</th>\n",
       "      <th>Orders</th>\n",
       "      <th>Jordan</th>\n",
       "      <th>Gatorade</th>\n",
       "      <th>Samsung</th>\n",
       "      <th>Asus</th>\n",
       "      <th>Udis</th>\n",
       "      <th>Mondelez International</th>\n",
       "      <th>Wrangler</th>\n",
       "      <th>Vans</th>\n",
       "      <th>...</th>\n",
       "      <th>LG</th>\n",
       "      <th>Dior</th>\n",
       "      <th>Scabal</th>\n",
       "      <th>Tommy Hilfiger</th>\n",
       "      <th>Hollister</th>\n",
       "      <th>Forever 21</th>\n",
       "      <th>Colavita</th>\n",
       "      <th>Microsoft</th>\n",
       "      <th>Jiffy mix</th>\n",
       "      <th>Kraft</th>\n",
       "    </tr>\n",
       "    <tr>\n",
       "      <th>Cust_ID</th>\n",
       "      <th></th>\n",
       "      <th></th>\n",
       "      <th></th>\n",
       "      <th></th>\n",
       "      <th></th>\n",
       "      <th></th>\n",
       "      <th></th>\n",
       "      <th></th>\n",
       "      <th></th>\n",
       "      <th></th>\n",
       "      <th></th>\n",
       "      <th></th>\n",
       "      <th></th>\n",
       "      <th></th>\n",
       "      <th></th>\n",
       "      <th></th>\n",
       "      <th></th>\n",
       "      <th></th>\n",
       "      <th></th>\n",
       "      <th></th>\n",
       "      <th></th>\n",
       "    </tr>\n",
       "  </thead>\n",
       "  <tbody>\n",
       "    <tr>\n",
       "      <th>1</th>\n",
       "      <td>M</td>\n",
       "      <td>7</td>\n",
       "      <td>0</td>\n",
       "      <td>0</td>\n",
       "      <td>0</td>\n",
       "      <td>0</td>\n",
       "      <td>0</td>\n",
       "      <td>0</td>\n",
       "      <td>0</td>\n",
       "      <td>2</td>\n",
       "      <td>...</td>\n",
       "      <td>0</td>\n",
       "      <td>0</td>\n",
       "      <td>0</td>\n",
       "      <td>0</td>\n",
       "      <td>0</td>\n",
       "      <td>0</td>\n",
       "      <td>0</td>\n",
       "      <td>0</td>\n",
       "      <td>0</td>\n",
       "      <td>0</td>\n",
       "    </tr>\n",
       "    <tr>\n",
       "      <th>2</th>\n",
       "      <td>F</td>\n",
       "      <td>0</td>\n",
       "      <td>0</td>\n",
       "      <td>1</td>\n",
       "      <td>0</td>\n",
       "      <td>0</td>\n",
       "      <td>0</td>\n",
       "      <td>0</td>\n",
       "      <td>0</td>\n",
       "      <td>0</td>\n",
       "      <td>...</td>\n",
       "      <td>0</td>\n",
       "      <td>1</td>\n",
       "      <td>0</td>\n",
       "      <td>0</td>\n",
       "      <td>0</td>\n",
       "      <td>0</td>\n",
       "      <td>0</td>\n",
       "      <td>0</td>\n",
       "      <td>0</td>\n",
       "      <td>0</td>\n",
       "    </tr>\n",
       "    <tr>\n",
       "      <th>3</th>\n",
       "      <td>M</td>\n",
       "      <td>7</td>\n",
       "      <td>0</td>\n",
       "      <td>1</td>\n",
       "      <td>0</td>\n",
       "      <td>0</td>\n",
       "      <td>0</td>\n",
       "      <td>0</td>\n",
       "      <td>0</td>\n",
       "      <td>0</td>\n",
       "      <td>...</td>\n",
       "      <td>0</td>\n",
       "      <td>0</td>\n",
       "      <td>0</td>\n",
       "      <td>0</td>\n",
       "      <td>0</td>\n",
       "      <td>0</td>\n",
       "      <td>0</td>\n",
       "      <td>1</td>\n",
       "      <td>0</td>\n",
       "      <td>0</td>\n",
       "    </tr>\n",
       "    <tr>\n",
       "      <th>4</th>\n",
       "      <td>F</td>\n",
       "      <td>0</td>\n",
       "      <td>0</td>\n",
       "      <td>0</td>\n",
       "      <td>0</td>\n",
       "      <td>0</td>\n",
       "      <td>0</td>\n",
       "      <td>0</td>\n",
       "      <td>0</td>\n",
       "      <td>0</td>\n",
       "      <td>...</td>\n",
       "      <td>0</td>\n",
       "      <td>0</td>\n",
       "      <td>0</td>\n",
       "      <td>0</td>\n",
       "      <td>0</td>\n",
       "      <td>0</td>\n",
       "      <td>0</td>\n",
       "      <td>0</td>\n",
       "      <td>0</td>\n",
       "      <td>0</td>\n",
       "    </tr>\n",
       "    <tr>\n",
       "      <th>5</th>\n",
       "      <td>NaN</td>\n",
       "      <td>10</td>\n",
       "      <td>0</td>\n",
       "      <td>0</td>\n",
       "      <td>0</td>\n",
       "      <td>0</td>\n",
       "      <td>0</td>\n",
       "      <td>0</td>\n",
       "      <td>0</td>\n",
       "      <td>0</td>\n",
       "      <td>...</td>\n",
       "      <td>0</td>\n",
       "      <td>0</td>\n",
       "      <td>2</td>\n",
       "      <td>0</td>\n",
       "      <td>0</td>\n",
       "      <td>0</td>\n",
       "      <td>0</td>\n",
       "      <td>0</td>\n",
       "      <td>1</td>\n",
       "      <td>1</td>\n",
       "    </tr>\n",
       "  </tbody>\n",
       "</table>\n",
       "<p>5 rows × 37 columns</p>\n",
       "</div>"
      ],
      "text/plain": [
       "        Gender  Orders  Jordan  Gatorade  Samsung  Asus  Udis  \\\n",
       "Cust_ID                                                         \n",
       "1            M       7       0         0        0     0     0   \n",
       "2            F       0       0         1        0     0     0   \n",
       "3            M       7       0         1        0     0     0   \n",
       "4            F       0       0         0        0     0     0   \n",
       "5          NaN      10       0         0        0     0     0   \n",
       "\n",
       "         Mondelez International  Wrangler  Vans  ...  LG  Dior  Scabal  \\\n",
       "Cust_ID                                          ...                     \n",
       "1                             0         0     2  ...   0     0       0   \n",
       "2                             0         0     0  ...   0     1       0   \n",
       "3                             0         0     0  ...   0     0       0   \n",
       "4                             0         0     0  ...   0     0       0   \n",
       "5                             0         0     0  ...   0     0       2   \n",
       "\n",
       "         Tommy Hilfiger  Hollister  Forever 21  Colavita  Microsoft  \\\n",
       "Cust_ID                                                               \n",
       "1                     0          0           0         0          0   \n",
       "2                     0          0           0         0          0   \n",
       "3                     0          0           0         0          1   \n",
       "4                     0          0           0         0          0   \n",
       "5                     0          0           0         0          0   \n",
       "\n",
       "         Jiffy mix  Kraft  \n",
       "Cust_ID                    \n",
       "1                0      0  \n",
       "2                0      0  \n",
       "3                0      0  \n",
       "4                0      0  \n",
       "5                1      1  \n",
       "\n",
       "[5 rows x 37 columns]"
      ]
     },
     "execution_count": 24,
     "metadata": {},
     "output_type": "execute_result"
    }
   ],
   "source": [
    "# read the data\n",
    "raw_data = pd.read_excel('cust_data.xlsx', index_col=0)\n",
    "\n",
    "# print the first five rows of the data\n",
    "raw_data.head()"
   ]
  },
  {
   "cell_type": "markdown",
   "metadata": {},
   "source": [
    "<a id='data_preparation'></a>\n",
    "## 3. Understand and Prepare the Data\n"
   ]
  },
  {
   "cell_type": "markdown",
   "metadata": {},
   "source": [
    "<table align=\"left\">\n",
    "    <tr>\n",
    "        <td width=\"8%\">\n",
    "            <img src=\"key.png\">\n",
    "        </td>\n",
    "        <td>\n",
    "            <div align=\"left\", style=\"font-size:120%\">\n",
    "                    <b>The process of data preparation entails cleansing, structuring and integrating data to make it ready for analysis. <br><br>\n",
    "                        Here we will analyze and prepare data :<br>\n",
    "                        1. Check dimensions and data types of the dataframe <br>\n",
    "                        2. Study summary statistics<br> \n",
    "                        3. Check for missing values<br>\n",
    "                        4. Visualization<br>\n",
    "                        5. Study correlation<br>\n",
    "                                       </b>\n",
    "                </font>\n",
    "            </div>\n",
    "        </td>\n",
    "    </tr>\n",
    "</table>"
   ]
  },
  {
   "cell_type": "markdown",
   "metadata": {},
   "source": [
    "<a id='Data_Types'></a>\n",
    "## 3.1 Data Types and Dimensions"
   ]
  },
  {
   "cell_type": "code",
   "execution_count": 25,
   "metadata": {},
   "outputs": [
    {
     "name": "stdout",
     "output_type": "stream",
     "text": [
      "<class 'pandas.core.frame.DataFrame'>\n",
      "Int64Index: 30000 entries, 1 to 30000\n",
      "Data columns (total 37 columns):\n",
      " #   Column                  Non-Null Count  Dtype \n",
      "---  ------                  --------------  ----- \n",
      " 0   Gender                  27276 non-null  object\n",
      " 1   Orders                  30000 non-null  int64 \n",
      " 2   Jordan                  30000 non-null  int64 \n",
      " 3   Gatorade                30000 non-null  int64 \n",
      " 4   Samsung                 30000 non-null  int64 \n",
      " 5   Asus                    30000 non-null  int64 \n",
      " 6   Udis                    30000 non-null  int64 \n",
      " 7   Mondelez International  30000 non-null  int64 \n",
      " 8   Wrangler                30000 non-null  int64 \n",
      " 9   Vans                    30000 non-null  int64 \n",
      " 10  Fila                    30000 non-null  int64 \n",
      " 11  Brooks                  30000 non-null  int64 \n",
      " 12  H&M                     30000 non-null  int64 \n",
      " 13  Dairy Queen             30000 non-null  int64 \n",
      " 14  Fendi                   30000 non-null  int64 \n",
      " 15  Hewlett Packard         30000 non-null  int64 \n",
      " 16  Pladis                  30000 non-null  int64 \n",
      " 17  Asics                   30000 non-null  int64 \n",
      " 18  Siemens                 30000 non-null  int64 \n",
      " 19  J.M. Smucker            30000 non-null  int64 \n",
      " 20  Pop Chips               30000 non-null  int64 \n",
      " 21  Juniper                 30000 non-null  int64 \n",
      " 22  Huawei                  30000 non-null  int64 \n",
      " 23  Compaq                  30000 non-null  int64 \n",
      " 24  IBM                     30000 non-null  int64 \n",
      " 25  Burberry                30000 non-null  int64 \n",
      " 26  Mi                      30000 non-null  int64 \n",
      " 27  LG                      30000 non-null  int64 \n",
      " 28  Dior                    30000 non-null  int64 \n",
      " 29  Scabal                  30000 non-null  int64 \n",
      " 30  Tommy Hilfiger          30000 non-null  int64 \n",
      " 31  Hollister               30000 non-null  int64 \n",
      " 32  Forever 21              30000 non-null  int64 \n",
      " 33  Colavita                30000 non-null  int64 \n",
      " 34  Microsoft               30000 non-null  int64 \n",
      " 35  Jiffy mix               30000 non-null  int64 \n",
      " 36  Kraft                   30000 non-null  int64 \n",
      "dtypes: int64(36), object(1)\n",
      "memory usage: 8.7+ MB\n"
     ]
    }
   ],
   "source": [
    "# check the data types for variables\n",
    "raw_data.info()"
   ]
  },
  {
   "cell_type": "code",
   "execution_count": 26,
   "metadata": {},
   "outputs": [
    {
     "name": "stdout",
     "output_type": "stream",
     "text": [
      "(30000, 37)\n"
     ]
    }
   ],
   "source": [
    "# get the shape\n",
    "print(raw_data.shape)"
   ]
  },
  {
   "cell_type": "markdown",
   "metadata": {},
   "source": [
    "**We see the dataframe has 37 columns and 30000 observations**"
   ]
  },
  {
   "cell_type": "markdown",
   "metadata": {},
   "source": [
    "<a id='dis'></a>\n",
    "## 3.2 Distribution of Variables\n"
   ]
  },
  {
   "cell_type": "markdown",
   "metadata": {},
   "source": [
    "<table align=\"left\">\n",
    "    <tr>\n",
    "        <td width=\"8%\">\n",
    "            <img src=\"key.png\">\n",
    "        </td>\n",
    "        <td>\n",
    "            <div align=\"left\", style=\"font-size:120%\">\n",
    "                    <b> Check the distribution of the variables <br><br>\n",
    "                        1. Distribution of orders placed by customers<br>\n",
    "                        2. Distribution of gender of the customer<br>\n",
    "                </b>\n",
    "                </font>\n",
    "            </div>\n",
    "        </td>\n",
    "    </tr>\n",
    "</table>"
   ]
  },
  {
   "cell_type": "markdown",
   "metadata": {},
   "source": [
    "**1. Distribution of orders placed by customers**\n",
    "\n",
    "Check the distribution for the number of orders placed by the customers in the past"
   ]
  },
  {
   "cell_type": "code",
   "execution_count": 27,
   "metadata": {},
   "outputs": [
    {
     "data": {
      "image/png": "[encoded data removed]",
      "text/plain": [
       "<Figure size 432x288 with 1 Axes>"
      ]
     },
     "metadata": {},
     "output_type": "display_data"
    }
   ],
   "source": [
    "# use 'countplot' to plot barplot for orders\n",
    "sns.countplot(data = raw_data, x = 'Orders')\n",
    "\n",
    "# set the axes and plot labels\n",
    "# set the font size using 'fontsize'\n",
    "plt.title('Distribution of Orders', fontsize = 15)\n",
    "plt.xlabel('No. of Orders', fontsize = 15)\n",
    "plt.ylabel('Count', fontsize = 15)\n",
    "\n",
    "plt.show()"
   ]
  },
  {
   "cell_type": "markdown",
   "metadata": {},
   "source": [
    "<table align='left'>\n",
    "    <tr>\n",
    "        <td width='8%'>\n",
    "            <img src='note.png'>\n",
    "        </td>\n",
    "        <td>\n",
    "            <div align='left', style='font-size:120%'>\n",
    "                    <b>It can be easily seen that most of the customers have no past orders \n",
    "                </b>\n",
    "                </font>\n",
    "            </div>\n",
    "        </td>\n",
    "    </tr>\n",
    "</table>"
   ]
  },
  {
   "cell_type": "markdown",
   "metadata": {},
   "source": [
    "**2. Distribution of of gender of the customer**\n",
    "\n",
    "Plot the barplot to get the count for the gender "
   ]
  },
  {
   "cell_type": "code",
   "execution_count": 28,
   "metadata": {},
   "outputs": [
    {
     "data": {
      "image/png": "[encoded data removed]",
      "text/plain": [
       "<Figure size 432x288 with 1 Axes>"
      ]
     },
     "metadata": {},
     "output_type": "display_data"
    }
   ],
   "source": [
    "# use 'countplot' to gender-wise calculate the number of customers \n",
    "sns.countplot(data= raw_data, x = 'Gender')\n",
    "\n",
    "# set the axes and plot labels\n",
    "# set the font size using 'fontsize'\n",
    "plt.title('Distribution of Gender', fontsize = 15)\n",
    "plt.xlabel('Gender', fontsize = 15)\n",
    "plt.ylabel('No. of Customers', fontsize = 15)\n",
    "\n",
    "# use below code to print the values in the graph\n",
    "# 'x' and 'y' gives the position of the text\n",
    "# 's' is the text \n",
    "plt.text(x = -0.1, y = raw_data.Gender.value_counts()[1] + 20, s = str(round((raw_data.Gender.value_counts()[1])*100/len(raw_data.Gender),2)) + '%')\n",
    "plt.text(x = 0.9, y = raw_data.Gender.value_counts()[0] + 20, s = str(round((raw_data.Gender.value_counts()[0])*100/len(raw_data.Gender),2)) + '%')\n",
    "plt.show()"
   ]
  },
  {
   "cell_type": "markdown",
   "metadata": {},
   "source": [
    "<table align='left'>\n",
    "    <tr>\n",
    "        <td width='8%'>\n",
    "            <img src='note.png'>\n",
    "        </td>\n",
    "        <td>\n",
    "            <div align='left', style='font-size:120%'>\n",
    "                    <b>There are more female customers in the data than the male customers<br><br>\n",
    "                        It can be seen that the variable 'Gender' has lesser observations (percent-wise only 90.92% observations) than the total number of observations. This inconsistency is because of the existence of missing values; we deal with this issue in section 4.5 \n",
    "                    </b>\n",
    "                </font>\n",
    "            </div>\n",
    "        </td>\n",
    "    </tr>\n",
    "</table>"
   ]
  },
  {
   "cell_type": "markdown",
   "metadata": {},
   "source": [
    "<a id='Statistical_Summary'></a>\n",
    "## 3.3 Statistical Summary\n",
    "Here we take a look at the summary of each attribute. This includes the count, mean, the min and max values as well as some percentiles for numeric variables."
   ]
  },
  {
   "cell_type": "markdown",
   "metadata": {},
   "source": [
    "<table align=\"left\">\n",
    "    <tr>\n",
    "        <td width=\"8%\">\n",
    "            <img src=\"key.png\">\n",
    "        </td>\n",
    "        <td>\n",
    "            <div align=\"left\", style=\"font-size:120%\">\n",
    "                    <b> In our dataset we have numerical variables. Now we check for summary statistics of all the variables<br>\n",
    "                        For numerical variables, we use .describe().\n",
    "          <br>\n",
    "                    </b>\n",
    "                </font>\n",
    "            </div>\n",
    "        </td>\n",
    "    </tr>\n",
    "</table>"
   ]
  },
  {
   "cell_type": "markdown",
   "metadata": {},
   "source": [
    "**1. For numerical variables, use .describe()**"
   ]
  },
  {
   "cell_type": "code",
   "execution_count": 29,
   "metadata": {},
   "outputs": [
    {
     "data": {
      "text/html": [
       "<div>\n",
       "<style scoped>\n",
       "    .dataframe tbody tr th:only-of-type {\n",
       "        vertical-align: middle;\n",
       "    }\n",
       "\n",
       "    .dataframe tbody tr th {\n",
       "        vertical-align: top;\n",
       "    }\n",
       "\n",
       "    .dataframe thead th {\n",
       "        text-align: right;\n",
       "    }\n",
       "</style>\n",
       "<table border=\"1\" class=\"dataframe\">\n",
       "  <thead>\n",
       "    <tr style=\"text-align: right;\">\n",
       "      <th></th>\n",
       "      <th>Orders</th>\n",
       "      <th>Jordan</th>\n",
       "      <th>Gatorade</th>\n",
       "      <th>Samsung</th>\n",
       "      <th>Asus</th>\n",
       "      <th>Udis</th>\n",
       "      <th>Mondelez International</th>\n",
       "      <th>Wrangler</th>\n",
       "      <th>Vans</th>\n",
       "      <th>Fila</th>\n",
       "      <th>...</th>\n",
       "      <th>LG</th>\n",
       "      <th>Dior</th>\n",
       "      <th>Scabal</th>\n",
       "      <th>Tommy Hilfiger</th>\n",
       "      <th>Hollister</th>\n",
       "      <th>Forever 21</th>\n",
       "      <th>Colavita</th>\n",
       "      <th>Microsoft</th>\n",
       "      <th>Jiffy mix</th>\n",
       "      <th>Kraft</th>\n",
       "    </tr>\n",
       "  </thead>\n",
       "  <tbody>\n",
       "    <tr>\n",
       "      <th>count</th>\n",
       "      <td>30000.000000</td>\n",
       "      <td>30000.000000</td>\n",
       "      <td>30000.000000</td>\n",
       "      <td>30000.000000</td>\n",
       "      <td>30000.000000</td>\n",
       "      <td>30000.000000</td>\n",
       "      <td>30000.000000</td>\n",
       "      <td>30000.000000</td>\n",
       "      <td>30000.000000</td>\n",
       "      <td>30000.000000</td>\n",
       "      <td>...</td>\n",
       "      <td>30000.000000</td>\n",
       "      <td>30000.000000</td>\n",
       "      <td>30000.000000</td>\n",
       "      <td>30000.000000</td>\n",
       "      <td>30000.000000</td>\n",
       "      <td>30000.000000</td>\n",
       "      <td>30000.000000</td>\n",
       "      <td>30000.000000</td>\n",
       "      <td>30000.000000</td>\n",
       "      <td>30000.000000</td>\n",
       "    </tr>\n",
       "    <tr>\n",
       "      <th>mean</th>\n",
       "      <td>4.169800</td>\n",
       "      <td>0.267433</td>\n",
       "      <td>0.252333</td>\n",
       "      <td>0.222933</td>\n",
       "      <td>0.161333</td>\n",
       "      <td>0.143533</td>\n",
       "      <td>0.139767</td>\n",
       "      <td>0.106933</td>\n",
       "      <td>0.111433</td>\n",
       "      <td>0.094267</td>\n",
       "      <td>...</td>\n",
       "      <td>0.102533</td>\n",
       "      <td>0.271133</td>\n",
       "      <td>0.370067</td>\n",
       "      <td>0.158967</td>\n",
       "      <td>0.077667</td>\n",
       "      <td>0.057333</td>\n",
       "      <td>0.192200</td>\n",
       "      <td>0.116367</td>\n",
       "      <td>0.088033</td>\n",
       "      <td>0.070900</td>\n",
       "    </tr>\n",
       "    <tr>\n",
       "      <th>std</th>\n",
       "      <td>3.590311</td>\n",
       "      <td>0.804778</td>\n",
       "      <td>0.705368</td>\n",
       "      <td>0.917494</td>\n",
       "      <td>0.740038</td>\n",
       "      <td>0.641258</td>\n",
       "      <td>0.525840</td>\n",
       "      <td>0.515921</td>\n",
       "      <td>0.547990</td>\n",
       "      <td>0.531592</td>\n",
       "      <td>...</td>\n",
       "      <td>0.486376</td>\n",
       "      <td>0.714682</td>\n",
       "      <td>0.758465</td>\n",
       "      <td>0.510527</td>\n",
       "      <td>0.383370</td>\n",
       "      <td>0.300082</td>\n",
       "      <td>0.641306</td>\n",
       "      <td>0.446578</td>\n",
       "      <td>0.399277</td>\n",
       "      <td>0.387915</td>\n",
       "    </tr>\n",
       "    <tr>\n",
       "      <th>min</th>\n",
       "      <td>0.000000</td>\n",
       "      <td>0.000000</td>\n",
       "      <td>0.000000</td>\n",
       "      <td>0.000000</td>\n",
       "      <td>0.000000</td>\n",
       "      <td>0.000000</td>\n",
       "      <td>0.000000</td>\n",
       "      <td>0.000000</td>\n",
       "      <td>0.000000</td>\n",
       "      <td>0.000000</td>\n",
       "      <td>...</td>\n",
       "      <td>0.000000</td>\n",
       "      <td>0.000000</td>\n",
       "      <td>0.000000</td>\n",
       "      <td>0.000000</td>\n",
       "      <td>0.000000</td>\n",
       "      <td>0.000000</td>\n",
       "      <td>0.000000</td>\n",
       "      <td>0.000000</td>\n",
       "      <td>0.000000</td>\n",
       "      <td>0.000000</td>\n",
       "    </tr>\n",
       "    <tr>\n",
       "      <th>25%</th>\n",
       "      <td>1.000000</td>\n",
       "      <td>0.000000</td>\n",
       "      <td>0.000000</td>\n",
       "      <td>0.000000</td>\n",
       "      <td>0.000000</td>\n",
       "      <td>0.000000</td>\n",
       "      <td>0.000000</td>\n",
       "      <td>0.000000</td>\n",
       "      <td>0.000000</td>\n",
       "      <td>0.000000</td>\n",
       "      <td>...</td>\n",
       "      <td>0.000000</td>\n",
       "      <td>0.000000</td>\n",
       "      <td>0.000000</td>\n",
       "      <td>0.000000</td>\n",
       "      <td>0.000000</td>\n",
       "      <td>0.000000</td>\n",
       "      <td>0.000000</td>\n",
       "      <td>0.000000</td>\n",
       "      <td>0.000000</td>\n",
       "      <td>0.000000</td>\n",
       "    </tr>\n",
       "    <tr>\n",
       "      <th>50%</th>\n",
       "      <td>4.000000</td>\n",
       "      <td>0.000000</td>\n",
       "      <td>0.000000</td>\n",
       "      <td>0.000000</td>\n",
       "      <td>0.000000</td>\n",
       "      <td>0.000000</td>\n",
       "      <td>0.000000</td>\n",
       "      <td>0.000000</td>\n",
       "      <td>0.000000</td>\n",
       "      <td>0.000000</td>\n",
       "      <td>...</td>\n",
       "      <td>0.000000</td>\n",
       "      <td>0.000000</td>\n",
       "      <td>0.000000</td>\n",
       "      <td>0.000000</td>\n",
       "      <td>0.000000</td>\n",
       "      <td>0.000000</td>\n",
       "      <td>0.000000</td>\n",
       "      <td>0.000000</td>\n",
       "      <td>0.000000</td>\n",
       "      <td>0.000000</td>\n",
       "    </tr>\n",
       "    <tr>\n",
       "      <th>75%</th>\n",
       "      <td>7.000000</td>\n",
       "      <td>0.000000</td>\n",
       "      <td>0.000000</td>\n",
       "      <td>0.000000</td>\n",
       "      <td>0.000000</td>\n",
       "      <td>0.000000</td>\n",
       "      <td>0.000000</td>\n",
       "      <td>0.000000</td>\n",
       "      <td>0.000000</td>\n",
       "      <td>0.000000</td>\n",
       "      <td>...</td>\n",
       "      <td>0.000000</td>\n",
       "      <td>0.000000</td>\n",
       "      <td>1.000000</td>\n",
       "      <td>0.000000</td>\n",
       "      <td>0.000000</td>\n",
       "      <td>0.000000</td>\n",
       "      <td>0.000000</td>\n",
       "      <td>0.000000</td>\n",
       "      <td>0.000000</td>\n",
       "      <td>0.000000</td>\n",
       "    </tr>\n",
       "    <tr>\n",
       "      <th>max</th>\n",
       "      <td>12.000000</td>\n",
       "      <td>24.000000</td>\n",
       "      <td>15.000000</td>\n",
       "      <td>27.000000</td>\n",
       "      <td>17.000000</td>\n",
       "      <td>14.000000</td>\n",
       "      <td>31.000000</td>\n",
       "      <td>9.000000</td>\n",
       "      <td>16.000000</td>\n",
       "      <td>15.000000</td>\n",
       "      <td>...</td>\n",
       "      <td>19.000000</td>\n",
       "      <td>12.000000</td>\n",
       "      <td>11.000000</td>\n",
       "      <td>8.000000</td>\n",
       "      <td>9.000000</td>\n",
       "      <td>8.000000</td>\n",
       "      <td>22.000000</td>\n",
       "      <td>14.000000</td>\n",
       "      <td>8.000000</td>\n",
       "      <td>16.000000</td>\n",
       "    </tr>\n",
       "  </tbody>\n",
       "</table>\n",
       "<p>8 rows × 36 columns</p>\n",
       "</div>"
      ],
      "text/plain": [
       "             Orders        Jordan      Gatorade       Samsung          Asus  \\\n",
       "count  30000.000000  30000.000000  30000.000000  30000.000000  30000.000000   \n",
       "mean       4.169800      0.267433      0.252333      0.222933      0.161333   \n",
       "std        3.590311      0.804778      0.705368      0.917494      0.740038   \n",
       "min        0.000000      0.000000      0.000000      0.000000      0.000000   \n",
       "25%        1.000000      0.000000      0.000000      0.000000      0.000000   \n",
       "50%        4.000000      0.000000      0.000000      0.000000      0.000000   \n",
       "75%        7.000000      0.000000      0.000000      0.000000      0.000000   \n",
       "max       12.000000     24.000000     15.000000     27.000000     17.000000   \n",
       "\n",
       "               Udis  Mondelez International      Wrangler          Vans  \\\n",
       "count  30000.000000            30000.000000  30000.000000  30000.000000   \n",
       "mean       0.143533                0.139767      0.106933      0.111433   \n",
       "std        0.641258                0.525840      0.515921      0.547990   \n",
       "min        0.000000                0.000000      0.000000      0.000000   \n",
       "25%        0.000000                0.000000      0.000000      0.000000   \n",
       "50%        0.000000                0.000000      0.000000      0.000000   \n",
       "75%        0.000000                0.000000      0.000000      0.000000   \n",
       "max       14.000000               31.000000      9.000000     16.000000   \n",
       "\n",
       "               Fila  ...            LG          Dior        Scabal  \\\n",
       "count  30000.000000  ...  30000.000000  30000.000000  30000.000000   \n",
       "mean       0.094267  ...      0.102533      0.271133      0.370067   \n",
       "std        0.531592  ...      0.486376      0.714682      0.758465   \n",
       "min        0.000000  ...      0.000000      0.000000      0.000000   \n",
       "25%        0.000000  ...      0.000000      0.000000      0.000000   \n",
       "50%        0.000000  ...      0.000000      0.000000      0.000000   \n",
       "75%        0.000000  ...      0.000000      0.000000      1.000000   \n",
       "max       15.000000  ...     19.000000     12.000000     11.000000   \n",
       "\n",
       "       Tommy Hilfiger     Hollister    Forever 21      Colavita     Microsoft  \\\n",
       "count    30000.000000  30000.000000  30000.000000  30000.000000  30000.000000   \n",
       "mean         0.158967      0.077667      0.057333      0.192200      0.116367   \n",
       "std          0.510527      0.383370      0.300082      0.641306      0.446578   \n",
       "min          0.000000      0.000000      0.000000      0.000000      0.000000   \n",
       "25%          0.000000      0.000000      0.000000      0.000000      0.000000   \n",
       "50%          0.000000      0.000000      0.000000      0.000000      0.000000   \n",
       "75%          0.000000      0.000000      0.000000      0.000000      0.000000   \n",
       "max          8.000000      9.000000      8.000000     22.000000     14.000000   \n",
       "\n",
       "          Jiffy mix         Kraft  \n",
       "count  30000.000000  30000.000000  \n",
       "mean       0.088033      0.070900  \n",
       "std        0.399277      0.387915  \n",
       "min        0.000000      0.000000  \n",
       "25%        0.000000      0.000000  \n",
       "50%        0.000000      0.000000  \n",
       "75%        0.000000      0.000000  \n",
       "max        8.000000     16.000000  \n",
       "\n",
       "[8 rows x 36 columns]"
      ]
     },
     "execution_count": 29,
     "metadata": {},
     "output_type": "execute_result"
    }
   ],
   "source": [
    "# data frame with numerical features\n",
    "raw_data.describe()"
   ]
  },
  {
   "cell_type": "markdown",
   "metadata": {},
   "source": [
    "<table align=\"left\">\n",
    "    <tr>\n",
    "        <td width=\"8%\">\n",
    "            <img src=\"note.png\">\n",
    "        </td>\n",
    "        <td>\n",
    "            <div align=\"left\", style=\"font-size:120%\">\n",
    "                <b>The above output illustrates the summary statistics of the numeric variables.<br>\n",
    "                        The customers have placed 4 orders on an average with minimum zero orders and maximum of 12.<br>\n",
    "                        From the summary output, it can be seen that the considered dataset is sparse; since, for all the variables with brand searches, 75% of the observations are 0\n",
    "                </b>     \n",
    "                </font>\n",
    "            </div>\n",
    "        </td>\n",
    "    </tr>\n",
    "</table>"
   ]
  },
  {
   "cell_type": "markdown",
   "metadata": {},
   "source": [
    "**2. For categorical variables, use .describe(include=object)**"
   ]
  },
  {
   "cell_type": "code",
   "execution_count": 30,
   "metadata": {},
   "outputs": [
    {
     "data": {
      "text/html": [
       "<div>\n",
       "<style scoped>\n",
       "    .dataframe tbody tr th:only-of-type {\n",
       "        vertical-align: middle;\n",
       "    }\n",
       "\n",
       "    .dataframe tbody tr th {\n",
       "        vertical-align: top;\n",
       "    }\n",
       "\n",
       "    .dataframe thead th {\n",
       "        text-align: right;\n",
       "    }\n",
       "</style>\n",
       "<table border=\"1\" class=\"dataframe\">\n",
       "  <thead>\n",
       "    <tr style=\"text-align: right;\">\n",
       "      <th></th>\n",
       "      <th>Gender</th>\n",
       "    </tr>\n",
       "  </thead>\n",
       "  <tbody>\n",
       "    <tr>\n",
       "      <th>count</th>\n",
       "      <td>27276</td>\n",
       "    </tr>\n",
       "    <tr>\n",
       "      <th>unique</th>\n",
       "      <td>2</td>\n",
       "    </tr>\n",
       "    <tr>\n",
       "      <th>top</th>\n",
       "      <td>F</td>\n",
       "    </tr>\n",
       "    <tr>\n",
       "      <th>freq</th>\n",
       "      <td>22054</td>\n",
       "    </tr>\n",
       "  </tbody>\n",
       "</table>\n",
       "</div>"
      ],
      "text/plain": [
       "       Gender\n",
       "count   27276\n",
       "unique      2\n",
       "top         F\n",
       "freq    22054"
      ]
     },
     "execution_count": 30,
     "metadata": {},
     "output_type": "execute_result"
    }
   ],
   "source": [
    "# summary of the categorical variables\n",
    "raw_data.describe(include = object)\n",
    "\n",
    "# Note: If we pass 'include=object' to the .describe() function returns descriptive statistics for categorical variables only"
   ]
  },
  {
   "cell_type": "markdown",
   "metadata": {},
   "source": [
    "<table align=\"left\">\n",
    "    <tr>\n",
    "        <td width=\"8%\">\n",
    "            <img src=\"note.png\">\n",
    "        </td>\n",
    "        <td>\n",
    "            <div align=\"left\", style=\"font-size:120%\">\n",
    "                <b>The summary contains information about the total number of observations, number of unique classes, the most occurring class and frequency of the same.<br> It can be seen that the mode of the variable 'Gender' is F with 22054 observations\n",
    "                </b>     \n",
    "                </font>\n",
    "            </div>\n",
    "        </td>\n",
    "    </tr>\n",
    "</table>"
   ]
  },
  {
   "cell_type": "markdown",
   "metadata": {},
   "source": [
    "<a id='Missing_Data_Treatment'></a>\n",
    "## 3.4. Missing Data Treatment\n",
    "If the missing values are not handled properly we may end up drawing an inaccurate inference about the data. Due to improper handling, the result obtained will differ from the ones where the missing values are present.\n"
   ]
  },
  {
   "cell_type": "markdown",
   "metadata": {},
   "source": [
    "<table align=\"left\">\n",
    "    <tr>\n",
    "        <td width=\"8%\">\n",
    "            <img src=\"key.png\">\n",
    "        </td>\n",
    "        <td>\n",
    "            <div align=\"left\", style=\"font-size:120%\">\n",
    "                    <b>In order to get the count of missing values in each column, we use the in-built function .isnull().sum()\n",
    "                    </b>\n",
    "                </font>\n",
    "            </div>\n",
    "        </td>\n",
    "    </tr>\n",
    "</table>"
   ]
  },
  {
   "cell_type": "code",
   "execution_count": 31,
   "metadata": {},
   "outputs": [
    {
     "data": {
      "text/html": [
       "<div>\n",
       "<style scoped>\n",
       "    .dataframe tbody tr th:only-of-type {\n",
       "        vertical-align: middle;\n",
       "    }\n",
       "\n",
       "    .dataframe tbody tr th {\n",
       "        vertical-align: top;\n",
       "    }\n",
       "\n",
       "    .dataframe thead th {\n",
       "        text-align: right;\n",
       "    }\n",
       "</style>\n",
       "<table border=\"1\" class=\"dataframe\">\n",
       "  <thead>\n",
       "    <tr style=\"text-align: right;\">\n",
       "      <th></th>\n",
       "      <th>Total</th>\n",
       "      <th>Percent</th>\n",
       "    </tr>\n",
       "  </thead>\n",
       "  <tbody>\n",
       "    <tr>\n",
       "      <th>Gender</th>\n",
       "      <td>2724</td>\n",
       "      <td>9.08</td>\n",
       "    </tr>\n",
       "    <tr>\n",
       "      <th>Asics</th>\n",
       "      <td>0</td>\n",
       "      <td>0.00</td>\n",
       "    </tr>\n",
       "    <tr>\n",
       "      <th>Hewlett Packard</th>\n",
       "      <td>0</td>\n",
       "      <td>0.00</td>\n",
       "    </tr>\n",
       "    <tr>\n",
       "      <th>Fendi</th>\n",
       "      <td>0</td>\n",
       "      <td>0.00</td>\n",
       "    </tr>\n",
       "    <tr>\n",
       "      <th>Dairy Queen</th>\n",
       "      <td>0</td>\n",
       "      <td>0.00</td>\n",
       "    </tr>\n",
       "    <tr>\n",
       "      <th>H&amp;M</th>\n",
       "      <td>0</td>\n",
       "      <td>0.00</td>\n",
       "    </tr>\n",
       "    <tr>\n",
       "      <th>Brooks</th>\n",
       "      <td>0</td>\n",
       "      <td>0.00</td>\n",
       "    </tr>\n",
       "    <tr>\n",
       "      <th>Fila</th>\n",
       "      <td>0</td>\n",
       "      <td>0.00</td>\n",
       "    </tr>\n",
       "    <tr>\n",
       "      <th>Vans</th>\n",
       "      <td>0</td>\n",
       "      <td>0.00</td>\n",
       "    </tr>\n",
       "    <tr>\n",
       "      <th>Wrangler</th>\n",
       "      <td>0</td>\n",
       "      <td>0.00</td>\n",
       "    </tr>\n",
       "    <tr>\n",
       "      <th>Mondelez International</th>\n",
       "      <td>0</td>\n",
       "      <td>0.00</td>\n",
       "    </tr>\n",
       "    <tr>\n",
       "      <th>Udis</th>\n",
       "      <td>0</td>\n",
       "      <td>0.00</td>\n",
       "    </tr>\n",
       "    <tr>\n",
       "      <th>Asus</th>\n",
       "      <td>0</td>\n",
       "      <td>0.00</td>\n",
       "    </tr>\n",
       "    <tr>\n",
       "      <th>Samsung</th>\n",
       "      <td>0</td>\n",
       "      <td>0.00</td>\n",
       "    </tr>\n",
       "    <tr>\n",
       "      <th>Gatorade</th>\n",
       "      <td>0</td>\n",
       "      <td>0.00</td>\n",
       "    </tr>\n",
       "    <tr>\n",
       "      <th>Jordan</th>\n",
       "      <td>0</td>\n",
       "      <td>0.00</td>\n",
       "    </tr>\n",
       "    <tr>\n",
       "      <th>Orders</th>\n",
       "      <td>0</td>\n",
       "      <td>0.00</td>\n",
       "    </tr>\n",
       "    <tr>\n",
       "      <th>Pladis</th>\n",
       "      <td>0</td>\n",
       "      <td>0.00</td>\n",
       "    </tr>\n",
       "    <tr>\n",
       "      <th>Kraft</th>\n",
       "      <td>0</td>\n",
       "      <td>0.00</td>\n",
       "    </tr>\n",
       "    <tr>\n",
       "      <th>Jiffy mix</th>\n",
       "      <td>0</td>\n",
       "      <td>0.00</td>\n",
       "    </tr>\n",
       "    <tr>\n",
       "      <th>J.M. Smucker</th>\n",
       "      <td>0</td>\n",
       "      <td>0.00</td>\n",
       "    </tr>\n",
       "    <tr>\n",
       "      <th>Microsoft</th>\n",
       "      <td>0</td>\n",
       "      <td>0.00</td>\n",
       "    </tr>\n",
       "    <tr>\n",
       "      <th>Colavita</th>\n",
       "      <td>0</td>\n",
       "      <td>0.00</td>\n",
       "    </tr>\n",
       "    <tr>\n",
       "      <th>Forever 21</th>\n",
       "      <td>0</td>\n",
       "      <td>0.00</td>\n",
       "    </tr>\n",
       "    <tr>\n",
       "      <th>Hollister</th>\n",
       "      <td>0</td>\n",
       "      <td>0.00</td>\n",
       "    </tr>\n",
       "    <tr>\n",
       "      <th>Tommy Hilfiger</th>\n",
       "      <td>0</td>\n",
       "      <td>0.00</td>\n",
       "    </tr>\n",
       "    <tr>\n",
       "      <th>Scabal</th>\n",
       "      <td>0</td>\n",
       "      <td>0.00</td>\n",
       "    </tr>\n",
       "    <tr>\n",
       "      <th>Dior</th>\n",
       "      <td>0</td>\n",
       "      <td>0.00</td>\n",
       "    </tr>\n",
       "    <tr>\n",
       "      <th>LG</th>\n",
       "      <td>0</td>\n",
       "      <td>0.00</td>\n",
       "    </tr>\n",
       "    <tr>\n",
       "      <th>Mi</th>\n",
       "      <td>0</td>\n",
       "      <td>0.00</td>\n",
       "    </tr>\n",
       "    <tr>\n",
       "      <th>Burberry</th>\n",
       "      <td>0</td>\n",
       "      <td>0.00</td>\n",
       "    </tr>\n",
       "    <tr>\n",
       "      <th>IBM</th>\n",
       "      <td>0</td>\n",
       "      <td>0.00</td>\n",
       "    </tr>\n",
       "    <tr>\n",
       "      <th>Compaq</th>\n",
       "      <td>0</td>\n",
       "      <td>0.00</td>\n",
       "    </tr>\n",
       "    <tr>\n",
       "      <th>Huawei</th>\n",
       "      <td>0</td>\n",
       "      <td>0.00</td>\n",
       "    </tr>\n",
       "    <tr>\n",
       "      <th>Juniper</th>\n",
       "      <td>0</td>\n",
       "      <td>0.00</td>\n",
       "    </tr>\n",
       "    <tr>\n",
       "      <th>Pop Chips</th>\n",
       "      <td>0</td>\n",
       "      <td>0.00</td>\n",
       "    </tr>\n",
       "    <tr>\n",
       "      <th>Siemens</th>\n",
       "      <td>0</td>\n",
       "      <td>0.00</td>\n",
       "    </tr>\n",
       "  </tbody>\n",
       "</table>\n",
       "</div>"
      ],
      "text/plain": [
       "                        Total  Percent\n",
       "Gender                   2724     9.08\n",
       "Asics                       0     0.00\n",
       "Hewlett Packard             0     0.00\n",
       "Fendi                       0     0.00\n",
       "Dairy Queen                 0     0.00\n",
       "H&M                         0     0.00\n",
       "Brooks                      0     0.00\n",
       "Fila                        0     0.00\n",
       "Vans                        0     0.00\n",
       "Wrangler                    0     0.00\n",
       "Mondelez International      0     0.00\n",
       "Udis                        0     0.00\n",
       "Asus                        0     0.00\n",
       "Samsung                     0     0.00\n",
       "Gatorade                    0     0.00\n",
       "Jordan                      0     0.00\n",
       "Orders                      0     0.00\n",
       "Pladis                      0     0.00\n",
       "Kraft                       0     0.00\n",
       "Jiffy mix                   0     0.00\n",
       "J.M. Smucker                0     0.00\n",
       "Microsoft                   0     0.00\n",
       "Colavita                    0     0.00\n",
       "Forever 21                  0     0.00\n",
       "Hollister                   0     0.00\n",
       "Tommy Hilfiger              0     0.00\n",
       "Scabal                      0     0.00\n",
       "Dior                        0     0.00\n",
       "LG                          0     0.00\n",
       "Mi                          0     0.00\n",
       "Burberry                    0     0.00\n",
       "IBM                         0     0.00\n",
       "Compaq                      0     0.00\n",
       "Huawei                      0     0.00\n",
       "Juniper                     0     0.00\n",
       "Pop Chips                   0     0.00\n",
       "Siemens                     0     0.00"
      ]
     },
     "execution_count": 31,
     "metadata": {},
     "output_type": "execute_result"
    }
   ],
   "source": [
    "# sorting variables based on null values\n",
    "# 'ascending = False' sorts values in the descending order\n",
    "Total = raw_data.isnull().sum().sort_values(ascending=False)          \n",
    "\n",
    "# percentage of missing values\n",
    "Percent = (raw_data.isnull().sum()/raw_data.isnull().count()*100).sort_values(ascending=False)   \n",
    "\n",
    "# create a dataframe using 'concat' function \n",
    "# 'keys' is the list of column names\n",
    "# 'axis = 1' concats along the columns\n",
    "missing_data = pd.concat([Total, Percent], axis=1, keys=['Total', 'Percent'])    \n",
    "missing_data"
   ]
  },
  {
   "cell_type": "markdown",
   "metadata": {},
   "source": [
    "<table align=\"left\">\n",
    "    <tr>\n",
    "        <td width=\"8%\">\n",
    "            <img src=\"note.png\">\n",
    "        </td>\n",
    "        <td>\n",
    "            <div align=\"left\", style=\"font-size:120%\">\n",
    "                <b> Only the variable 'Gender' has 9% of missing values \n",
    "                </b>     \n",
    "                </font>\n",
    "            </div>\n",
    "        </td>\n",
    "    </tr>\n",
    "</table>"
   ]
  },
  {
   "cell_type": "markdown",
   "metadata": {},
   "source": [
    "**We plot a heatmap for visualization of missing values**"
   ]
  },
  {
   "cell_type": "code",
   "execution_count": 32,
   "metadata": {},
   "outputs": [
    {
     "data": {
      "image/png": "[encoded data removed]",
      "text/plain": [
       "<Figure size 432x288 with 1 Axes>"
      ]
     },
     "metadata": {},
     "output_type": "display_data"
    }
   ],
   "source": [
    "# plot heatmap to check null values\n",
    "# 'cbar = False' does not show the color axis \n",
    "sns.heatmap(raw_data.isnull(), cbar=False)\n",
    "\n",
    "# set the axes and plot labels\n",
    "# set the font size using 'fontsize'\n",
    "plt.title('Heatmap for Missing Values', fontsize = 15)\n",
    "plt.xlabel('Variables', fontsize = 15)\n",
    "plt.ylabel('Cust_ID', fontsize = 15)\n",
    "\n",
    "plt.show()"
   ]
  },
  {
   "cell_type": "markdown",
   "metadata": {},
   "source": [
    "**The horizontal lines in the heatmap correspond to the missing values**"
   ]
  },
  {
   "cell_type": "markdown",
   "metadata": {},
   "source": [
    "<table align=\"left\">\n",
    "    <tr>\n",
    "        <td width=\"8%\">\n",
    "            <img src=\"key.png\">\n",
    "        </td>\n",
    "        <td>\n",
    "            <div align=\"left\", style=\"font-size:120%\">\n",
    "                    <b>How to deal with missing data?<br><br>\n",
    "Drop data<br>\n",
    "a. Drop the whole row<br>\n",
    "b. Drop the whole column<br><br>\n",
    "Replace data<br>\n",
    "a. Replace it by mean<br>\n",
    "b. Replace it by frequency<br>\n",
    "c. Replace it based on other functions<br><br>\n",
    "Whole columns should be dropped only if most entries in the column are empty. In our dataset, none of the columns are empty enough to drop entirely. We have some freedom in choosing which method to replace data \n",
    "                </b>\n",
    "                </font>\n",
    "            </div>\n",
    "        </td>\n",
    "    </tr>\n",
    "</table>"
   ]
  },
  {
   "cell_type": "markdown",
   "metadata": {},
   "source": [
    "#### Replace missing values in 'Gender'\n",
    "\n",
    "'Gender' is a categorical variable with categories, 'M' and 'F'. We have 2724 customers whose gender is not known to us. To deal with this, we perform dummy encoding for the variable  "
   ]
  },
  {
   "cell_type": "code",
   "execution_count": 33,
   "metadata": {},
   "outputs": [
    {
     "data": {
      "text/html": [
       "<div>\n",
       "<style scoped>\n",
       "    .dataframe tbody tr th:only-of-type {\n",
       "        vertical-align: middle;\n",
       "    }\n",
       "\n",
       "    .dataframe tbody tr th {\n",
       "        vertical-align: top;\n",
       "    }\n",
       "\n",
       "    .dataframe thead th {\n",
       "        text-align: right;\n",
       "    }\n",
       "</style>\n",
       "<table border=\"1\" class=\"dataframe\">\n",
       "  <thead>\n",
       "    <tr style=\"text-align: right;\">\n",
       "      <th></th>\n",
       "      <th>Orders</th>\n",
       "      <th>Jordan</th>\n",
       "      <th>Gatorade</th>\n",
       "      <th>Samsung</th>\n",
       "      <th>Asus</th>\n",
       "      <th>Udis</th>\n",
       "      <th>Mondelez International</th>\n",
       "      <th>Wrangler</th>\n",
       "      <th>Vans</th>\n",
       "      <th>Fila</th>\n",
       "      <th>...</th>\n",
       "      <th>Scabal</th>\n",
       "      <th>Tommy Hilfiger</th>\n",
       "      <th>Hollister</th>\n",
       "      <th>Forever 21</th>\n",
       "      <th>Colavita</th>\n",
       "      <th>Microsoft</th>\n",
       "      <th>Jiffy mix</th>\n",
       "      <th>Kraft</th>\n",
       "      <th>Gender_F</th>\n",
       "      <th>Gender_M</th>\n",
       "    </tr>\n",
       "    <tr>\n",
       "      <th>Cust_ID</th>\n",
       "      <th></th>\n",
       "      <th></th>\n",
       "      <th></th>\n",
       "      <th></th>\n",
       "      <th></th>\n",
       "      <th></th>\n",
       "      <th></th>\n",
       "      <th></th>\n",
       "      <th></th>\n",
       "      <th></th>\n",
       "      <th></th>\n",
       "      <th></th>\n",
       "      <th></th>\n",
       "      <th></th>\n",
       "      <th></th>\n",
       "      <th></th>\n",
       "      <th></th>\n",
       "      <th></th>\n",
       "      <th></th>\n",
       "      <th></th>\n",
       "      <th></th>\n",
       "    </tr>\n",
       "  </thead>\n",
       "  <tbody>\n",
       "    <tr>\n",
       "      <th>1</th>\n",
       "      <td>7</td>\n",
       "      <td>0</td>\n",
       "      <td>0</td>\n",
       "      <td>0</td>\n",
       "      <td>0</td>\n",
       "      <td>0</td>\n",
       "      <td>0</td>\n",
       "      <td>0</td>\n",
       "      <td>2</td>\n",
       "      <td>0</td>\n",
       "      <td>...</td>\n",
       "      <td>0</td>\n",
       "      <td>0</td>\n",
       "      <td>0</td>\n",
       "      <td>0</td>\n",
       "      <td>0</td>\n",
       "      <td>0</td>\n",
       "      <td>0</td>\n",
       "      <td>0</td>\n",
       "      <td>0</td>\n",
       "      <td>1</td>\n",
       "    </tr>\n",
       "    <tr>\n",
       "      <th>2</th>\n",
       "      <td>0</td>\n",
       "      <td>0</td>\n",
       "      <td>1</td>\n",
       "      <td>0</td>\n",
       "      <td>0</td>\n",
       "      <td>0</td>\n",
       "      <td>0</td>\n",
       "      <td>0</td>\n",
       "      <td>0</td>\n",
       "      <td>0</td>\n",
       "      <td>...</td>\n",
       "      <td>0</td>\n",
       "      <td>0</td>\n",
       "      <td>0</td>\n",
       "      <td>0</td>\n",
       "      <td>0</td>\n",
       "      <td>0</td>\n",
       "      <td>0</td>\n",
       "      <td>0</td>\n",
       "      <td>1</td>\n",
       "      <td>0</td>\n",
       "    </tr>\n",
       "    <tr>\n",
       "      <th>3</th>\n",
       "      <td>7</td>\n",
       "      <td>0</td>\n",
       "      <td>1</td>\n",
       "      <td>0</td>\n",
       "      <td>0</td>\n",
       "      <td>0</td>\n",
       "      <td>0</td>\n",
       "      <td>0</td>\n",
       "      <td>0</td>\n",
       "      <td>0</td>\n",
       "      <td>...</td>\n",
       "      <td>0</td>\n",
       "      <td>0</td>\n",
       "      <td>0</td>\n",
       "      <td>0</td>\n",
       "      <td>0</td>\n",
       "      <td>1</td>\n",
       "      <td>0</td>\n",
       "      <td>0</td>\n",
       "      <td>0</td>\n",
       "      <td>1</td>\n",
       "    </tr>\n",
       "    <tr>\n",
       "      <th>4</th>\n",
       "      <td>0</td>\n",
       "      <td>0</td>\n",
       "      <td>0</td>\n",
       "      <td>0</td>\n",
       "      <td>0</td>\n",
       "      <td>0</td>\n",
       "      <td>0</td>\n",
       "      <td>0</td>\n",
       "      <td>0</td>\n",
       "      <td>0</td>\n",
       "      <td>...</td>\n",
       "      <td>0</td>\n",
       "      <td>0</td>\n",
       "      <td>0</td>\n",
       "      <td>0</td>\n",
       "      <td>0</td>\n",
       "      <td>0</td>\n",
       "      <td>0</td>\n",
       "      <td>0</td>\n",
       "      <td>1</td>\n",
       "      <td>0</td>\n",
       "    </tr>\n",
       "    <tr>\n",
       "      <th>5</th>\n",
       "      <td>10</td>\n",
       "      <td>0</td>\n",
       "      <td>0</td>\n",
       "      <td>0</td>\n",
       "      <td>0</td>\n",
       "      <td>0</td>\n",
       "      <td>0</td>\n",
       "      <td>0</td>\n",
       "      <td>0</td>\n",
       "      <td>0</td>\n",
       "      <td>...</td>\n",
       "      <td>2</td>\n",
       "      <td>0</td>\n",
       "      <td>0</td>\n",
       "      <td>0</td>\n",
       "      <td>0</td>\n",
       "      <td>0</td>\n",
       "      <td>1</td>\n",
       "      <td>1</td>\n",
       "      <td>0</td>\n",
       "      <td>0</td>\n",
       "    </tr>\n",
       "  </tbody>\n",
       "</table>\n",
       "<p>5 rows × 38 columns</p>\n",
       "</div>"
      ],
      "text/plain": [
       "         Orders  Jordan  Gatorade  Samsung  Asus  Udis  \\\n",
       "Cust_ID                                                  \n",
       "1             7       0         0        0     0     0   \n",
       "2             0       0         1        0     0     0   \n",
       "3             7       0         1        0     0     0   \n",
       "4             0       0         0        0     0     0   \n",
       "5            10       0         0        0     0     0   \n",
       "\n",
       "         Mondelez International  Wrangler  Vans  Fila  ...  Scabal  \\\n",
       "Cust_ID                                                ...           \n",
       "1                             0         0     2     0  ...       0   \n",
       "2                             0         0     0     0  ...       0   \n",
       "3                             0         0     0     0  ...       0   \n",
       "4                             0         0     0     0  ...       0   \n",
       "5                             0         0     0     0  ...       2   \n",
       "\n",
       "         Tommy Hilfiger  Hollister  Forever 21  Colavita  Microsoft  \\\n",
       "Cust_ID                                                               \n",
       "1                     0          0           0         0          0   \n",
       "2                     0          0           0         0          0   \n",
       "3                     0          0           0         0          1   \n",
       "4                     0          0           0         0          0   \n",
       "5                     0          0           0         0          0   \n",
       "\n",
       "         Jiffy mix  Kraft  Gender_F  Gender_M  \n",
       "Cust_ID                                        \n",
       "1                0      0         0         1  \n",
       "2                0      0         1         0  \n",
       "3                0      0         0         1  \n",
       "4                0      0         1         0  \n",
       "5                1      1         0         0  \n",
       "\n",
       "[5 rows x 38 columns]"
      ]
     },
     "execution_count": 33,
     "metadata": {},
     "output_type": "execute_result"
    }
   ],
   "source": [
    "# create dummies against 'gender'\n",
    "data = pd.get_dummies(raw_data,columns=['Gender'])     \n",
    "\n",
    "# head() to display top five rows\n",
    "data.head()"
   ]
  },
  {
   "cell_type": "code",
   "execution_count": 34,
   "metadata": {},
   "outputs": [
    {
     "data": {
      "text/plain": [
       "(30000, 38)"
      ]
     },
     "execution_count": 34,
     "metadata": {},
     "output_type": "execute_result"
    }
   ],
   "source": [
    "# check the dimensions after dummy encoding\n",
    "data.shape"
   ]
  },
  {
   "cell_type": "markdown",
   "metadata": {},
   "source": [
    "**We see the dataframe has 38 columns and 30000 observations**"
   ]
  },
  {
   "cell_type": "markdown",
   "metadata": {},
   "source": [
    "<table align=\"left\">\n",
    "    <tr>\n",
    "        <td width=\"8%\">\n",
    "            <img src=\"note.png\">\n",
    "        </td>\n",
    "        <td>\n",
    "            <div align=\"left\", style=\"font-size:120%\">\n",
    "<b>Gender_F' and 'Gender_M' are the two newly created variables that do not possess any missing value. The customer for which both the columns have '0' value indicates that the gender is not known </b>     </font>\n",
    "            </div>\n",
    "        </td>\n",
    "    </tr>\n",
    "</table>"
   ]
  },
  {
   "cell_type": "code",
   "execution_count": 35,
   "metadata": {},
   "outputs": [
    {
     "data": {
      "text/plain": [
       "Orders                    0\n",
       "Jordan                    0\n",
       "Gatorade                  0\n",
       "Samsung                   0\n",
       "Asus                      0\n",
       "Udis                      0\n",
       "Mondelez International    0\n",
       "Wrangler                  0\n",
       "Vans                      0\n",
       "Fila                      0\n",
       "Brooks                    0\n",
       "H&M                       0\n",
       "Dairy Queen               0\n",
       "Fendi                     0\n",
       "Hewlett Packard           0\n",
       "Pladis                    0\n",
       "Asics                     0\n",
       "Siemens                   0\n",
       "J.M. Smucker              0\n",
       "Pop Chips                 0\n",
       "Juniper                   0\n",
       "Huawei                    0\n",
       "Compaq                    0\n",
       "IBM                       0\n",
       "Burberry                  0\n",
       "Mi                        0\n",
       "LG                        0\n",
       "Dior                      0\n",
       "Scabal                    0\n",
       "Tommy Hilfiger            0\n",
       "Hollister                 0\n",
       "Forever 21                0\n",
       "Colavita                  0\n",
       "Microsoft                 0\n",
       "Jiffy mix                 0\n",
       "Kraft                     0\n",
       "Gender_F                  0\n",
       "Gender_M                  0\n",
       "dtype: int64"
      ]
     },
     "execution_count": 35,
     "metadata": {},
     "output_type": "execute_result"
    }
   ],
   "source": [
    "# recheck the null values\n",
    "data.isnull().sum()"
   ]
  },
  {
   "cell_type": "markdown",
   "metadata": {},
   "source": [
    "There are no missing values present in the data."
   ]
  },
  {
   "cell_type": "markdown",
   "metadata": {},
   "source": [
    "<a id='Visualization'></a>\n",
    "## 3.5. Visualization\n"
   ]
  },
  {
   "cell_type": "markdown",
   "metadata": {},
   "source": [
    "**PDF's of features**"
   ]
  },
  {
   "cell_type": "code",
   "execution_count": 36,
   "metadata": {
    "scrolled": true
   },
   "outputs": [
    {
     "data": {
      "image/png": "[encoded data removed]",
      "text/plain": [
       "<Figure size 1296x1296 with 42 Axes>"
      ]
     },
     "metadata": {},
     "output_type": "display_data"
    }
   ],
   "source": [
    "fig = data.hist(figsize = (18,18))\n"
   ]
  },
  {
   "cell_type": "markdown",
   "metadata": {},
   "source": [
    "<a id='modeling'></a>\n",
    "# 4. K-means Clustering\n"
   ]
  },
  {
   "cell_type": "markdown",
   "metadata": {},
   "source": [
    "Centroid-based clustering algorithms cluster the data into non-hierarchical clusters. Such algorithms are efficient but sensitive to initial conditions and outliers. K-means is the most widely-used centroid-based clustering algorithm"
   ]
  },
  {
   "cell_type": "markdown",
   "metadata": {},
   "source": [
    "<a id='preparation_of_data'></a>\n",
    "## 4.1 Prepare the Data\n",
    "\n",
    "Feature scaling is used to transform all the variables in the same range. If the variables are not in the same range, then the variable with higher values can dominate our final result. \n",
    "\n",
    "The two most discussed scaling methods are normalization and standardization. \n",
    "\n"
   ]
  },
  {
   "cell_type": "markdown",
   "metadata": {},
   "source": [
    "<table align=\"left\">\n",
    "    <tr>\n",
    "        <td width=\"8%\">\n",
    "            <img src=\"key.png\">\n",
    "        </td>\n",
    "        <td>\n",
    "            <div align=\"left\", style=\"font-size:120%\">\n",
    "                    <b> We consider only the brand names to segment the customers. Thus, drop the variables 'Orders', 'Gender_F', 'Gender_M' and scale the remaining variables\n",
    "                      </b>\n",
    "                </font>\n",
    "            </div>\n",
    "        </td>\n",
    "    </tr>\n",
    "</table>"
   ]
  },
  {
   "cell_type": "code",
   "execution_count": 37,
   "metadata": {},
   "outputs": [
    {
     "data": {
      "text/html": [
       "<div>\n",
       "<style scoped>\n",
       "    .dataframe tbody tr th:only-of-type {\n",
       "        vertical-align: middle;\n",
       "    }\n",
       "\n",
       "    .dataframe tbody tr th {\n",
       "        vertical-align: top;\n",
       "    }\n",
       "\n",
       "    .dataframe thead th {\n",
       "        text-align: right;\n",
       "    }\n",
       "</style>\n",
       "<table border=\"1\" class=\"dataframe\">\n",
       "  <thead>\n",
       "    <tr style=\"text-align: right;\">\n",
       "      <th></th>\n",
       "      <th>Jordan</th>\n",
       "      <th>Gatorade</th>\n",
       "      <th>Samsung</th>\n",
       "      <th>Asus</th>\n",
       "      <th>Udis</th>\n",
       "      <th>Mondelez International</th>\n",
       "      <th>Wrangler</th>\n",
       "      <th>Vans</th>\n",
       "      <th>Fila</th>\n",
       "      <th>Brooks</th>\n",
       "      <th>...</th>\n",
       "      <th>LG</th>\n",
       "      <th>Dior</th>\n",
       "      <th>Scabal</th>\n",
       "      <th>Tommy Hilfiger</th>\n",
       "      <th>Hollister</th>\n",
       "      <th>Forever 21</th>\n",
       "      <th>Colavita</th>\n",
       "      <th>Microsoft</th>\n",
       "      <th>Jiffy mix</th>\n",
       "      <th>Kraft</th>\n",
       "    </tr>\n",
       "    <tr>\n",
       "      <th>Cust_ID</th>\n",
       "      <th></th>\n",
       "      <th></th>\n",
       "      <th></th>\n",
       "      <th></th>\n",
       "      <th></th>\n",
       "      <th></th>\n",
       "      <th></th>\n",
       "      <th></th>\n",
       "      <th></th>\n",
       "      <th></th>\n",
       "      <th></th>\n",
       "      <th></th>\n",
       "      <th></th>\n",
       "      <th></th>\n",
       "      <th></th>\n",
       "      <th></th>\n",
       "      <th></th>\n",
       "      <th></th>\n",
       "      <th></th>\n",
       "      <th></th>\n",
       "      <th></th>\n",
       "    </tr>\n",
       "  </thead>\n",
       "  <tbody>\n",
       "    <tr>\n",
       "      <th>1</th>\n",
       "      <td>0</td>\n",
       "      <td>0</td>\n",
       "      <td>0</td>\n",
       "      <td>0</td>\n",
       "      <td>0</td>\n",
       "      <td>0</td>\n",
       "      <td>0</td>\n",
       "      <td>2</td>\n",
       "      <td>0</td>\n",
       "      <td>0</td>\n",
       "      <td>...</td>\n",
       "      <td>0</td>\n",
       "      <td>0</td>\n",
       "      <td>0</td>\n",
       "      <td>0</td>\n",
       "      <td>0</td>\n",
       "      <td>0</td>\n",
       "      <td>0</td>\n",
       "      <td>0</td>\n",
       "      <td>0</td>\n",
       "      <td>0</td>\n",
       "    </tr>\n",
       "    <tr>\n",
       "      <th>2</th>\n",
       "      <td>0</td>\n",
       "      <td>1</td>\n",
       "      <td>0</td>\n",
       "      <td>0</td>\n",
       "      <td>0</td>\n",
       "      <td>0</td>\n",
       "      <td>0</td>\n",
       "      <td>0</td>\n",
       "      <td>0</td>\n",
       "      <td>0</td>\n",
       "      <td>...</td>\n",
       "      <td>0</td>\n",
       "      <td>1</td>\n",
       "      <td>0</td>\n",
       "      <td>0</td>\n",
       "      <td>0</td>\n",
       "      <td>0</td>\n",
       "      <td>0</td>\n",
       "      <td>0</td>\n",
       "      <td>0</td>\n",
       "      <td>0</td>\n",
       "    </tr>\n",
       "    <tr>\n",
       "      <th>3</th>\n",
       "      <td>0</td>\n",
       "      <td>1</td>\n",
       "      <td>0</td>\n",
       "      <td>0</td>\n",
       "      <td>0</td>\n",
       "      <td>0</td>\n",
       "      <td>0</td>\n",
       "      <td>0</td>\n",
       "      <td>0</td>\n",
       "      <td>0</td>\n",
       "      <td>...</td>\n",
       "      <td>0</td>\n",
       "      <td>0</td>\n",
       "      <td>0</td>\n",
       "      <td>0</td>\n",
       "      <td>0</td>\n",
       "      <td>0</td>\n",
       "      <td>0</td>\n",
       "      <td>1</td>\n",
       "      <td>0</td>\n",
       "      <td>0</td>\n",
       "    </tr>\n",
       "    <tr>\n",
       "      <th>4</th>\n",
       "      <td>0</td>\n",
       "      <td>0</td>\n",
       "      <td>0</td>\n",
       "      <td>0</td>\n",
       "      <td>0</td>\n",
       "      <td>0</td>\n",
       "      <td>0</td>\n",
       "      <td>0</td>\n",
       "      <td>0</td>\n",
       "      <td>0</td>\n",
       "      <td>...</td>\n",
       "      <td>0</td>\n",
       "      <td>0</td>\n",
       "      <td>0</td>\n",
       "      <td>0</td>\n",
       "      <td>0</td>\n",
       "      <td>0</td>\n",
       "      <td>0</td>\n",
       "      <td>0</td>\n",
       "      <td>0</td>\n",
       "      <td>0</td>\n",
       "    </tr>\n",
       "    <tr>\n",
       "      <th>5</th>\n",
       "      <td>0</td>\n",
       "      <td>0</td>\n",
       "      <td>0</td>\n",
       "      <td>0</td>\n",
       "      <td>0</td>\n",
       "      <td>0</td>\n",
       "      <td>0</td>\n",
       "      <td>0</td>\n",
       "      <td>0</td>\n",
       "      <td>0</td>\n",
       "      <td>...</td>\n",
       "      <td>0</td>\n",
       "      <td>0</td>\n",
       "      <td>2</td>\n",
       "      <td>0</td>\n",
       "      <td>0</td>\n",
       "      <td>0</td>\n",
       "      <td>0</td>\n",
       "      <td>0</td>\n",
       "      <td>1</td>\n",
       "      <td>1</td>\n",
       "    </tr>\n",
       "  </tbody>\n",
       "</table>\n",
       "<p>5 rows × 35 columns</p>\n",
       "</div>"
      ],
      "text/plain": [
       "         Jordan  Gatorade  Samsung  Asus  Udis  Mondelez International  \\\n",
       "Cust_ID                                                                  \n",
       "1             0         0        0     0     0                       0   \n",
       "2             0         1        0     0     0                       0   \n",
       "3             0         1        0     0     0                       0   \n",
       "4             0         0        0     0     0                       0   \n",
       "5             0         0        0     0     0                       0   \n",
       "\n",
       "         Wrangler  Vans  Fila  Brooks  ...  LG  Dior  Scabal  Tommy Hilfiger  \\\n",
       "Cust_ID                                ...                                     \n",
       "1               0     2     0       0  ...   0     0       0               0   \n",
       "2               0     0     0       0  ...   0     1       0               0   \n",
       "3               0     0     0       0  ...   0     0       0               0   \n",
       "4               0     0     0       0  ...   0     0       0               0   \n",
       "5               0     0     0       0  ...   0     0       2               0   \n",
       "\n",
       "         Hollister  Forever 21  Colavita  Microsoft  Jiffy mix  Kraft  \n",
       "Cust_ID                                                                \n",
       "1                0           0         0          0          0      0  \n",
       "2                0           0         0          0          0      0  \n",
       "3                0           0         0          1          0      0  \n",
       "4                0           0         0          0          0      0  \n",
       "5                0           0         0          0          1      1  \n",
       "\n",
       "[5 rows x 35 columns]"
      ]
     },
     "execution_count": 37,
     "metadata": {},
     "output_type": "execute_result"
    }
   ],
   "source": [
    "# 'features' contain only the brand names\n",
    "features = data.drop(['Orders', 'Gender_F', 'Gender_M'], axis=1)\n",
    "\n",
    "# head() to display top five rows\n",
    "features.head()"
   ]
  },
  {
   "cell_type": "markdown",
   "metadata": {},
   "source": [
    "**Scale the data**"
   ]
  },
  {
   "cell_type": "code",
   "execution_count": 41,
   "metadata": {},
   "outputs": [],
   "source": [
    "from sklearn.preprocessing import StandardScaler\n",
    "# instantiate and fit 'StandardScaler' function\n",
    "scale = StandardScaler().fit(features)       \n",
    "\n",
    "# scale the 'features' data\n",
    "features = scale.transform(features)                "
   ]
  },
  {
   "cell_type": "code",
   "execution_count": 43,
   "metadata": {},
   "outputs": [
    {
     "data": {
      "text/html": [
       "<div>\n",
       "<style scoped>\n",
       "    .dataframe tbody tr th:only-of-type {\n",
       "        vertical-align: middle;\n",
       "    }\n",
       "\n",
       "    .dataframe tbody tr th {\n",
       "        vertical-align: top;\n",
       "    }\n",
       "\n",
       "    .dataframe thead th {\n",
       "        text-align: right;\n",
       "    }\n",
       "</style>\n",
       "<table border=\"1\" class=\"dataframe\">\n",
       "  <thead>\n",
       "    <tr style=\"text-align: right;\">\n",
       "      <th></th>\n",
       "      <th>Jordan</th>\n",
       "      <th>Gatorade</th>\n",
       "      <th>Samsung</th>\n",
       "      <th>Asus</th>\n",
       "      <th>Udis</th>\n",
       "      <th>Mondelez International</th>\n",
       "      <th>Wrangler</th>\n",
       "      <th>Vans</th>\n",
       "      <th>Fila</th>\n",
       "      <th>Brooks</th>\n",
       "      <th>...</th>\n",
       "      <th>LG</th>\n",
       "      <th>Dior</th>\n",
       "      <th>Scabal</th>\n",
       "      <th>Tommy Hilfiger</th>\n",
       "      <th>Hollister</th>\n",
       "      <th>Forever 21</th>\n",
       "      <th>Colavita</th>\n",
       "      <th>Microsoft</th>\n",
       "      <th>Jiffy mix</th>\n",
       "      <th>Kraft</th>\n",
       "    </tr>\n",
       "  </thead>\n",
       "  <tbody>\n",
       "    <tr>\n",
       "      <th>0</th>\n",
       "      <td>-0.332312</td>\n",
       "      <td>-0.357739</td>\n",
       "      <td>-0.242985</td>\n",
       "      <td>-0.21801</td>\n",
       "      <td>-0.223835</td>\n",
       "      <td>-0.265801</td>\n",
       "      <td>-0.20727</td>\n",
       "      <td>3.446412</td>\n",
       "      <td>-0.177332</td>\n",
       "      <td>-0.297352</td>\n",
       "      <td>...</td>\n",
       "      <td>-0.210814</td>\n",
       "      <td>-0.379382</td>\n",
       "      <td>-0.487923</td>\n",
       "      <td>-0.311382</td>\n",
       "      <td>-0.202593</td>\n",
       "      <td>-0.191062</td>\n",
       "      <td>-0.299706</td>\n",
       "      <td>-0.260578</td>\n",
       "      <td>-0.220486</td>\n",
       "      <td>-0.182775</td>\n",
       "    </tr>\n",
       "    <tr>\n",
       "      <th>1</th>\n",
       "      <td>-0.332312</td>\n",
       "      <td>1.059984</td>\n",
       "      <td>-0.242985</td>\n",
       "      <td>-0.21801</td>\n",
       "      <td>-0.223835</td>\n",
       "      <td>-0.265801</td>\n",
       "      <td>-0.20727</td>\n",
       "      <td>-0.203353</td>\n",
       "      <td>-0.177332</td>\n",
       "      <td>-0.297352</td>\n",
       "      <td>...</td>\n",
       "      <td>-0.210814</td>\n",
       "      <td>1.019864</td>\n",
       "      <td>-0.487923</td>\n",
       "      <td>-0.311382</td>\n",
       "      <td>-0.202593</td>\n",
       "      <td>-0.191062</td>\n",
       "      <td>-0.299706</td>\n",
       "      <td>-0.260578</td>\n",
       "      <td>-0.220486</td>\n",
       "      <td>-0.182775</td>\n",
       "    </tr>\n",
       "    <tr>\n",
       "      <th>2</th>\n",
       "      <td>-0.332312</td>\n",
       "      <td>1.059984</td>\n",
       "      <td>-0.242985</td>\n",
       "      <td>-0.21801</td>\n",
       "      <td>-0.223835</td>\n",
       "      <td>-0.265801</td>\n",
       "      <td>-0.20727</td>\n",
       "      <td>-0.203353</td>\n",
       "      <td>-0.177332</td>\n",
       "      <td>-0.297352</td>\n",
       "      <td>...</td>\n",
       "      <td>-0.210814</td>\n",
       "      <td>-0.379382</td>\n",
       "      <td>-0.487923</td>\n",
       "      <td>-0.311382</td>\n",
       "      <td>-0.202593</td>\n",
       "      <td>-0.191062</td>\n",
       "      <td>-0.299706</td>\n",
       "      <td>1.978708</td>\n",
       "      <td>-0.220486</td>\n",
       "      <td>-0.182775</td>\n",
       "    </tr>\n",
       "    <tr>\n",
       "      <th>3</th>\n",
       "      <td>-0.332312</td>\n",
       "      <td>-0.357739</td>\n",
       "      <td>-0.242985</td>\n",
       "      <td>-0.21801</td>\n",
       "      <td>-0.223835</td>\n",
       "      <td>-0.265801</td>\n",
       "      <td>-0.20727</td>\n",
       "      <td>-0.203353</td>\n",
       "      <td>-0.177332</td>\n",
       "      <td>-0.297352</td>\n",
       "      <td>...</td>\n",
       "      <td>-0.210814</td>\n",
       "      <td>-0.379382</td>\n",
       "      <td>-0.487923</td>\n",
       "      <td>-0.311382</td>\n",
       "      <td>-0.202593</td>\n",
       "      <td>-0.191062</td>\n",
       "      <td>-0.299706</td>\n",
       "      <td>-0.260578</td>\n",
       "      <td>-0.220486</td>\n",
       "      <td>-0.182775</td>\n",
       "    </tr>\n",
       "    <tr>\n",
       "      <th>4</th>\n",
       "      <td>-0.332312</td>\n",
       "      <td>-0.357739</td>\n",
       "      <td>-0.242985</td>\n",
       "      <td>-0.21801</td>\n",
       "      <td>-0.223835</td>\n",
       "      <td>-0.265801</td>\n",
       "      <td>-0.20727</td>\n",
       "      <td>-0.203353</td>\n",
       "      <td>-0.177332</td>\n",
       "      <td>-0.297352</td>\n",
       "      <td>...</td>\n",
       "      <td>-0.210814</td>\n",
       "      <td>-0.379382</td>\n",
       "      <td>2.149024</td>\n",
       "      <td>-0.311382</td>\n",
       "      <td>-0.202593</td>\n",
       "      <td>-0.191062</td>\n",
       "      <td>-0.299706</td>\n",
       "      <td>-0.260578</td>\n",
       "      <td>2.284083</td>\n",
       "      <td>2.395151</td>\n",
       "    </tr>\n",
       "  </tbody>\n",
       "</table>\n",
       "<p>5 rows × 35 columns</p>\n",
       "</div>"
      ],
      "text/plain": [
       "     Jordan  Gatorade   Samsung     Asus      Udis  Mondelez International  \\\n",
       "0 -0.332312 -0.357739 -0.242985 -0.21801 -0.223835               -0.265801   \n",
       "1 -0.332312  1.059984 -0.242985 -0.21801 -0.223835               -0.265801   \n",
       "2 -0.332312  1.059984 -0.242985 -0.21801 -0.223835               -0.265801   \n",
       "3 -0.332312 -0.357739 -0.242985 -0.21801 -0.223835               -0.265801   \n",
       "4 -0.332312 -0.357739 -0.242985 -0.21801 -0.223835               -0.265801   \n",
       "\n",
       "   Wrangler      Vans      Fila    Brooks  ...        LG      Dior    Scabal  \\\n",
       "0  -0.20727  3.446412 -0.177332 -0.297352  ... -0.210814 -0.379382 -0.487923   \n",
       "1  -0.20727 -0.203353 -0.177332 -0.297352  ... -0.210814  1.019864 -0.487923   \n",
       "2  -0.20727 -0.203353 -0.177332 -0.297352  ... -0.210814 -0.379382 -0.487923   \n",
       "3  -0.20727 -0.203353 -0.177332 -0.297352  ... -0.210814 -0.379382 -0.487923   \n",
       "4  -0.20727 -0.203353 -0.177332 -0.297352  ... -0.210814 -0.379382  2.149024   \n",
       "\n",
       "   Tommy Hilfiger  Hollister  Forever 21  Colavita  Microsoft  Jiffy mix  \\\n",
       "0       -0.311382  -0.202593   -0.191062 -0.299706  -0.260578  -0.220486   \n",
       "1       -0.311382  -0.202593   -0.191062 -0.299706  -0.260578  -0.220486   \n",
       "2       -0.311382  -0.202593   -0.191062 -0.299706   1.978708  -0.220486   \n",
       "3       -0.311382  -0.202593   -0.191062 -0.299706  -0.260578  -0.220486   \n",
       "4       -0.311382  -0.202593   -0.191062 -0.299706  -0.260578   2.284083   \n",
       "\n",
       "      Kraft  \n",
       "0 -0.182775  \n",
       "1 -0.182775  \n",
       "2 -0.182775  \n",
       "3 -0.182775  \n",
       "4  2.395151  \n",
       "\n",
       "[5 rows x 35 columns]"
      ]
     },
     "execution_count": 43,
     "metadata": {},
     "output_type": "execute_result"
    }
   ],
   "source": [
    "# create a dataframe of the scaled features \n",
    "features_scaled = pd.DataFrame( features, columns= data.columns[1:36])\n",
    "\n",
    "# head() to display top five rows\n",
    "features_scaled.head()"
   ]
  },
  {
   "cell_type": "markdown",
   "metadata": {},
   "source": [
    "<table align=\"left\">\n",
    "    <tr>\n",
    "        <td width=\"8%\">\n",
    "            <img src=\"note.png\">\n",
    "        </td>\n",
    "        <td>\n",
    "            <div align=\"left\", style=\"font-size:120%\">\n",
    "                    <b>Thus, we have scaled all the features in the data and stored it in a dataframe named 'features_scaled'</b>\n",
    "                </font>\n",
    "            </div>\n",
    "        </td>\n",
    "    </tr>\n",
    "</table>\n",
    "\n"
   ]
  },
  {
   "cell_type": "markdown",
   "metadata": {},
   "source": [
    "<a id='model_k'></a>\n",
    "## 4.2 Build a Model with Multiple K\n"
   ]
  },
  {
   "cell_type": "markdown",
   "metadata": {},
   "source": [
    "<table align=\"left\">\n",
    "    <tr>\n",
    "        <td width=\"8%\">\n",
    "            <img src=\"key.png\">\n",
    "        </td>\n",
    "        <td>\n",
    "            <div align=\"left\", style=\"font-size:120%\">\n",
    "                    <b> We build our models using the silhouette score method. \n",
    "The silhouette is a method of interpretation and validation of consistency within clusters of data\n",
    "                      </b>\n",
    "                </font>\n",
    "            </div>\n",
    "        </td>\n",
    "    </tr>\n",
    "</table>"
   ]
  },
  {
   "cell_type": "markdown",
   "metadata": {},
   "source": [
    "**We do not know how many clusters give the most useful results. So, we create the clusters varying K, from 4 to 8 and then decide the optimum number of clusters (K) with the help of the silhouette score**"
   ]
  },
  {
   "cell_type": "code",
   "execution_count": 46,
   "metadata": {},
   "outputs": [
    {
     "name": "stdout",
     "output_type": "stream",
     "text": [
      "For n_clusters = 4, silhouette score is 0.27822758340093273)\n",
      "For n_clusters = 5, silhouette score is 0.2733718587572141)\n",
      "For n_clusters = 6, silhouette score is 0.2134454377721229)\n",
      "For n_clusters = 7, silhouette score is 0.2167698767037125)\n",
      "For n_clusters = 8, silhouette score is 0.20461412386669187)\n"
     ]
    }
   ],
   "source": [
    "from sklearn.cluster import KMeans\n",
    "from sklearn.metrics import silhouette_score\n",
    "# create a list for different values of K\n",
    "n_clusters = [4, 5, 6, 7, 8]\n",
    "\n",
    "# use 'for' loop to build the clusters\n",
    "# 'random_state' returns the same sample each time you run the code  \n",
    "# fit and predict on the scaled data\n",
    "# 'silhouette_score' function computes the silhouette score for each K\n",
    "for K in n_clusters :\n",
    "    cluster = KMeans (n_clusters= K, random_state= 10)\n",
    "    predict = cluster.fit_predict(features_scaled)\n",
    "    \n",
    "    score = silhouette_score(features_scaled, predict, random_state= 10)\n",
    "    print (\"For n_clusters = {}, silhouette score is {})\".format(K, score))"
   ]
  },
  {
   "cell_type": "markdown",
   "metadata": {},
   "source": [
    "<table align=\"left\">\n",
    "    <tr>\n",
    "        <td width=\"8%\">\n",
    "            <img src=\"note.png\">\n",
    "        </td>\n",
    "        <td>\n",
    "            <div align=\"left\", style=\"font-size:120%\">\n",
    "                    <b>The optimum value for K is associated with the high value of the 'silhouette score'. From the above output it can be seen that, for K = 4, the silhouette score is highest. Thus, we build the clusters with K = 4</b>\n",
    "                </font>\n",
    "            </div>\n",
    "        </td>\n",
    "    </tr>\n",
    "</table>\n",
    "\n"
   ]
  },
  {
   "cell_type": "code",
   "execution_count": 47,
   "metadata": {},
   "outputs": [
    {
     "data": {
      "text/plain": [
       "KMeans(n_clusters=4, random_state=10)"
      ]
     },
     "execution_count": 47,
     "metadata": {},
     "output_type": "execute_result"
    }
   ],
   "source": [
    "# building a K-Means model for K = 4\n",
    "model = KMeans(n_clusters= 4, random_state= 10)\n",
    "\n",
    "# fit the model\n",
    "model.fit(features_scaled)"
   ]
  },
  {
   "cell_type": "markdown",
   "metadata": {},
   "source": [
    "**Now, explore these 4 clusters to gain some insights about the clusters**"
   ]
  },
  {
   "cell_type": "markdown",
   "metadata": {},
   "source": [
    "<a id='retrieve_clusters'></a>\n",
    "# 5. Retrieve the Clusters\n",
    "\n"
   ]
  },
  {
   "cell_type": "markdown",
   "metadata": {},
   "source": [
    "<table align=\"left\">\n",
    "    <tr>\n",
    "        <td width=\"8%\">\n",
    "            <img src=\"key.png\">\n",
    "        </td>\n",
    "        <td>\n",
    "            <div align=\"left\", style=\"font-size:120%\">\n",
    "                    <b> As we have built the 4 clusters, now we want to know which customers belong to which cluster. 'model.labels_' can give the cluster number in which the customer belongs\n",
    "                      </b>\n",
    "                </font>\n",
    "            </div>\n",
    "        </td>\n",
    "    </tr>\n",
    "\n",
    "</table>"
   ]
  },
  {
   "cell_type": "code",
   "execution_count": 48,
   "metadata": {},
   "outputs": [
    {
     "data": {
      "text/html": [
       "<div>\n",
       "<style scoped>\n",
       "    .dataframe tbody tr th:only-of-type {\n",
       "        vertical-align: middle;\n",
       "    }\n",
       "\n",
       "    .dataframe tbody tr th {\n",
       "        vertical-align: top;\n",
       "    }\n",
       "\n",
       "    .dataframe thead th {\n",
       "        text-align: right;\n",
       "    }\n",
       "</style>\n",
       "<table border=\"1\" class=\"dataframe\">\n",
       "  <thead>\n",
       "    <tr style=\"text-align: right;\">\n",
       "      <th></th>\n",
       "      <th>Orders</th>\n",
       "      <th>Jordan</th>\n",
       "      <th>Gatorade</th>\n",
       "      <th>Samsung</th>\n",
       "      <th>Asus</th>\n",
       "      <th>Udis</th>\n",
       "      <th>Mondelez International</th>\n",
       "      <th>Wrangler</th>\n",
       "      <th>Vans</th>\n",
       "      <th>Fila</th>\n",
       "      <th>...</th>\n",
       "      <th>Tommy Hilfiger</th>\n",
       "      <th>Hollister</th>\n",
       "      <th>Forever 21</th>\n",
       "      <th>Colavita</th>\n",
       "      <th>Microsoft</th>\n",
       "      <th>Jiffy mix</th>\n",
       "      <th>Kraft</th>\n",
       "      <th>Gender_F</th>\n",
       "      <th>Gender_M</th>\n",
       "      <th>Cluster</th>\n",
       "    </tr>\n",
       "    <tr>\n",
       "      <th>Cust_ID</th>\n",
       "      <th></th>\n",
       "      <th></th>\n",
       "      <th></th>\n",
       "      <th></th>\n",
       "      <th></th>\n",
       "      <th></th>\n",
       "      <th></th>\n",
       "      <th></th>\n",
       "      <th></th>\n",
       "      <th></th>\n",
       "      <th></th>\n",
       "      <th></th>\n",
       "      <th></th>\n",
       "      <th></th>\n",
       "      <th></th>\n",
       "      <th></th>\n",
       "      <th></th>\n",
       "      <th></th>\n",
       "      <th></th>\n",
       "      <th></th>\n",
       "      <th></th>\n",
       "    </tr>\n",
       "  </thead>\n",
       "  <tbody>\n",
       "    <tr>\n",
       "      <th>1</th>\n",
       "      <td>7</td>\n",
       "      <td>0</td>\n",
       "      <td>0</td>\n",
       "      <td>0</td>\n",
       "      <td>0</td>\n",
       "      <td>0</td>\n",
       "      <td>0</td>\n",
       "      <td>0</td>\n",
       "      <td>2</td>\n",
       "      <td>0</td>\n",
       "      <td>...</td>\n",
       "      <td>0</td>\n",
       "      <td>0</td>\n",
       "      <td>0</td>\n",
       "      <td>0</td>\n",
       "      <td>0</td>\n",
       "      <td>0</td>\n",
       "      <td>0</td>\n",
       "      <td>0</td>\n",
       "      <td>1</td>\n",
       "      <td>0</td>\n",
       "    </tr>\n",
       "    <tr>\n",
       "      <th>2</th>\n",
       "      <td>0</td>\n",
       "      <td>0</td>\n",
       "      <td>1</td>\n",
       "      <td>0</td>\n",
       "      <td>0</td>\n",
       "      <td>0</td>\n",
       "      <td>0</td>\n",
       "      <td>0</td>\n",
       "      <td>0</td>\n",
       "      <td>0</td>\n",
       "      <td>...</td>\n",
       "      <td>0</td>\n",
       "      <td>0</td>\n",
       "      <td>0</td>\n",
       "      <td>0</td>\n",
       "      <td>0</td>\n",
       "      <td>0</td>\n",
       "      <td>0</td>\n",
       "      <td>1</td>\n",
       "      <td>0</td>\n",
       "      <td>3</td>\n",
       "    </tr>\n",
       "    <tr>\n",
       "      <th>3</th>\n",
       "      <td>7</td>\n",
       "      <td>0</td>\n",
       "      <td>1</td>\n",
       "      <td>0</td>\n",
       "      <td>0</td>\n",
       "      <td>0</td>\n",
       "      <td>0</td>\n",
       "      <td>0</td>\n",
       "      <td>0</td>\n",
       "      <td>0</td>\n",
       "      <td>...</td>\n",
       "      <td>0</td>\n",
       "      <td>0</td>\n",
       "      <td>0</td>\n",
       "      <td>0</td>\n",
       "      <td>1</td>\n",
       "      <td>0</td>\n",
       "      <td>0</td>\n",
       "      <td>0</td>\n",
       "      <td>1</td>\n",
       "      <td>0</td>\n",
       "    </tr>\n",
       "    <tr>\n",
       "      <th>4</th>\n",
       "      <td>0</td>\n",
       "      <td>0</td>\n",
       "      <td>0</td>\n",
       "      <td>0</td>\n",
       "      <td>0</td>\n",
       "      <td>0</td>\n",
       "      <td>0</td>\n",
       "      <td>0</td>\n",
       "      <td>0</td>\n",
       "      <td>0</td>\n",
       "      <td>...</td>\n",
       "      <td>0</td>\n",
       "      <td>0</td>\n",
       "      <td>0</td>\n",
       "      <td>0</td>\n",
       "      <td>0</td>\n",
       "      <td>0</td>\n",
       "      <td>0</td>\n",
       "      <td>1</td>\n",
       "      <td>0</td>\n",
       "      <td>0</td>\n",
       "    </tr>\n",
       "    <tr>\n",
       "      <th>5</th>\n",
       "      <td>10</td>\n",
       "      <td>0</td>\n",
       "      <td>0</td>\n",
       "      <td>0</td>\n",
       "      <td>0</td>\n",
       "      <td>0</td>\n",
       "      <td>0</td>\n",
       "      <td>0</td>\n",
       "      <td>0</td>\n",
       "      <td>0</td>\n",
       "      <td>...</td>\n",
       "      <td>0</td>\n",
       "      <td>0</td>\n",
       "      <td>0</td>\n",
       "      <td>0</td>\n",
       "      <td>0</td>\n",
       "      <td>1</td>\n",
       "      <td>1</td>\n",
       "      <td>0</td>\n",
       "      <td>0</td>\n",
       "      <td>2</td>\n",
       "    </tr>\n",
       "  </tbody>\n",
       "</table>\n",
       "<p>5 rows × 39 columns</p>\n",
       "</div>"
      ],
      "text/plain": [
       "         Orders  Jordan  Gatorade  Samsung  Asus  Udis  \\\n",
       "Cust_ID                                                  \n",
       "1             7       0         0        0     0     0   \n",
       "2             0       0         1        0     0     0   \n",
       "3             7       0         1        0     0     0   \n",
       "4             0       0         0        0     0     0   \n",
       "5            10       0         0        0     0     0   \n",
       "\n",
       "         Mondelez International  Wrangler  Vans  Fila  ...  Tommy Hilfiger  \\\n",
       "Cust_ID                                                ...                   \n",
       "1                             0         0     2     0  ...               0   \n",
       "2                             0         0     0     0  ...               0   \n",
       "3                             0         0     0     0  ...               0   \n",
       "4                             0         0     0     0  ...               0   \n",
       "5                             0         0     0     0  ...               0   \n",
       "\n",
       "         Hollister  Forever 21  Colavita  Microsoft  Jiffy mix  Kraft  \\\n",
       "Cust_ID                                                                 \n",
       "1                0           0         0          0          0      0   \n",
       "2                0           0         0          0          0      0   \n",
       "3                0           0         0          1          0      0   \n",
       "4                0           0         0          0          0      0   \n",
       "5                0           0         0          0          1      1   \n",
       "\n",
       "         Gender_F  Gender_M  Cluster  \n",
       "Cust_ID                               \n",
       "1               0         1        0  \n",
       "2               1         0        3  \n",
       "3               0         1        0  \n",
       "4               1         0        0  \n",
       "5               0         0        2  \n",
       "\n",
       "[5 rows x 39 columns]"
      ]
     },
     "execution_count": 48,
     "metadata": {},
     "output_type": "execute_result"
    }
   ],
   "source": [
    "data_output = data.copy(deep = True)\n",
    "# add a column 'Cluster' in the data giving cluster number corresponding to each observation\n",
    "data_output['Cluster'] = model.labels_\n",
    "\n",
    "# head() to display top five rows\n",
    "data_output.head()"
   ]
  },
  {
   "cell_type": "markdown",
   "metadata": {},
   "source": [
    "**We have added a column 'cluster' in the dataframe describing the cluster number for each observation**"
   ]
  },
  {
   "cell_type": "markdown",
   "metadata": {},
   "source": [
    "#### Check the size of each cluster"
   ]
  },
  {
   "cell_type": "code",
   "execution_count": 49,
   "metadata": {},
   "outputs": [
    {
     "data": {
      "text/plain": [
       "(array([0, 1, 2, 3], dtype=int32), array([22587,   561,  1267,  5585]))"
      ]
     },
     "execution_count": 49,
     "metadata": {},
     "output_type": "execute_result"
    }
   ],
   "source": [
    "# 'return_counts = True' gives the number observation in each cluster\n",
    "np.unique(model.labels_, return_counts=True)                "
   ]
  },
  {
   "cell_type": "markdown",
   "metadata": {},
   "source": [
    "<table align=\"left\">\n",
    "    <tr>\n",
    "        <td width=\"8%\">\n",
    "            <img src=\"note.png\">\n",
    "        </td>\n",
    "        <td>\n",
    "            <div align=\"left\", style=\"font-size:120%\">\n",
    "                    <b>Plot a barplot to visualize the cluster sizes</b>\n",
    "                </font>\n",
    "            </div>\n",
    "        </td>\n",
    "    </tr>\n",
    "</table>\n",
    "\n"
   ]
  },
  {
   "cell_type": "code",
   "execution_count": 51,
   "metadata": {},
   "outputs": [
    {
     "data": {
      "image/png": "[encoded data removed]",
      "text/plain": [
       "<Figure size 432x288 with 1 Axes>"
      ]
     },
     "metadata": {},
     "output_type": "display_data"
    }
   ],
   "source": [
    "# use 'seaborn' library to plot a barplot for cluster size\n",
    "sns.countplot(data= data_output, x = 'Cluster')\n",
    "\n",
    "# set the axes and plot labels\n",
    "# set the font size using 'fontsize'\n",
    "plt.title('Cluster Sizes', fontsize = 15)\n",
    "plt.xlabel('Clusters', fontsize = 15)\n",
    "plt.ylabel('No. of Customers', fontsize = 15)\n",
    "\n",
    "# add values in the graph\n",
    "# 'x' and 'y' assigns the position to the text\n",
    "# 's' represents the text on the plot\n",
    "plt.text(x = -0.18, y =2000, s = np.unique(model.labels_, return_counts=True)[1][0])\n",
    "plt.text(x = 0.9, y =2000, s = np.unique(model.labels_, return_counts=True)[1][1])\n",
    "plt.text(x = 1.85, y =2000, s = np.unique(model.labels_, return_counts=True)[1][2])\n",
    "plt.text(x = 2.85, y =2000, s = np.unique(model.labels_, return_counts=True)[1][3])\n",
    "\n",
    "plt.show()"
   ]
  },
  {
   "cell_type": "markdown",
   "metadata": {},
   "source": [
    "**The first cluster is the largest cluster containing 22573 customers**"
   ]
  },
  {
   "cell_type": "markdown",
   "metadata": {},
   "source": [
    "#### Cluster Centers\n",
    "\n",
    "The cluster centers can give information about the variables belonging to the clusters\n"
   ]
  },
  {
   "cell_type": "code",
   "execution_count": 53,
   "metadata": {},
   "outputs": [],
   "source": [
    "# form a dataframe containing cluster centers\n",
    "# 'cluster_centers_' returns the co-ordinates of a cluster center \n",
    "centers = pd.DataFrame(model.cluster_centers_, columns=  data_output.columns[1:36])      "
   ]
  },
  {
   "cell_type": "code",
   "execution_count": 54,
   "metadata": {},
   "outputs": [
    {
     "data": {
      "text/html": [
       "<div>\n",
       "<style scoped>\n",
       "    .dataframe tbody tr th:only-of-type {\n",
       "        vertical-align: middle;\n",
       "    }\n",
       "\n",
       "    .dataframe tbody tr th {\n",
       "        vertical-align: top;\n",
       "    }\n",
       "\n",
       "    .dataframe thead th {\n",
       "        text-align: right;\n",
       "    }\n",
       "</style>\n",
       "<table border=\"1\" class=\"dataframe\">\n",
       "  <thead>\n",
       "    <tr style=\"text-align: right;\">\n",
       "      <th></th>\n",
       "      <th>Jordan</th>\n",
       "      <th>Gatorade</th>\n",
       "      <th>Samsung</th>\n",
       "      <th>Asus</th>\n",
       "      <th>Udis</th>\n",
       "      <th>Mondelez International</th>\n",
       "      <th>Wrangler</th>\n",
       "      <th>Vans</th>\n",
       "      <th>Fila</th>\n",
       "      <th>Brooks</th>\n",
       "      <th>...</th>\n",
       "      <th>LG</th>\n",
       "      <th>Dior</th>\n",
       "      <th>Scabal</th>\n",
       "      <th>Tommy Hilfiger</th>\n",
       "      <th>Hollister</th>\n",
       "      <th>Forever 21</th>\n",
       "      <th>Colavita</th>\n",
       "      <th>Microsoft</th>\n",
       "      <th>Jiffy mix</th>\n",
       "      <th>Kraft</th>\n",
       "    </tr>\n",
       "  </thead>\n",
       "  <tbody>\n",
       "    <tr>\n",
       "      <th>0</th>\n",
       "      <td>-0.157178</td>\n",
       "      <td>-0.153531</td>\n",
       "      <td>-0.085508</td>\n",
       "      <td>-0.115637</td>\n",
       "      <td>-0.122116</td>\n",
       "      <td>-0.095554</td>\n",
       "      <td>-0.115064</td>\n",
       "      <td>-0.070512</td>\n",
       "      <td>-0.039145</td>\n",
       "      <td>-0.121198</td>\n",
       "      <td>...</td>\n",
       "      <td>-0.087622</td>\n",
       "      <td>-0.163223</td>\n",
       "      <td>-0.237683</td>\n",
       "      <td>-0.146604</td>\n",
       "      <td>-0.144647</td>\n",
       "      <td>-0.123522</td>\n",
       "      <td>-0.075099</td>\n",
       "      <td>-0.070024</td>\n",
       "      <td>-0.079730</td>\n",
       "      <td>-0.082387</td>\n",
       "    </tr>\n",
       "    <tr>\n",
       "      <th>1</th>\n",
       "      <td>-0.135180</td>\n",
       "      <td>0.036494</td>\n",
       "      <td>-0.103099</td>\n",
       "      <td>-0.054216</td>\n",
       "      <td>-0.093185</td>\n",
       "      <td>0.015563</td>\n",
       "      <td>-0.107072</td>\n",
       "      <td>-0.135042</td>\n",
       "      <td>0.027216</td>\n",
       "      <td>-0.134709</td>\n",
       "      <td>...</td>\n",
       "      <td>-0.097200</td>\n",
       "      <td>-0.122480</td>\n",
       "      <td>-0.102487</td>\n",
       "      <td>-0.049512</td>\n",
       "      <td>-0.174694</td>\n",
       "      <td>-0.155421</td>\n",
       "      <td>-0.035646</td>\n",
       "      <td>0.026817</td>\n",
       "      <td>-0.099945</td>\n",
       "      <td>-0.090870</td>\n",
       "    </tr>\n",
       "    <tr>\n",
       "      <th>2</th>\n",
       "      <td>0.459146</td>\n",
       "      <td>0.477006</td>\n",
       "      <td>0.231876</td>\n",
       "      <td>0.169143</td>\n",
       "      <td>0.112182</td>\n",
       "      <td>0.256542</td>\n",
       "      <td>0.320526</td>\n",
       "      <td>0.384297</td>\n",
       "      <td>0.094377</td>\n",
       "      <td>0.806316</td>\n",
       "      <td>...</td>\n",
       "      <td>1.394111</td>\n",
       "      <td>0.628915</td>\n",
       "      <td>0.285262</td>\n",
       "      <td>1.149594</td>\n",
       "      <td>0.369751</td>\n",
       "      <td>0.437558</td>\n",
       "      <td>1.381482</td>\n",
       "      <td>0.799857</td>\n",
       "      <td>1.558608</td>\n",
       "      <td>1.902761</td>\n",
       "    </tr>\n",
       "    <tr>\n",
       "      <th>3</th>\n",
       "      <td>0.546469</td>\n",
       "      <td>0.510343</td>\n",
       "      <td>0.304333</td>\n",
       "      <td>0.435823</td>\n",
       "      <td>0.478958</td>\n",
       "      <td>0.327515</td>\n",
       "      <td>0.404408</td>\n",
       "      <td>0.212108</td>\n",
       "      <td>0.134510</td>\n",
       "      <td>0.321637</td>\n",
       "      <td>...</td>\n",
       "      <td>0.048129</td>\n",
       "      <td>0.531107</td>\n",
       "      <td>0.909082</td>\n",
       "      <td>0.338034</td>\n",
       "      <td>0.519959</td>\n",
       "      <td>0.416963</td>\n",
       "      <td>-0.005965</td>\n",
       "      <td>0.099379</td>\n",
       "      <td>-0.020983</td>\n",
       "      <td>-0.089352</td>\n",
       "    </tr>\n",
       "  </tbody>\n",
       "</table>\n",
       "<p>4 rows × 35 columns</p>\n",
       "</div>"
      ],
      "text/plain": [
       "     Jordan  Gatorade   Samsung      Asus      Udis  Mondelez International  \\\n",
       "0 -0.157178 -0.153531 -0.085508 -0.115637 -0.122116               -0.095554   \n",
       "1 -0.135180  0.036494 -0.103099 -0.054216 -0.093185                0.015563   \n",
       "2  0.459146  0.477006  0.231876  0.169143  0.112182                0.256542   \n",
       "3  0.546469  0.510343  0.304333  0.435823  0.478958                0.327515   \n",
       "\n",
       "   Wrangler      Vans      Fila    Brooks  ...        LG      Dior    Scabal  \\\n",
       "0 -0.115064 -0.070512 -0.039145 -0.121198  ... -0.087622 -0.163223 -0.237683   \n",
       "1 -0.107072 -0.135042  0.027216 -0.134709  ... -0.097200 -0.122480 -0.102487   \n",
       "2  0.320526  0.384297  0.094377  0.806316  ...  1.394111  0.628915  0.285262   \n",
       "3  0.404408  0.212108  0.134510  0.321637  ...  0.048129  0.531107  0.909082   \n",
       "\n",
       "   Tommy Hilfiger  Hollister  Forever 21  Colavita  Microsoft  Jiffy mix  \\\n",
       "0       -0.146604  -0.144647   -0.123522 -0.075099  -0.070024  -0.079730   \n",
       "1       -0.049512  -0.174694   -0.155421 -0.035646   0.026817  -0.099945   \n",
       "2        1.149594   0.369751    0.437558  1.381482   0.799857   1.558608   \n",
       "3        0.338034   0.519959    0.416963 -0.005965   0.099379  -0.020983   \n",
       "\n",
       "      Kraft  \n",
       "0 -0.082387  \n",
       "1 -0.090870  \n",
       "2  1.902761  \n",
       "3 -0.089352  \n",
       "\n",
       "[4 rows x 35 columns]"
      ]
     },
     "execution_count": 54,
     "metadata": {},
     "output_type": "execute_result"
    }
   ],
   "source": [
    "# head() to display top five rows\n",
    "centers.head()"
   ]
  },
  {
   "cell_type": "markdown",
   "metadata": {},
   "source": [
    "**Now, extract the variables in each of the clusters and try to name each of the cluster based on the variables**"
   ]
  },
  {
   "cell_type": "markdown",
   "metadata": {},
   "source": [
    "<a id='cluster'></a>\n",
    "# 6 Clusters Analysis\n"
   ]
  },
  {
   "cell_type": "markdown",
   "metadata": {},
   "source": [
    "<a id='cluster_1'></a>\n",
    "## 6.1 Analysis of Cluster_1"
   ]
  },
  {
   "cell_type": "markdown",
   "metadata": {},
   "source": [
    "<table align=\"left\">\n",
    "    <tr>\n",
    "        <td width=\"8%\">\n",
    "            <img src=\"key.png\">\n",
    "        </td>\n",
    "        <td>\n",
    "            <div align=\"left\", style=\"font-size:120%\">\n",
    "                    <b> Here we analyze the first cluster:<br><br>\n",
    "                        1. Check the size of a cluster <Br>\n",
    "                        2. Sort the variables belonging to the cluster <br>\n",
    "                        3. Compute the statistical summary for observations in the cluster  \n",
    "                     </b>\n",
    "                </font>\n",
    "            </div>\n",
    "        </td>\n",
    "    </tr>\n",
    "</table>"
   ]
  },
  {
   "cell_type": "markdown",
   "metadata": {},
   "source": [
    "Sort all the variables based on value for the cluster center (i.e., the variable with the highest value of the cluster center will be on top of the sorted list) and store the first ten variables as a list"
   ]
  },
  {
   "cell_type": "code",
   "execution_count": 55,
   "metadata": {},
   "outputs": [],
   "source": [
    "# sort the variables based on cluster centers\n",
    "cluster_1 = sorted(zip(list(centers.iloc[0,:]), list(centers.columns)), reverse = True)[:10]     "
   ]
  },
  {
   "cell_type": "markdown",
   "metadata": {
    "colab_type": "text",
    "id": "Z0sqy8ChZqhY"
   },
   "source": [
    "**1. Check size of the cluster**"
   ]
  },
  {
   "cell_type": "code",
   "execution_count": 56,
   "metadata": {
    "colab": {
     "base_uri": "https://localhost:8080/",
     "height": 34
    },
    "colab_type": "code",
    "id": "MU6T9h6XI7fe",
    "outputId": "6ba2312b-76e0-4ed6-af50-86f9913f6ea1"
   },
   "outputs": [
    {
     "data": {
      "text/plain": [
       "22587"
      ]
     },
     "execution_count": 56,
     "metadata": {},
     "output_type": "execute_result"
    }
   ],
   "source": [
    "# size of a cluster_1\n",
    "np.unique(model.labels_, return_counts=True)[1][0]"
   ]
  },
  {
   "cell_type": "markdown",
   "metadata": {
    "colab_type": "text",
    "id": "XZgMlV4pZqhe"
   },
   "source": [
    "There are 22587 customers in this cluster. This is the largest cluster among all the clusters"
   ]
  },
  {
   "cell_type": "markdown",
   "metadata": {
    "colab_type": "text",
    "id": "YRTrL_mPZqhg"
   },
   "source": [
    "**2. Sort variables belonging to the cluster**"
   ]
  },
  {
   "cell_type": "code",
   "execution_count": 57,
   "metadata": {
    "colab": {
     "base_uri": "https://localhost:8080/",
     "height": 204
    },
    "colab_type": "code",
    "id": "LR4jNbJDI7fl",
    "outputId": "3168abb5-da97-4f4e-851a-3ae354d36209"
   },
   "outputs": [
    {
     "data": {
      "text/plain": [
       "0                IBM\n",
       "1               Fila\n",
       "2    Hewlett Packard\n",
       "3             Compaq\n",
       "4              Fendi\n",
       "5          Microsoft\n",
       "6               Vans\n",
       "7           Colavita\n",
       "8          Jiffy mix\n",
       "9              Kraft\n",
       "Name: 1, dtype: object"
      ]
     },
     "execution_count": 57,
     "metadata": {},
     "output_type": "execute_result"
    }
   ],
   "source": [
    "# retrieve the top 10 variables present in the cluster\n",
    "cluster1_var = pd.DataFrame(cluster_1)[1]\n",
    "cluster1_var"
   ]
  },
  {
   "cell_type": "markdown",
   "metadata": {
    "colab_type": "text",
    "id": "f8N8tAvQI7fr"
   },
   "source": [
    "<table align=\"left\">\n",
    "   <tr>\n",
    "        <td width=\"8%\">\n",
    "           <img src=\"note.png\">\n",
    "        </td>\n",
    "        <td>\n",
    "            <div align=\"left\", style=\"font-size:120%\">\n",
    "                <font color=\"#21618C\">\n",
    "                    <b>Most of the customers belonging to this cluster have searched for electronics, apparels as well as grocery brands like HP, Apple, Prada, Reebok, Pillsbury, Bertolli, and so on. Thus, we can segment this cluster under 'Basket class'</b>\n",
    "                </font>\n",
    "            </div>\n",
    "        </td>\n",
    "    </tr>\n",
    "</table>"
   ]
  },
  {
   "cell_type": "markdown",
   "metadata": {
    "colab_type": "text",
    "id": "y0s8u563llFM"
   },
   "source": [
    "**3. Compute the statistical summary for observations in the cluster**"
   ]
  },
  {
   "cell_type": "code",
   "execution_count": 58,
   "metadata": {
    "colab": {
     "base_uri": "https://localhost:8080/",
     "height": 297
    },
    "colab_type": "code",
    "id": "thAtj6DkI7ft",
    "outputId": "fc04d8f2-c451-4cf5-f69c-8d8d4662232a",
    "scrolled": true
   },
   "outputs": [
    {
     "data": {
      "text/html": [
       "<div>\n",
       "<style scoped>\n",
       "    .dataframe tbody tr th:only-of-type {\n",
       "        vertical-align: middle;\n",
       "    }\n",
       "\n",
       "    .dataframe tbody tr th {\n",
       "        vertical-align: top;\n",
       "    }\n",
       "\n",
       "    .dataframe thead th {\n",
       "        text-align: right;\n",
       "    }\n",
       "</style>\n",
       "<table border=\"1\" class=\"dataframe\">\n",
       "  <thead>\n",
       "    <tr style=\"text-align: right;\">\n",
       "      <th></th>\n",
       "      <th>Orders</th>\n",
       "      <th>Gender_F</th>\n",
       "      <th>Gender_M</th>\n",
       "      <th>Cluster</th>\n",
       "    </tr>\n",
       "  </thead>\n",
       "  <tbody>\n",
       "    <tr>\n",
       "      <th>count</th>\n",
       "      <td>22587.000000</td>\n",
       "      <td>22587.000000</td>\n",
       "      <td>22587.000000</td>\n",
       "      <td>22587.0</td>\n",
       "    </tr>\n",
       "    <tr>\n",
       "      <th>mean</th>\n",
       "      <td>4.097932</td>\n",
       "      <td>0.704476</td>\n",
       "      <td>0.197237</td>\n",
       "      <td>0.0</td>\n",
       "    </tr>\n",
       "    <tr>\n",
       "      <th>std</th>\n",
       "      <td>3.605793</td>\n",
       "      <td>0.456288</td>\n",
       "      <td>0.397922</td>\n",
       "      <td>0.0</td>\n",
       "    </tr>\n",
       "    <tr>\n",
       "      <th>min</th>\n",
       "      <td>0.000000</td>\n",
       "      <td>0.000000</td>\n",
       "      <td>0.000000</td>\n",
       "      <td>0.0</td>\n",
       "    </tr>\n",
       "    <tr>\n",
       "      <th>25%</th>\n",
       "      <td>0.000000</td>\n",
       "      <td>0.000000</td>\n",
       "      <td>0.000000</td>\n",
       "      <td>0.0</td>\n",
       "    </tr>\n",
       "    <tr>\n",
       "      <th>50%</th>\n",
       "      <td>4.000000</td>\n",
       "      <td>1.000000</td>\n",
       "      <td>0.000000</td>\n",
       "      <td>0.0</td>\n",
       "    </tr>\n",
       "    <tr>\n",
       "      <th>75%</th>\n",
       "      <td>7.000000</td>\n",
       "      <td>1.000000</td>\n",
       "      <td>0.000000</td>\n",
       "      <td>0.0</td>\n",
       "    </tr>\n",
       "    <tr>\n",
       "      <th>max</th>\n",
       "      <td>12.000000</td>\n",
       "      <td>1.000000</td>\n",
       "      <td>1.000000</td>\n",
       "      <td>0.0</td>\n",
       "    </tr>\n",
       "  </tbody>\n",
       "</table>\n",
       "</div>"
      ],
      "text/plain": [
       "             Orders      Gender_F      Gender_M  Cluster\n",
       "count  22587.000000  22587.000000  22587.000000  22587.0\n",
       "mean       4.097932      0.704476      0.197237      0.0\n",
       "std        3.605793      0.456288      0.397922      0.0\n",
       "min        0.000000      0.000000      0.000000      0.0\n",
       "25%        0.000000      0.000000      0.000000      0.0\n",
       "50%        4.000000      1.000000      0.000000      0.0\n",
       "75%        7.000000      1.000000      0.000000      0.0\n",
       "max       12.000000      1.000000      1.000000      0.0"
      ]
     },
     "execution_count": 58,
     "metadata": {},
     "output_type": "execute_result"
    }
   ],
   "source": [
    "# get summary for observations in the cluster\n",
    "# consider the number of orders and customer gender for cluster analysis\n",
    "data_output[['Orders', 'Gender_F', 'Gender_M', 'Cluster']][data_output.Cluster == 0].describe()"
   ]
  },
  {
   "cell_type": "markdown",
   "metadata": {
    "colab_type": "text",
    "id": "LeHBbmWXmKJ7"
   },
   "source": [
    "The proportion of both male and female customers is proportionate in this cluster as compared to the overall gender proportion in the dataset"
   ]
  },
  {
   "cell_type": "markdown",
   "metadata": {
    "colab_type": "text",
    "id": "uPuX4gL1I7fx"
   },
   "source": [
    " <a id='cluster_2'></a>\n",
    "## 6.2 Analysis of Cluster_2"
   ]
  },
  {
   "cell_type": "markdown",
   "metadata": {
    "colab_type": "text",
    "id": "NeeUqc69f6zR"
   },
   "source": [
    "<table align=\"left\">\n",
    "    <tr>\n",
    "        <td width=\"8%\">\n",
    "            <img src=\"key.png\">\n",
    "        </td>\n",
    "        <td>\n",
    "            <div align=\"left\", style=\"font-size:120%\">\n",
    "                <font color=\"#21618C\">\n",
    "                    <b> Here we analyze the second cluster:<br><br>\n",
    "                        1. Check the size of a cluster <Br>\n",
    "                        2. Sort the variables belonging to the cluster <br>\n",
    "                        3. Compute the statistical summary for observations in the cluster         </b>\n",
    "                </font>\n",
    "            </div>\n",
    "        </td>\n",
    "    </tr>\n",
    "</table>"
   ]
  },
  {
   "cell_type": "code",
   "execution_count": 61,
   "metadata": {
    "colab": {},
    "colab_type": "code",
    "id": "5ZYj8eMqI7fy",
    "scrolled": true
   },
   "outputs": [],
   "source": [
    "# sort the variables based on cluster centers\n",
    "cluster_2 = sorted(zip(list(centers.iloc[1,:]), list(centers.columns)), reverse = True)[:10]     "
   ]
  },
  {
   "cell_type": "markdown",
   "metadata": {
    "colab_type": "text",
    "id": "Or4vZZfdoLOs"
   },
   "source": [
    "**1. Check the size of a cluster**"
   ]
  },
  {
   "cell_type": "code",
   "execution_count": 62,
   "metadata": {
    "colab": {
     "base_uri": "https://localhost:8080/",
     "height": 34
    },
    "colab_type": "code",
    "id": "79bSPJSwI7f1",
    "outputId": "0559f516-7e27-4fb2-cd5b-4914a8d5bc68"
   },
   "outputs": [
    {
     "data": {
      "text/plain": [
       "561"
      ]
     },
     "execution_count": 62,
     "metadata": {},
     "output_type": "execute_result"
    }
   ],
   "source": [
    "# size of a cluster_2\n",
    "np.unique(model.labels_, return_counts=True)[1][1]"
   ]
  },
  {
   "cell_type": "markdown",
   "metadata": {
    "colab_type": "text",
    "id": "Tq0-GoNjZqh6"
   },
   "source": [
    "561 customers belong to cluster_2. This is the smallest cluster"
   ]
  },
  {
   "cell_type": "markdown",
   "metadata": {
    "colab_type": "text",
    "id": "Y9S8kG2KZqh7"
   },
   "source": [
    "**2. Sort variables belonging to the cluster**"
   ]
  },
  {
   "cell_type": "code",
   "execution_count": 63,
   "metadata": {
    "colab": {
     "base_uri": "https://localhost:8080/",
     "height": 204
    },
    "colab_type": "code",
    "id": "2ZYrFmFXI7f9",
    "outputId": "0c265cc2-ce5f-4ff1-b8ac-b27817340ca5"
   },
   "outputs": [
    {
     "data": {
      "text/plain": [
       "0         Siemens\n",
       "1           Asics\n",
       "2    J.M. Smucker\n",
       "3       Pop Chips\n",
       "4          Huawei\n",
       "5              Mi\n",
       "6        Gatorade\n",
       "7         Juniper\n",
       "8          Compaq\n",
       "9            Fila\n",
       "Name: 1, dtype: object"
      ]
     },
     "execution_count": 63,
     "metadata": {},
     "output_type": "execute_result"
    }
   ],
   "source": [
    "# retrieve the top 10 variables present in the cluster\n",
    "cluster2_var = pd.DataFrame(cluster_2)[1]\n",
    "cluster2_var        "
   ]
  },
  {
   "cell_type": "markdown",
   "metadata": {
    "colab_type": "text",
    "id": "E24MrobgofmG"
   },
   "source": [
    "<table align=\"left\">\n",
    "   <tr>\n",
    "        <td width=\"8%\">\n",
    "           <img src=\"note.png\">\n",
    "        </td>\n",
    "        <td>\n",
    "            <div align=\"left\", style=\"font-size:120%\">\n",
    "                <font color=\"#21618C\">\n",
    "                    <b>It can be observed that most of the customers in this cluster have searched for electronics brands like Bosch, Samsung, OnePlus and so on. Thus, we can segment this cluster under 'Electronics'\n",
    "                    </b>\n",
    "                </font>\n",
    "            </div>\n",
    "        </td>\n",
    "    </tr>\n",
    "</table>\n",
    "\n",
    "\n",
    "\n",
    "\n",
    "\n"
   ]
  },
  {
   "cell_type": "markdown",
   "metadata": {
    "colab_type": "text",
    "id": "wzY4D6hYo0aE"
   },
   "source": [
    "**3. Compute the statistical summary for observations in the cluster**"
   ]
  },
  {
   "cell_type": "code",
   "execution_count": 65,
   "metadata": {
    "colab": {
     "base_uri": "https://localhost:8080/",
     "height": 297
    },
    "colab_type": "code",
    "id": "8--291MCI7gA",
    "outputId": "5021b262-90cb-4f77-89a1-c49db0b3f79f"
   },
   "outputs": [
    {
     "data": {
      "text/html": [
       "<div>\n",
       "<style scoped>\n",
       "    .dataframe tbody tr th:only-of-type {\n",
       "        vertical-align: middle;\n",
       "    }\n",
       "\n",
       "    .dataframe tbody tr th {\n",
       "        vertical-align: top;\n",
       "    }\n",
       "\n",
       "    .dataframe thead th {\n",
       "        text-align: right;\n",
       "    }\n",
       "</style>\n",
       "<table border=\"1\" class=\"dataframe\">\n",
       "  <thead>\n",
       "    <tr style=\"text-align: right;\">\n",
       "      <th></th>\n",
       "      <th>Orders</th>\n",
       "      <th>Gender_F</th>\n",
       "      <th>Gender_M</th>\n",
       "      <th>Cluster</th>\n",
       "    </tr>\n",
       "  </thead>\n",
       "  <tbody>\n",
       "    <tr>\n",
       "      <th>count</th>\n",
       "      <td>561.000000</td>\n",
       "      <td>561.000000</td>\n",
       "      <td>561.000000</td>\n",
       "      <td>561.0</td>\n",
       "    </tr>\n",
       "    <tr>\n",
       "      <th>mean</th>\n",
       "      <td>4.406417</td>\n",
       "      <td>0.696970</td>\n",
       "      <td>0.212121</td>\n",
       "      <td>1.0</td>\n",
       "    </tr>\n",
       "    <tr>\n",
       "      <th>std</th>\n",
       "      <td>3.526263</td>\n",
       "      <td>0.459978</td>\n",
       "      <td>0.409175</td>\n",
       "      <td>0.0</td>\n",
       "    </tr>\n",
       "    <tr>\n",
       "      <th>min</th>\n",
       "      <td>0.000000</td>\n",
       "      <td>0.000000</td>\n",
       "      <td>0.000000</td>\n",
       "      <td>1.0</td>\n",
       "    </tr>\n",
       "    <tr>\n",
       "      <th>25%</th>\n",
       "      <td>1.000000</td>\n",
       "      <td>0.000000</td>\n",
       "      <td>0.000000</td>\n",
       "      <td>1.0</td>\n",
       "    </tr>\n",
       "    <tr>\n",
       "      <th>50%</th>\n",
       "      <td>4.000000</td>\n",
       "      <td>1.000000</td>\n",
       "      <td>0.000000</td>\n",
       "      <td>1.0</td>\n",
       "    </tr>\n",
       "    <tr>\n",
       "      <th>75%</th>\n",
       "      <td>7.000000</td>\n",
       "      <td>1.000000</td>\n",
       "      <td>0.000000</td>\n",
       "      <td>1.0</td>\n",
       "    </tr>\n",
       "    <tr>\n",
       "      <th>max</th>\n",
       "      <td>12.000000</td>\n",
       "      <td>1.000000</td>\n",
       "      <td>1.000000</td>\n",
       "      <td>1.0</td>\n",
       "    </tr>\n",
       "  </tbody>\n",
       "</table>\n",
       "</div>"
      ],
      "text/plain": [
       "           Orders    Gender_F    Gender_M  Cluster\n",
       "count  561.000000  561.000000  561.000000    561.0\n",
       "mean     4.406417    0.696970    0.212121      1.0\n",
       "std      3.526263    0.459978    0.409175      0.0\n",
       "min      0.000000    0.000000    0.000000      1.0\n",
       "25%      1.000000    0.000000    0.000000      1.0\n",
       "50%      4.000000    1.000000    0.000000      1.0\n",
       "75%      7.000000    1.000000    0.000000      1.0\n",
       "max     12.000000    1.000000    1.000000      1.0"
      ]
     },
     "execution_count": 65,
     "metadata": {},
     "output_type": "execute_result"
    }
   ],
   "source": [
    "# get summary for observations in the cluster\n",
    "# consider the number of orders and customer gender for cluster analysis\n",
    "data_output[['Orders', 'Gender_F', 'Gender_M', 'Cluster']][data_output.Cluster == 1].describe()"
   ]
  },
  {
   "cell_type": "markdown",
   "metadata": {
    "colab_type": "text",
    "id": "7asGBWbnpHqm"
   },
   "source": [
    "This cluster contains highest male population among all the clusters. But, there is high deviation in both the genders"
   ]
  },
  {
   "cell_type": "markdown",
   "metadata": {
    "colab_type": "text",
    "id": "RK2KDF28I7gD"
   },
   "source": [
    "<a id='cluster_3'></a>\n",
    "## 6.3 Analysis of Cluster_3"
   ]
  },
  {
   "cell_type": "markdown",
   "metadata": {
    "colab_type": "text",
    "id": "9Qw9lt_7f6zt"
   },
   "source": [
    "<table align=\"left\">\n",
    "    <tr>\n",
    "        <td width=\"8%\">\n",
    "            <img src=\"key.png\">\n",
    "        </td>\n",
    "        <td>\n",
    "            <div align=\"left\", style=\"font-size:120%\">\n",
    "                <font color=\"#21618C\">\n",
    "                    <b> Here we analyze the third cluster:<br><br>\n",
    "                        1. Check the size of a cluster <Br>\n",
    "                        2. Sort the variables belonging to the cluster <br>\n",
    "                        3. Compute the statistical summary for observations in the cluster         </b>\n",
    "                </font>\n",
    "            </div>\n",
    "        </td>\n",
    "    </tr>\n",
    "</table>"
   ]
  },
  {
   "cell_type": "code",
   "execution_count": 66,
   "metadata": {
    "colab": {},
    "colab_type": "code",
    "id": "OhH1bQ-JI7gE"
   },
   "outputs": [],
   "source": [
    "# sort the variables based on cluster centers\n",
    "cluster_3 = sorted(zip(list(centers.iloc[2,:]), list(centers.columns)), reverse = True)[:10]   "
   ]
  },
  {
   "cell_type": "markdown",
   "metadata": {
    "colab_type": "text",
    "id": "oCXffplCu62H"
   },
   "source": [
    "**1. Check the size of a cluster**"
   ]
  },
  {
   "cell_type": "code",
   "execution_count": 67,
   "metadata": {
    "colab": {
     "base_uri": "https://localhost:8080/",
     "height": 34
    },
    "colab_type": "code",
    "id": "ostrN65QI7gI",
    "outputId": "32c2b70c-d54b-40ed-d7ff-98db164435da"
   },
   "outputs": [
    {
     "data": {
      "text/plain": [
       "1267"
      ]
     },
     "execution_count": 67,
     "metadata": {},
     "output_type": "execute_result"
    }
   ],
   "source": [
    "# size of cluster_3\n",
    "np.unique(model.labels_, return_counts=True)[1][2]"
   ]
  },
  {
   "cell_type": "markdown",
   "metadata": {
    "colab_type": "text",
    "id": "9g5sK2JzZqin"
   },
   "source": [
    "This cluster contains 1267 customers"
   ]
  },
  {
   "cell_type": "markdown",
   "metadata": {
    "colab_type": "text",
    "id": "DWhDM0Q_Zqio"
   },
   "source": [
    "**2. Sort variables belonging to the cluster**"
   ]
  },
  {
   "cell_type": "code",
   "execution_count": 68,
   "metadata": {
    "colab": {
     "base_uri": "https://localhost:8080/",
     "height": 204
    },
    "colab_type": "code",
    "id": "glEmRiyzI7gN",
    "outputId": "3c623d7a-6678-43f4-9e95-db8e8f436723"
   },
   "outputs": [
    {
     "data": {
      "text/plain": [
       "0          Burberry\n",
       "1            Pladis\n",
       "2             Kraft\n",
       "3       Dairy Queen\n",
       "4         Jiffy mix\n",
       "5                LG\n",
       "6         Pop Chips\n",
       "7          Colavita\n",
       "8      J.M. Smucker\n",
       "9    Tommy Hilfiger\n",
       "Name: 1, dtype: object"
      ]
     },
     "execution_count": 68,
     "metadata": {},
     "output_type": "execute_result"
    }
   ],
   "source": [
    "# retrieve the top 10 variables present in the cluster\n",
    "cluster3_var = pd.DataFrame(cluster_3)[1]\n",
    "cluster3_var             "
   ]
  },
  {
   "cell_type": "markdown",
   "metadata": {
    "colab_type": "text",
    "id": "KswZiP9AvyN4"
   },
   "source": [
    "<table align=\"left\">\n",
    "   <tr>\n",
    "        <td width=\"8%\">\n",
    "           <img src=\"note.png\">\n",
    "        </td>\n",
    "       <td>\n",
    "            <div align=\"left\", style=\"font-size:120%\">\n",
    "                <font color=\"#21618C\">\n",
    "                    <b>This cluster contains the customers who have searched for food brands like Nestle, Buskin-Robbin's,  Pillsbury, and so on. Thus, we can segment this cluster under 'Grocery' \n",
    "                    </b>\n",
    "                </font>\n",
    "            </div>\n",
    "        </td>\n",
    "    </tr>\n",
    "</table>\n",
    "\n",
    "\n",
    "\n",
    "\n",
    "\n",
    "\n",
    "\n"
   ]
  },
  {
   "cell_type": "markdown",
   "metadata": {
    "colab_type": "text",
    "id": "DC8USaBDwOLd"
   },
   "source": [
    "**3. Compute the statistical summary for observations in the cluster**"
   ]
  },
  {
   "cell_type": "code",
   "execution_count": 70,
   "metadata": {
    "colab": {
     "base_uri": "https://localhost:8080/",
     "height": 297
    },
    "colab_type": "code",
    "id": "EInU3Yf9I7gQ",
    "outputId": "68cc67e9-4e4f-4052-8849-fb21e6303dfd"
   },
   "outputs": [
    {
     "data": {
      "text/html": [
       "<div>\n",
       "<style scoped>\n",
       "    .dataframe tbody tr th:only-of-type {\n",
       "        vertical-align: middle;\n",
       "    }\n",
       "\n",
       "    .dataframe tbody tr th {\n",
       "        vertical-align: top;\n",
       "    }\n",
       "\n",
       "    .dataframe thead th {\n",
       "        text-align: right;\n",
       "    }\n",
       "</style>\n",
       "<table border=\"1\" class=\"dataframe\">\n",
       "  <thead>\n",
       "    <tr style=\"text-align: right;\">\n",
       "      <th></th>\n",
       "      <th>Orders</th>\n",
       "      <th>Gender_F</th>\n",
       "      <th>Gender_M</th>\n",
       "      <th>Cluster</th>\n",
       "    </tr>\n",
       "  </thead>\n",
       "  <tbody>\n",
       "    <tr>\n",
       "      <th>count</th>\n",
       "      <td>1267.000000</td>\n",
       "      <td>1267.000000</td>\n",
       "      <td>1267.000000</td>\n",
       "      <td>1267.0</td>\n",
       "    </tr>\n",
       "    <tr>\n",
       "      <th>mean</th>\n",
       "      <td>4.132597</td>\n",
       "      <td>0.820047</td>\n",
       "      <td>0.121547</td>\n",
       "      <td>2.0</td>\n",
       "    </tr>\n",
       "    <tr>\n",
       "      <th>std</th>\n",
       "      <td>3.631063</td>\n",
       "      <td>0.384300</td>\n",
       "      <td>0.326891</td>\n",
       "      <td>0.0</td>\n",
       "    </tr>\n",
       "    <tr>\n",
       "      <th>min</th>\n",
       "      <td>0.000000</td>\n",
       "      <td>0.000000</td>\n",
       "      <td>0.000000</td>\n",
       "      <td>2.0</td>\n",
       "    </tr>\n",
       "    <tr>\n",
       "      <th>25%</th>\n",
       "      <td>1.000000</td>\n",
       "      <td>1.000000</td>\n",
       "      <td>0.000000</td>\n",
       "      <td>2.0</td>\n",
       "    </tr>\n",
       "    <tr>\n",
       "      <th>50%</th>\n",
       "      <td>4.000000</td>\n",
       "      <td>1.000000</td>\n",
       "      <td>0.000000</td>\n",
       "      <td>2.0</td>\n",
       "    </tr>\n",
       "    <tr>\n",
       "      <th>75%</th>\n",
       "      <td>7.000000</td>\n",
       "      <td>1.000000</td>\n",
       "      <td>0.000000</td>\n",
       "      <td>2.0</td>\n",
       "    </tr>\n",
       "    <tr>\n",
       "      <th>max</th>\n",
       "      <td>12.000000</td>\n",
       "      <td>1.000000</td>\n",
       "      <td>1.000000</td>\n",
       "      <td>2.0</td>\n",
       "    </tr>\n",
       "  </tbody>\n",
       "</table>\n",
       "</div>"
      ],
      "text/plain": [
       "            Orders     Gender_F     Gender_M  Cluster\n",
       "count  1267.000000  1267.000000  1267.000000   1267.0\n",
       "mean      4.132597     0.820047     0.121547      2.0\n",
       "std       3.631063     0.384300     0.326891      0.0\n",
       "min       0.000000     0.000000     0.000000      2.0\n",
       "25%       1.000000     1.000000     0.000000      2.0\n",
       "50%       4.000000     1.000000     0.000000      2.0\n",
       "75%       7.000000     1.000000     0.000000      2.0\n",
       "max      12.000000     1.000000     1.000000      2.0"
      ]
     },
     "execution_count": 70,
     "metadata": {},
     "output_type": "execute_result"
    }
   ],
   "source": [
    "# get summary for observations in the cluster\n",
    "# consider the number of orders and customer gender for cluster analysis\n",
    "data_output[['Orders', 'Gender_F', 'Gender_M', 'Cluster']][data_output.Cluster == 2].describe()"
   ]
  },
  {
   "cell_type": "markdown",
   "metadata": {
    "colab_type": "text",
    "id": "MUVGh0FGwcjm"
   },
   "source": [
    "It can be observed that there is a majority of female customers (with mean 0.82) in this cluster. "
   ]
  },
  {
   "cell_type": "markdown",
   "metadata": {
    "colab_type": "text",
    "id": "YdAd0yqkvyM8"
   },
   "source": [
    "<a id='cluster_4'></a>\n",
    "## 6.4 Analysis of Cluster_4"
   ]
  },
  {
   "cell_type": "markdown",
   "metadata": {
    "colab_type": "text",
    "id": "dZ4Ozg6nvyNP"
   },
   "source": [
    "<table align=\"left\">\n",
    "    <tr>\n",
    "        <td width=\"8%\">\n",
    "            <img src=\"key.png\">\n",
    "        </td>\n",
    "        <td>\n",
    "            <div align=\"left\", style=\"font-size:120%\">\n",
    "                <font color=\"#21618C\">\n",
    "                    <b> Here we analyze the fourth cluster:<br><br>\n",
    "                        1. Check the size of a cluster <Br>\n",
    "                        2. Sort the variables belonging to the cluster <br>\n",
    "                        3. Compute the statistical summary for observations in the cluster         </b>\n",
    "                </font>\n",
    "            </div>\n",
    "        </td>\n",
    "    </tr>\n",
    "</table>"
   ]
  },
  {
   "cell_type": "code",
   "execution_count": 71,
   "metadata": {
    "colab": {},
    "colab_type": "code",
    "id": "HlGJybAlvyNW"
   },
   "outputs": [],
   "source": [
    "# sort the variables based on cluster centers\n",
    "cluster_4 = sorted(zip(list(centers.iloc[3,:]), list(centers.columns)), reverse=True)[:10]   "
   ]
  },
  {
   "cell_type": "markdown",
   "metadata": {
    "colab_type": "text",
    "id": "wvXWez9cvyNi"
   },
   "source": [
    "**1. Check the size of a cluster**"
   ]
  },
  {
   "cell_type": "code",
   "execution_count": 72,
   "metadata": {
    "colab": {
     "base_uri": "https://localhost:8080/",
     "height": 34
    },
    "colab_type": "code",
    "id": "U2_Qv3TwvyNk",
    "outputId": "b4cf4ddc-e97a-4604-9c8b-04f41198863f"
   },
   "outputs": [
    {
     "data": {
      "text/plain": [
       "5585"
      ]
     },
     "execution_count": 72,
     "metadata": {},
     "output_type": "execute_result"
    }
   ],
   "source": [
    "# size of cluster_4\n",
    "np.unique(model.labels_, return_counts=True)[1][3]"
   ]
  },
  {
   "cell_type": "markdown",
   "metadata": {
    "colab_type": "text",
    "id": "MRn9ee3gvyNt"
   },
   "source": [
    "This cluster contains 5585 customers"
   ]
  },
  {
   "cell_type": "markdown",
   "metadata": {
    "colab_type": "text",
    "id": "iP3ZxCE4vyNv"
   },
   "source": [
    "**2. Sort variables belonging to the cluster**"
   ]
  },
  {
   "cell_type": "code",
   "execution_count": 73,
   "metadata": {
    "colab": {
     "base_uri": "https://localhost:8080/",
     "height": 204
    },
    "colab_type": "code",
    "id": "I7FW3RIDvyNx",
    "outputId": "a67b6dd9-fe8a-44d9-ad5f-4e423d19093c"
   },
   "outputs": [
    {
     "data": {
      "text/plain": [
       "0        Scabal\n",
       "1        Jordan\n",
       "2          Dior\n",
       "3           H&M\n",
       "4     Hollister\n",
       "5      Gatorade\n",
       "6        Huawei\n",
       "7          Udis\n",
       "8          Asus\n",
       "9    Forever 21\n",
       "Name: 1, dtype: object"
      ]
     },
     "execution_count": 73,
     "metadata": {},
     "output_type": "execute_result"
    }
   ],
   "source": [
    "# retrieve the top 10 variables present in the cluster\n",
    "cluster4_var = pd.DataFrame(cluster_4)[1]\n",
    "cluster4_var             "
   ]
  },
  {
   "cell_type": "markdown",
   "metadata": {
    "colab_type": "text",
    "id": "4GNhubGNstY4"
   },
   "source": [
    "<table align=\"left\">\n",
    "   <tr>\n",
    "        <td width=\"8%\">\n",
    "           <img src=\"note.png\">\n",
    "        </td>\n",
    "       <td>\n",
    "            <div align=\"left\", style=\"font-size:120%\">\n",
    "                <font color=\"#21618C\">\n",
    "                    <b>This cluster contains the customers who have searched for clothing brands like Scabal, Jordan, Dior, H&M, and so on. Thus, we can segment this cluster under 'Apperals' \n",
    "                    </b>\n",
    "                </font>\n",
    "            </div>\n",
    "        </td>\n",
    "    </tr>\n",
    "</table>\n",
    "\n",
    "\n",
    "\n",
    "\n",
    "\n",
    "\n",
    "\n"
   ]
  },
  {
   "cell_type": "markdown",
   "metadata": {
    "colab_type": "text",
    "id": "bmhNBSRnvyN6"
   },
   "source": [
    "**3. Compute the statistical summary for observations in the cluster**"
   ]
  },
  {
   "cell_type": "code",
   "execution_count": 74,
   "metadata": {
    "colab": {
     "base_uri": "https://localhost:8080/",
     "height": 297
    },
    "colab_type": "code",
    "id": "3JSwqbdfvyN_",
    "outputId": "eab52660-2f71-4c66-8952-497c265da035",
    "scrolled": true
   },
   "outputs": [
    {
     "data": {
      "text/html": [
       "<div>\n",
       "<style scoped>\n",
       "    .dataframe tbody tr th:only-of-type {\n",
       "        vertical-align: middle;\n",
       "    }\n",
       "\n",
       "    .dataframe tbody tr th {\n",
       "        vertical-align: top;\n",
       "    }\n",
       "\n",
       "    .dataframe thead th {\n",
       "        text-align: right;\n",
       "    }\n",
       "</style>\n",
       "<table border=\"1\" class=\"dataframe\">\n",
       "  <thead>\n",
       "    <tr style=\"text-align: right;\">\n",
       "      <th></th>\n",
       "      <th>Orders</th>\n",
       "      <th>Gender_F</th>\n",
       "      <th>Gender_M</th>\n",
       "      <th>Cluster</th>\n",
       "    </tr>\n",
       "  </thead>\n",
       "  <tbody>\n",
       "    <tr>\n",
       "      <th>count</th>\n",
       "      <td>5585.000000</td>\n",
       "      <td>5585.000000</td>\n",
       "      <td>5585.000000</td>\n",
       "      <td>5585.0</td>\n",
       "    </tr>\n",
       "    <tr>\n",
       "      <th>mean</th>\n",
       "      <td>4.445121</td>\n",
       "      <td>0.843688</td>\n",
       "      <td>0.088451</td>\n",
       "      <td>3.0</td>\n",
       "    </tr>\n",
       "    <tr>\n",
       "      <th>std</th>\n",
       "      <td>3.510408</td>\n",
       "      <td>0.363183</td>\n",
       "      <td>0.283975</td>\n",
       "      <td>0.0</td>\n",
       "    </tr>\n",
       "    <tr>\n",
       "      <th>min</th>\n",
       "      <td>0.000000</td>\n",
       "      <td>0.000000</td>\n",
       "      <td>0.000000</td>\n",
       "      <td>3.0</td>\n",
       "    </tr>\n",
       "    <tr>\n",
       "      <th>25%</th>\n",
       "      <td>1.000000</td>\n",
       "      <td>1.000000</td>\n",
       "      <td>0.000000</td>\n",
       "      <td>3.0</td>\n",
       "    </tr>\n",
       "    <tr>\n",
       "      <th>50%</th>\n",
       "      <td>4.000000</td>\n",
       "      <td>1.000000</td>\n",
       "      <td>0.000000</td>\n",
       "      <td>3.0</td>\n",
       "    </tr>\n",
       "    <tr>\n",
       "      <th>75%</th>\n",
       "      <td>7.000000</td>\n",
       "      <td>1.000000</td>\n",
       "      <td>0.000000</td>\n",
       "      <td>3.0</td>\n",
       "    </tr>\n",
       "    <tr>\n",
       "      <th>max</th>\n",
       "      <td>12.000000</td>\n",
       "      <td>1.000000</td>\n",
       "      <td>1.000000</td>\n",
       "      <td>3.0</td>\n",
       "    </tr>\n",
       "  </tbody>\n",
       "</table>\n",
       "</div>"
      ],
      "text/plain": [
       "            Orders     Gender_F     Gender_M  Cluster\n",
       "count  5585.000000  5585.000000  5585.000000   5585.0\n",
       "mean      4.445121     0.843688     0.088451      3.0\n",
       "std       3.510408     0.363183     0.283975      0.0\n",
       "min       0.000000     0.000000     0.000000      3.0\n",
       "25%       1.000000     1.000000     0.000000      3.0\n",
       "50%       4.000000     1.000000     0.000000      3.0\n",
       "75%       7.000000     1.000000     0.000000      3.0\n",
       "max      12.000000     1.000000     1.000000      3.0"
      ]
     },
     "execution_count": 74,
     "metadata": {},
     "output_type": "execute_result"
    }
   ],
   "source": [
    "# get summary for observations in the cluster\n",
    "# consider the number of orders and customer gender for cluster analysis\n",
    "data_output[['Orders', 'Gender_F', 'Gender_M', 'Cluster']][data_output.Cluster==3].describe()"
   ]
  },
  {
   "cell_type": "markdown",
   "metadata": {
    "colab_type": "text",
    "id": "KG1zX_4cvyOF"
   },
   "source": [
    "This cluster contains highest female population and lowest male population among all the clusters"
   ]
  },
  {
   "cell_type": "markdown",
   "metadata": {
    "colab_type": "text",
    "id": "um9pZxTAaYXs"
   },
   "source": [
    "<a id='conclusion'></a>\n",
    "# 7. Conclusion"
   ]
  },
  {
   "cell_type": "markdown",
   "metadata": {
    "colab_type": "text",
    "id": "1xiWcQQYabxF"
   },
   "source": [
    "<table align=\"left\">\n",
    "   <tr>\n",
    "      <td width=\"8%\">\n",
    "           <img src=\"key.png\">\n",
    "       </td>\n",
    "         <td>\n",
    "        <div align=\"left\", style=\"font-size:120%\">\n",
    "              <font color=\"#21618C\">\n",
    "                <b>In this case study, we have grouped the customers' dataset into 4 clusters based on the brands they have searched on e-commerce sites. We have used the silhouette score method to find the optimum number of clusters and decided k = 4 as the best pick after analyzing the silhouette score.<br><br>\n",
    "After applying the K-means algorithm with an optimized number of clusters, we segment the customers under 'Grocery', 'Apparels', 'Electronics', and 'Basket class' categories. These clusters give information about the interest of the customer in the different brands. This type of segmentation can help the e-commerce companies, to know the customer's choices and they can provide more accurate recommendations to the customers                     </b>\n",
    "                </font>\n",
    "            </div>\n",
    "        </td>\n",
    "    </tr>\n",
    "</table>"
   ]
  },
  {
   "cell_type": "code",
   "execution_count": null,
   "metadata": {},
   "outputs": [],
   "source": []
  },
  {
   "cell_type": "code",
   "execution_count": null,
   "metadata": {},
   "outputs": [],
   "source": []
  }
 ],
 "metadata": {
  "kernelspec": {
   "display_name": "Python 3 (ipykernel)",
   "language": "python",
   "name": "python3"
  },
  "language_info": {
   "codemirror_mode": {
    "name": "ipython",
    "version": 3
   },
   "file_extension": ".py",
   "mimetype": "text/x-python",
   "name": "python",
   "nbconvert_exporter": "python",
   "pygments_lexer": "ipython3",
   "version": "3.9.7"
  }
 },
 "nbformat": 4,
 "nbformat_minor": 2
}
