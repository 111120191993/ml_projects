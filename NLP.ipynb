{
 "cells": [
  {
   "cell_type": "code",
   "execution_count": 2,
   "id": "415aa626",
   "metadata": {},
   "outputs": [],
   "source": [
    "import nltk\n",
    "\n",
    "# To download nltk library and all packages\n",
    "# nltk.download()"
   ]
  },
  {
   "cell_type": "code",
   "execution_count": 1,
   "id": "818ec174",
   "metadata": {},
   "outputs": [],
   "source": [
    "paragraph = \"\"\"Python is a high-level, general-purpose programming language. Its design philosophy emphasizes code \n",
    "readability with the use of significant indentation. Its language constructs and object-oriented approach aim to help \n",
    "programmers write clear, logical code for small- and large-scale projects.[30]Python is dynamically-typed and \n",
    "garbage-collected. It supports multiple programming paradigms, including structured (particularly procedural), \n",
    "object-oriented and functional programming. It is often described as a \"batteries included\" language due to its \n",
    "comprehensive standard library.[31][32].Guido van Rossum began working on Python in the late 1980s as a successor to \n",
    "the ABC programming language and first released it in 1991 as Python 0.9.0.[33] Python 2.0 was released in 2000 and \n",
    "introduced new features such as list comprehensions, cycle-detecting garbage collection, reference counting, and Unicode \n",
    "support. Python 3.0, released in 2008, was a major revision that is not completely backward-compatible with earlier \n",
    "versions. Python 2 was discontinued with version 2.7.18 in 2020.[34]\"\"\""
   ]
  },
  {
   "cell_type": "code",
   "execution_count": 3,
   "id": "7a84d2a2",
   "metadata": {},
   "outputs": [],
   "source": [
    "# Convert paragraph to sentenses using tokenization\n",
    "sentenses = nltk.sent_tokenize(paragraph)"
   ]
  },
  {
   "cell_type": "code",
   "execution_count": 5,
   "id": "434d606f",
   "metadata": {},
   "outputs": [],
   "source": [
    "# Convert paragraph to words using tokenization\n",
    "words = nltk.word_tokenize(paragraph)"
   ]
  },
  {
   "cell_type": "code",
   "execution_count": null,
   "id": "912f716d",
   "metadata": {},
   "outputs": [],
   "source": []
  },
  {
   "cell_type": "markdown",
   "id": "a01b1d5f",
   "metadata": {},
   "source": [
    "### Stemming"
   ]
  },
  {
   "cell_type": "code",
   "execution_count": 7,
   "id": "c3e040c8",
   "metadata": {},
   "outputs": [],
   "source": [
    "# Create base form of the word\n",
    "from nltk.stem import PorterStemmer  # for stemming\n",
    "from nltk.corpus import stopwords  # In represents is, the will, for, she, ,.........."
   ]
  },
  {
   "cell_type": "code",
   "execution_count": 22,
   "id": "cbc65110",
   "metadata": {},
   "outputs": [],
   "source": [
    "sentenses = nltk.sent_tokenize(paragraph)\n",
    "words = nltk.word_tokenize(paragraph)"
   ]
  },
  {
   "cell_type": "code",
   "execution_count": 9,
   "id": "d085cda1",
   "metadata": {},
   "outputs": [],
   "source": [
    "stemmer  = PorterStemmer()"
   ]
  },
  {
   "cell_type": "code",
   "execution_count": 14,
   "id": "3b7ec3cc",
   "metadata": {},
   "outputs": [],
   "source": [
    "# To check list of stopwords\n",
    "# stopwords.words('english')"
   ]
  },
  {
   "cell_type": "code",
   "execution_count": 29,
   "id": "fd264cd6",
   "metadata": {},
   "outputs": [],
   "source": [
    "for i in range(len(sentenses)):\n",
    "    words = nltk.word_tokenize(sentenses[i])\n",
    "    words = [stemmer.stem(word) for word in words if word not in set(stopwords.words('english'))] \n",
    "    \n",
    "    sentenses[i] = ' '.join(words)"
   ]
  },
  {
   "cell_type": "code",
   "execution_count": null,
   "id": "f187d0fa",
   "metadata": {},
   "outputs": [],
   "source": []
  },
  {
   "cell_type": "markdown",
   "id": "bfe91a10",
   "metadata": {},
   "source": [
    "### Lemitization"
   ]
  },
  {
   "cell_type": "code",
   "execution_count": 31,
   "id": "e88acf73",
   "metadata": {},
   "outputs": [],
   "source": [
    "# Create meaninful word\n",
    "from nltk.stem import WordNetLemmatizer  # pkg for lemitization\n",
    "from nltk.corpus import stopwords  # In represents is, the will, for, she, ,.........."
   ]
  },
  {
   "cell_type": "code",
   "execution_count": 32,
   "id": "9cde4bf1",
   "metadata": {},
   "outputs": [],
   "source": [
    "sentenses = nltk.sent_tokenize(paragraph)\n",
    "words = nltk.word_tokenize(paragraph)"
   ]
  },
  {
   "cell_type": "code",
   "execution_count": 33,
   "id": "d8b44215",
   "metadata": {},
   "outputs": [],
   "source": [
    "lammtizer = WordNetLemmatizer()"
   ]
  },
  {
   "cell_type": "code",
   "execution_count": 34,
   "id": "7d75ebce",
   "metadata": {},
   "outputs": [],
   "source": [
    "for i in range(len(sentenses)):\n",
    "    words = nltk.word_tokenize(sentenses[i])\n",
    "    words = [lammtizer.lemmatize(x) for x in words if x not in set(stopwords.words('english'))] \n",
    "    \n",
    "    sentenses[i] = ' '.join(words)"
   ]
  },
  {
   "cell_type": "code",
   "execution_count": 13,
   "id": "d88d7221",
   "metadata": {},
   "outputs": [
    {
     "data": {
      "text/plain": [
       "['Python is a high-level, general-purpose programming language.',\n",
       " 'Its design philosophy emphasizes code \\nreadability with the use of significant indentation.',\n",
       " 'Its language constructs and object-oriented approach aim to help \\nprogrammers write clear, logical code for small- and large-scale projects.',\n",
       " '[30]Python is dynamically-typed and \\ngarbage-collected.',\n",
       " 'It supports multiple programming paradigms, including structured (particularly procedural), \\nobject-oriented and functional programming.',\n",
       " 'It is often described as a \"batteries included\" language due to its \\ncomprehensive standard library.',\n",
       " '[31][32].Guido van Rossum began working on Python in the late 1980s as a successor to \\nthe ABC programming language and first released it in 1991 as Python 0.9.0.',\n",
       " '[33] Python 2.0 was released in 2000 and \\nintroduced new features such as list comprehensions, cycle-detecting garbage collection, reference counting, and Unicode \\nsupport.',\n",
       " 'Python 3.0, released in 2008, was a major revision that is not completely backward-compatible with earlier \\nversions.',\n",
       " 'Python 2 was discontinued with version 2.7.18 in 2020.',\n",
       " '[34]']"
      ]
     },
     "execution_count": 13,
     "metadata": {},
     "output_type": "execute_result"
    }
   ],
   "source": [
    "sentenses"
   ]
  },
  {
   "cell_type": "code",
   "execution_count": 14,
   "id": "6af874fa",
   "metadata": {},
   "outputs": [
    {
     "data": {
      "text/plain": [
       "['i',\n",
       " 'me',\n",
       " 'my',\n",
       " 'myself',\n",
       " 'we',\n",
       " 'our',\n",
       " 'ours',\n",
       " 'ourselves',\n",
       " 'you',\n",
       " \"you're\",\n",
       " \"you've\",\n",
       " \"you'll\",\n",
       " \"you'd\",\n",
       " 'your',\n",
       " 'yours',\n",
       " 'yourself',\n",
       " 'yourselves',\n",
       " 'he',\n",
       " 'him',\n",
       " 'his',\n",
       " 'himself',\n",
       " 'she',\n",
       " \"she's\",\n",
       " 'her',\n",
       " 'hers',\n",
       " 'herself',\n",
       " 'it',\n",
       " \"it's\",\n",
       " 'its',\n",
       " 'itself',\n",
       " 'they',\n",
       " 'them',\n",
       " 'their',\n",
       " 'theirs',\n",
       " 'themselves',\n",
       " 'what',\n",
       " 'which',\n",
       " 'who',\n",
       " 'whom',\n",
       " 'this',\n",
       " 'that',\n",
       " \"that'll\",\n",
       " 'these',\n",
       " 'those',\n",
       " 'am',\n",
       " 'is',\n",
       " 'are',\n",
       " 'was',\n",
       " 'were',\n",
       " 'be',\n",
       " 'been',\n",
       " 'being',\n",
       " 'have',\n",
       " 'has',\n",
       " 'had',\n",
       " 'having',\n",
       " 'do',\n",
       " 'does',\n",
       " 'did',\n",
       " 'doing',\n",
       " 'a',\n",
       " 'an',\n",
       " 'the',\n",
       " 'and',\n",
       " 'but',\n",
       " 'if',\n",
       " 'or',\n",
       " 'because',\n",
       " 'as',\n",
       " 'until',\n",
       " 'while',\n",
       " 'of',\n",
       " 'at',\n",
       " 'by',\n",
       " 'for',\n",
       " 'with',\n",
       " 'about',\n",
       " 'against',\n",
       " 'between',\n",
       " 'into',\n",
       " 'through',\n",
       " 'during',\n",
       " 'before',\n",
       " 'after',\n",
       " 'above',\n",
       " 'below',\n",
       " 'to',\n",
       " 'from',\n",
       " 'up',\n",
       " 'down',\n",
       " 'in',\n",
       " 'out',\n",
       " 'on',\n",
       " 'off',\n",
       " 'over',\n",
       " 'under',\n",
       " 'again',\n",
       " 'further',\n",
       " 'then',\n",
       " 'once',\n",
       " 'here',\n",
       " 'there',\n",
       " 'when',\n",
       " 'where',\n",
       " 'why',\n",
       " 'how',\n",
       " 'all',\n",
       " 'any',\n",
       " 'both',\n",
       " 'each',\n",
       " 'few',\n",
       " 'more',\n",
       " 'most',\n",
       " 'other',\n",
       " 'some',\n",
       " 'such',\n",
       " 'no',\n",
       " 'nor',\n",
       " 'not',\n",
       " 'only',\n",
       " 'own',\n",
       " 'same',\n",
       " 'so',\n",
       " 'than',\n",
       " 'too',\n",
       " 'very',\n",
       " 's',\n",
       " 't',\n",
       " 'can',\n",
       " 'will',\n",
       " 'just',\n",
       " 'don',\n",
       " \"don't\",\n",
       " 'should',\n",
       " \"should've\",\n",
       " 'now',\n",
       " 'd',\n",
       " 'll',\n",
       " 'm',\n",
       " 'o',\n",
       " 're',\n",
       " 've',\n",
       " 'y',\n",
       " 'ain',\n",
       " 'aren',\n",
       " \"aren't\",\n",
       " 'couldn',\n",
       " \"couldn't\",\n",
       " 'didn',\n",
       " \"didn't\",\n",
       " 'doesn',\n",
       " \"doesn't\",\n",
       " 'hadn',\n",
       " \"hadn't\",\n",
       " 'hasn',\n",
       " \"hasn't\",\n",
       " 'haven',\n",
       " \"haven't\",\n",
       " 'isn',\n",
       " \"isn't\",\n",
       " 'ma',\n",
       " 'mightn',\n",
       " \"mightn't\",\n",
       " 'mustn',\n",
       " \"mustn't\",\n",
       " 'needn',\n",
       " \"needn't\",\n",
       " 'shan',\n",
       " \"shan't\",\n",
       " 'shouldn',\n",
       " \"shouldn't\",\n",
       " 'wasn',\n",
       " \"wasn't\",\n",
       " 'weren',\n",
       " \"weren't\",\n",
       " 'won',\n",
       " \"won't\",\n",
       " 'wouldn',\n",
       " \"wouldn't\"]"
      ]
     },
     "execution_count": 14,
     "metadata": {},
     "output_type": "execute_result"
    }
   ],
   "source": [
    "stopwords.words('english')"
   ]
  },
  {
   "cell_type": "markdown",
   "id": "da6e8092",
   "metadata": {},
   "source": [
    "### Bag of words"
   ]
  },
  {
   "cell_type": "code",
   "execution_count": 17,
   "id": "29e75546",
   "metadata": {},
   "outputs": [
    {
     "data": {
      "text/plain": [
       "'Python is a high-level, general-purpose programming language. Its design philosophy emphasizes code \\nreadability with the use of significant indentation. Its language constructs and object-oriented approach aim to help \\nprogrammers write clear, logical code for small- and large-scale projects.[30]Python is dynamically-typed and \\ngarbage-collected. It supports multiple programming paradigms, including structured (particularly procedural), \\nobject-oriented and functional programming. It is often described as a \"batteries included\" language due to its \\ncomprehensive standard library.[31][32].Guido van Rossum began working on Python in the late 1980s as a successor to \\nthe ABC programming language and first released it in 1991 as Python 0.9.0.[33] Python 2.0 was released in 2000 and \\nintroduced new features such as list comprehensions, cycle-detecting garbage collection, reference counting, and Unicode \\nsupport. Python 3.0, released in 2008, was a major revision that is not completely backward-compatible with earlier \\nversions. Python 2 was discontinued with version 2.7.18 in 2020.[34]'"
      ]
     },
     "execution_count": 17,
     "metadata": {},
     "output_type": "execute_result"
    }
   ],
   "source": [
    "paragraph"
   ]
  },
  {
   "cell_type": "code",
   "execution_count": 38,
   "id": "bdbbcb0c",
   "metadata": {},
   "outputs": [],
   "source": []
  },
  {
   "cell_type": "code",
   "execution_count": 16,
   "id": "b606885a",
   "metadata": {},
   "outputs": [],
   "source": [
    "import re\n",
    "from nltk.stem import PorterStemmer\n",
    "from nltk.stem import WordNetLemmatizer\n",
    "sentenses = nltk.sent_tokenize(paragraph)\n",
    "words = nltk.word_tokenize(paragraph)\n",
    "from nltk.corpus import stopwords"
   ]
  },
  {
   "cell_type": "code",
   "execution_count": 18,
   "id": "c70415a9",
   "metadata": {},
   "outputs": [],
   "source": [
    "ps = PorterStemmer()\n",
    "wordnet = WordNetLemmatizer()"
   ]
  },
  {
   "cell_type": "code",
   "execution_count": 45,
   "id": "0a29bd38",
   "metadata": {},
   "outputs": [],
   "source": [
    "list = []\n",
    "\n",
    "for i in range(len(sentenses)):\n",
    "    words = re.sub('[^a-zA-Z]',' ',sentenses[i])\n",
    "    words = words.lower()\n",
    "    words = words.split()\n",
    "    words = [ps.stem(word) for word in words if word not in set(stopwords.words('english'))] \n",
    "    words = ' '.join(words)\n",
    "    list.append(words)"
   ]
  },
  {
   "cell_type": "code",
   "execution_count": 40,
   "id": "0332827a",
   "metadata": {},
   "outputs": [
    {
     "data": {
      "text/plain": [
       "['python high level gener purpos program languag',\n",
       " 'design philosophi emphas code readabl use signific indent',\n",
       " 'languag construct object orient approach aim help programm write clear logic code small larg scale project',\n",
       " 'python dynam type garbag collect',\n",
       " 'support multipl program paradigm includ structur particularli procedur object orient function program',\n",
       " 'often describ batteri includ languag due comprehens standard librari',\n",
       " 'guido van rossum began work python late successor abc program languag first releas python',\n",
       " 'python releas introduc new featur list comprehens cycl detect garbag collect refer count unicod support',\n",
       " 'python releas major revis complet backward compat earlier version',\n",
       " 'python discontinu version',\n",
       " '']"
      ]
     },
     "execution_count": 40,
     "metadata": {},
     "output_type": "execute_result"
    }
   ],
   "source": [
    "list"
   ]
  },
  {
   "cell_type": "code",
   "execution_count": 43,
   "id": "416fce76",
   "metadata": {},
   "outputs": [],
   "source": [
    "list1 = []\n",
    "\n",
    "for i in range(len(sentenses)):\n",
    "    words = re.sub('[^a-zA-Z]',' ',sentenses[i])\n",
    "    words = words.lower()\n",
    "    words = words.split()\n",
    "    words = [wordnet.lemmatize(word) for word in words if word not in set(stopwords.words('english'))] \n",
    "    words = ' '.join(words)\n",
    "    list1.append(words)\n"
   ]
  },
  {
   "cell_type": "code",
   "execution_count": 44,
   "id": "16574546",
   "metadata": {},
   "outputs": [
    {
     "data": {
      "text/plain": [
       "['python high level general purpose programming language',\n",
       " 'design philosophy emphasizes code readability use significant indentation',\n",
       " 'language construct object oriented approach aim help programmer write clear logical code small large scale project',\n",
       " 'python dynamically typed garbage collected',\n",
       " 'support multiple programming paradigm including structured particularly procedural object oriented functional programming',\n",
       " 'often described battery included language due comprehensive standard library',\n",
       " 'guido van rossum began working python late successor abc programming language first released python',\n",
       " 'python released introduced new feature list comprehension cycle detecting garbage collection reference counting unicode support',\n",
       " 'python released major revision completely backward compatible earlier version',\n",
       " 'python discontinued version',\n",
       " '']"
      ]
     },
     "execution_count": 44,
     "metadata": {},
     "output_type": "execute_result"
    }
   ],
   "source": [
    "list1"
   ]
  },
  {
   "cell_type": "code",
   "execution_count": 46,
   "id": "505e8fe1",
   "metadata": {},
   "outputs": [],
   "source": [
    "# Create Bag of Words model by using lemitization\n",
    "from sklearn.feature_extraction.text import CountVectorizer #for createing BoW document matrix\n",
    "\n",
    "cv = CountVectorizer()\n",
    "x = cv.fit_transform(list1).toarray()"
   ]
  },
  {
   "cell_type": "code",
   "execution_count": 49,
   "id": "32e2646d",
   "metadata": {},
   "outputs": [],
   "source": [
    "# Create Bag of Words model by using stemming\n",
    "from sklearn.feature_extraction.text import CountVectorizer #for createing BoW document matrix\n",
    "\n",
    "cv = CountVectorizer()\n",
    "x = cv.fit_transform(list).toarray()"
   ]
  },
  {
   "cell_type": "code",
   "execution_count": 56,
   "id": "f0b849b7",
   "metadata": {},
   "outputs": [],
   "source": [
    "# TF - IDF\n",
    "from sklearn.feature_extraction.text import TfidfVectorizer\n",
    "tfidf = TfidfVectorizer()\n",
    "x = tfidf.fit_transform(list).toarray()"
   ]
  },
  {
   "cell_type": "code",
   "execution_count": 57,
   "id": "350deb7b",
   "metadata": {},
   "outputs": [
    {
     "data": {
      "text/plain": [
       "array([[0.        , 0.        , 0.        , 0.        , 0.        ,\n",
       "        0.        , 0.        , 0.        , 0.        , 0.        ,\n",
       "        0.        , 0.        , 0.        , 0.        , 0.        ,\n",
       "        0.        , 0.        , 0.        , 0.        , 0.        ,\n",
       "        0.        , 0.        , 0.        , 0.        , 0.        ,\n",
       "        0.        , 0.        , 0.43354405, 0.        , 0.        ,\n",
       "        0.43354405, 0.        , 0.        , 0.        , 0.29124942,\n",
       "        0.        , 0.        , 0.43354405, 0.        , 0.        ,\n",
       "        0.        , 0.        , 0.        , 0.        , 0.        ,\n",
       "        0.        , 0.        , 0.        , 0.        , 0.        ,\n",
       "        0.        , 0.32590232, 0.        , 0.        , 0.43354405,\n",
       "        0.23899723, 0.        , 0.        , 0.        , 0.        ,\n",
       "        0.        , 0.        , 0.        , 0.        , 0.        ,\n",
       "        0.        , 0.        , 0.        , 0.        , 0.        ,\n",
       "        0.        , 0.        , 0.        , 0.        , 0.        ],\n",
       "       [0.        , 0.        , 0.        , 0.        , 0.        ,\n",
       "        0.        , 0.        , 0.30742475, 0.        , 0.        ,\n",
       "        0.        , 0.        , 0.        , 0.        , 0.        ,\n",
       "        0.        , 0.35966056, 0.        , 0.        , 0.        ,\n",
       "        0.        , 0.        , 0.35966056, 0.        , 0.        ,\n",
       "        0.        , 0.        , 0.        , 0.        , 0.        ,\n",
       "        0.        , 0.        , 0.35966056, 0.        , 0.        ,\n",
       "        0.        , 0.        , 0.        , 0.        , 0.        ,\n",
       "        0.        , 0.        , 0.        , 0.        , 0.        ,\n",
       "        0.        , 0.        , 0.        , 0.        , 0.35966056,\n",
       "        0.        , 0.        , 0.        , 0.        , 0.        ,\n",
       "        0.        , 0.35966056, 0.        , 0.        , 0.        ,\n",
       "        0.        , 0.        , 0.35966056, 0.        , 0.        ,\n",
       "        0.        , 0.        , 0.        , 0.        , 0.        ,\n",
       "        0.35966056, 0.        , 0.        , 0.        , 0.        ],\n",
       "       [0.        , 0.26132598, 0.26132598, 0.        , 0.        ,\n",
       "        0.        , 0.26132598, 0.22337193, 0.        , 0.        ,\n",
       "        0.        , 0.        , 0.26132598, 0.        , 0.        ,\n",
       "        0.        , 0.        , 0.        , 0.        , 0.        ,\n",
       "        0.        , 0.        , 0.        , 0.        , 0.        ,\n",
       "        0.        , 0.        , 0.        , 0.        , 0.26132598,\n",
       "        0.        , 0.        , 0.        , 0.        , 0.17555549,\n",
       "        0.26132598, 0.        , 0.        , 0.        , 0.        ,\n",
       "        0.26132598, 0.        , 0.        , 0.        , 0.22337193,\n",
       "        0.        , 0.22337193, 0.        , 0.        , 0.        ,\n",
       "        0.        , 0.        , 0.26132598, 0.26132598, 0.        ,\n",
       "        0.        , 0.        , 0.        , 0.        , 0.        ,\n",
       "        0.        , 0.26132598, 0.        , 0.26132598, 0.        ,\n",
       "        0.        , 0.        , 0.        , 0.        , 0.        ,\n",
       "        0.        , 0.        , 0.        , 0.        , 0.26132598],\n",
       "       [0.        , 0.        , 0.        , 0.        , 0.        ,\n",
       "        0.        , 0.        , 0.        , 0.44051005, 0.        ,\n",
       "        0.        , 0.        , 0.        , 0.        , 0.        ,\n",
       "        0.        , 0.        , 0.        , 0.        , 0.        ,\n",
       "        0.51535893, 0.        , 0.        , 0.        , 0.        ,\n",
       "        0.        , 0.44051005, 0.        , 0.        , 0.        ,\n",
       "        0.        , 0.        , 0.        , 0.        , 0.        ,\n",
       "        0.        , 0.        , 0.        , 0.        , 0.        ,\n",
       "        0.        , 0.        , 0.        , 0.        , 0.        ,\n",
       "        0.        , 0.        , 0.        , 0.        , 0.        ,\n",
       "        0.        , 0.        , 0.        , 0.        , 0.        ,\n",
       "        0.28409883, 0.        , 0.        , 0.        , 0.        ,\n",
       "        0.        , 0.        , 0.        , 0.        , 0.        ,\n",
       "        0.        , 0.        , 0.        , 0.51535893, 0.        ,\n",
       "        0.        , 0.        , 0.        , 0.        , 0.        ],\n",
       "       [0.        , 0.        , 0.        , 0.        , 0.        ,\n",
       "        0.        , 0.        , 0.        , 0.        , 0.        ,\n",
       "        0.        , 0.        , 0.        , 0.        , 0.        ,\n",
       "        0.        , 0.        , 0.        , 0.        , 0.        ,\n",
       "        0.        , 0.        , 0.        , 0.        , 0.        ,\n",
       "        0.29903692, 0.        , 0.        , 0.        , 0.        ,\n",
       "        0.        , 0.25560587, 0.        , 0.        , 0.        ,\n",
       "        0.        , 0.        , 0.        , 0.        , 0.        ,\n",
       "        0.        , 0.        , 0.29903692, 0.        , 0.25560587,\n",
       "        0.        , 0.25560587, 0.29903692, 0.29903692, 0.        ,\n",
       "        0.29903692, 0.44958211, 0.        , 0.        , 0.        ,\n",
       "        0.        , 0.        , 0.        , 0.        , 0.        ,\n",
       "        0.        , 0.        , 0.        , 0.        , 0.        ,\n",
       "        0.29903692, 0.        , 0.25560587, 0.        , 0.        ,\n",
       "        0.        , 0.        , 0.        , 0.        , 0.        ],\n",
       "       [0.        , 0.        , 0.        , 0.        , 0.355502  ,\n",
       "        0.        , 0.        , 0.        , 0.        , 0.        ,\n",
       "        0.        , 0.30387016, 0.        , 0.        , 0.        ,\n",
       "        0.355502  , 0.        , 0.        , 0.        , 0.355502  ,\n",
       "        0.        , 0.        , 0.        , 0.        , 0.        ,\n",
       "        0.        , 0.        , 0.        , 0.        , 0.        ,\n",
       "        0.        , 0.30387016, 0.        , 0.        , 0.23882175,\n",
       "        0.        , 0.        , 0.        , 0.355502  , 0.        ,\n",
       "        0.        , 0.        , 0.        , 0.        , 0.        ,\n",
       "        0.355502  , 0.        , 0.        , 0.        , 0.        ,\n",
       "        0.        , 0.        , 0.        , 0.        , 0.        ,\n",
       "        0.        , 0.        , 0.        , 0.        , 0.        ,\n",
       "        0.        , 0.        , 0.        , 0.        , 0.355502  ,\n",
       "        0.        , 0.        , 0.        , 0.        , 0.        ,\n",
       "        0.        , 0.        , 0.        , 0.        , 0.        ],\n",
       "       [0.29114799, 0.        , 0.        , 0.        , 0.        ,\n",
       "        0.29114799, 0.        , 0.        , 0.        , 0.        ,\n",
       "        0.        , 0.        , 0.        , 0.        , 0.        ,\n",
       "        0.        , 0.        , 0.        , 0.        , 0.        ,\n",
       "        0.        , 0.        , 0.        , 0.        , 0.29114799,\n",
       "        0.        , 0.        , 0.        , 0.29114799, 0.        ,\n",
       "        0.        , 0.        , 0.        , 0.        , 0.19558954,\n",
       "        0.        , 0.29114799, 0.        , 0.        , 0.        ,\n",
       "        0.        , 0.        , 0.        , 0.        , 0.        ,\n",
       "        0.        , 0.        , 0.        , 0.        , 0.        ,\n",
       "        0.        , 0.21886082, 0.        , 0.        , 0.        ,\n",
       "        0.32099882, 0.        , 0.        , 0.21886082, 0.        ,\n",
       "        0.29114799, 0.        , 0.        , 0.        , 0.        ,\n",
       "        0.        , 0.29114799, 0.        , 0.        , 0.        ,\n",
       "        0.        , 0.29114799, 0.        , 0.29114799, 0.        ],\n",
       "       [0.        , 0.        , 0.        , 0.        , 0.        ,\n",
       "        0.        , 0.        , 0.        , 0.23899349, 0.        ,\n",
       "        0.        , 0.23899349, 0.        , 0.27960186, 0.27960186,\n",
       "        0.        , 0.        , 0.27960186, 0.        , 0.        ,\n",
       "        0.        , 0.        , 0.        , 0.27960186, 0.        ,\n",
       "        0.        , 0.23899349, 0.        , 0.        , 0.        ,\n",
       "        0.        , 0.        , 0.        , 0.27960186, 0.        ,\n",
       "        0.        , 0.        , 0.        , 0.        , 0.27960186,\n",
       "        0.        , 0.        , 0.        , 0.27960186, 0.        ,\n",
       "        0.        , 0.        , 0.        , 0.        , 0.        ,\n",
       "        0.        , 0.        , 0.        , 0.        , 0.        ,\n",
       "        0.15413444, 0.        , 0.27960186, 0.21018139, 0.        ,\n",
       "        0.        , 0.        , 0.        , 0.        , 0.        ,\n",
       "        0.        , 0.        , 0.23899349, 0.        , 0.27960186,\n",
       "        0.        , 0.        , 0.        , 0.        , 0.        ],\n",
       "       [0.        , 0.        , 0.        , 0.36274789, 0.        ,\n",
       "        0.        , 0.        , 0.        , 0.        , 0.36274789,\n",
       "        0.36274789, 0.        , 0.        , 0.        , 0.        ,\n",
       "        0.        , 0.        , 0.        , 0.        , 0.        ,\n",
       "        0.        , 0.36274789, 0.        , 0.        , 0.        ,\n",
       "        0.        , 0.        , 0.        , 0.        , 0.        ,\n",
       "        0.        , 0.        , 0.        , 0.        , 0.        ,\n",
       "        0.        , 0.        , 0.        , 0.        , 0.        ,\n",
       "        0.        , 0.36274789, 0.        , 0.        , 0.        ,\n",
       "        0.        , 0.        , 0.        , 0.        , 0.        ,\n",
       "        0.        , 0.        , 0.        , 0.        , 0.        ,\n",
       "        0.19996985, 0.        , 0.        , 0.27268366, 0.36274789,\n",
       "        0.        , 0.        , 0.        , 0.        , 0.        ,\n",
       "        0.        , 0.        , 0.        , 0.        , 0.        ,\n",
       "        0.        , 0.        , 0.31006369, 0.        , 0.        ],\n",
       "       [0.        , 0.        , 0.        , 0.        , 0.        ,\n",
       "        0.        , 0.        , 0.        , 0.        , 0.        ,\n",
       "        0.        , 0.        , 0.        , 0.        , 0.        ,\n",
       "        0.        , 0.        , 0.        , 0.70108356, 0.        ,\n",
       "        0.        , 0.        , 0.        , 0.        , 0.        ,\n",
       "        0.        , 0.        , 0.        , 0.        , 0.        ,\n",
       "        0.        , 0.        , 0.        , 0.        , 0.        ,\n",
       "        0.        , 0.        , 0.        , 0.        , 0.        ,\n",
       "        0.        , 0.        , 0.        , 0.        , 0.        ,\n",
       "        0.        , 0.        , 0.        , 0.        , 0.        ,\n",
       "        0.        , 0.        , 0.        , 0.        , 0.        ,\n",
       "        0.38648213, 0.        , 0.        , 0.        , 0.        ,\n",
       "        0.        , 0.        , 0.        , 0.        , 0.        ,\n",
       "        0.        , 0.        , 0.        , 0.        , 0.        ,\n",
       "        0.        , 0.        , 0.59926071, 0.        , 0.        ],\n",
       "       [0.        , 0.        , 0.        , 0.        , 0.        ,\n",
       "        0.        , 0.        , 0.        , 0.        , 0.        ,\n",
       "        0.        , 0.        , 0.        , 0.        , 0.        ,\n",
       "        0.        , 0.        , 0.        , 0.        , 0.        ,\n",
       "        0.        , 0.        , 0.        , 0.        , 0.        ,\n",
       "        0.        , 0.        , 0.        , 0.        , 0.        ,\n",
       "        0.        , 0.        , 0.        , 0.        , 0.        ,\n",
       "        0.        , 0.        , 0.        , 0.        , 0.        ,\n",
       "        0.        , 0.        , 0.        , 0.        , 0.        ,\n",
       "        0.        , 0.        , 0.        , 0.        , 0.        ,\n",
       "        0.        , 0.        , 0.        , 0.        , 0.        ,\n",
       "        0.        , 0.        , 0.        , 0.        , 0.        ,\n",
       "        0.        , 0.        , 0.        , 0.        , 0.        ,\n",
       "        0.        , 0.        , 0.        , 0.        , 0.        ,\n",
       "        0.        , 0.        , 0.        , 0.        , 0.        ]])"
      ]
     },
     "execution_count": 57,
     "metadata": {},
     "output_type": "execute_result"
    }
   ],
   "source": [
    "x "
   ]
  },
  {
   "cell_type": "code",
   "execution_count": 58,
   "id": "970ac073",
   "metadata": {},
   "outputs": [],
   "source": [
    "# Word to vec  - Please refer LMS code\n",
    "\n",
    "paragraph = \"\"\"Word2vec is a technique for natural language processing published in 2013. The word2vec algorithm uses a neural network model to learn word associations from a large corpus of text. Once trained, such a model can detect synonymous words or suggest additional words for a partial sentence. As the name implies, word2vec represents each distinct word with a particular list of numbers called a vector. The vectors are chosen carefully such that a simple mathematical function (the cosine similarity between the vectors) indicates the level of semantic similarity between the words represented by those vectors.\"\"\""
   ]
  },
  {
   "cell_type": "code",
   "execution_count": 61,
   "id": "27800d0d",
   "metadata": {},
   "outputs": [],
   "source": [
    "# pip install gensim\n",
    "\n",
    "import nltk\n",
    "from nltk.corpus import stopwords\n",
    "from gensim.models import Word2Vec\n",
    "\n",
    "import re"
   ]
  },
  {
   "cell_type": "code",
   "execution_count": 69,
   "id": "8fce701a",
   "metadata": {},
   "outputs": [],
   "source": [
    "words = re.sub(r'\\[[0-9]*\\]', ' ', paragraph)\n",
    "words = re.sub(r'\\s+', ' ', words)\n",
    "words = re.sub(r'\\d', ' ', words)\n",
    "words = re.sub(r'\\s+', ' ', words)\n"
   ]
  },
  {
   "cell_type": "code",
   "execution_count": 70,
   "id": "814dac7f",
   "metadata": {},
   "outputs": [
    {
     "data": {
      "text/plain": [
       "'Word vec is a technique for natural language processing published in . The word vec algorithm uses a neural network model to learn word associations from a large corpus of text. Once trained, such a model can detect synonymous words or suggest additional words for a partial sentence. As the name implies, word vec represents each distinct word with a particular list of numbers called a vector. The vectors are chosen carefully such that a simple mathematical function (the cosine similarity between the vectors) indicates the level of semantic similarity between the words represented by those vectors.'"
      ]
     },
     "execution_count": 70,
     "metadata": {},
     "output_type": "execute_result"
    }
   ],
   "source": [
    "words"
   ]
  },
  {
   "cell_type": "code",
   "execution_count": null,
   "id": "8575a311",
   "metadata": {},
   "outputs": [],
   "source": [
    "model = Word2Vec(words, min_count=3)"
   ]
  },
  {
   "cell_type": "code",
   "execution_count": null,
   "id": "801b2ae5",
   "metadata": {},
   "outputs": [],
   "source": []
  },
  {
   "cell_type": "code",
   "execution_count": null,
   "id": "1eb5b46a",
   "metadata": {},
   "outputs": [],
   "source": []
  },
  {
   "cell_type": "code",
   "execution_count": null,
   "id": "eac963d4",
   "metadata": {},
   "outputs": [],
   "source": []
  },
  {
   "cell_type": "code",
   "execution_count": null,
   "id": "0efef6bb",
   "metadata": {},
   "outputs": [],
   "source": []
  },
  {
   "cell_type": "code",
   "execution_count": null,
   "id": "6a9e6551",
   "metadata": {},
   "outputs": [],
   "source": []
  },
  {
   "cell_type": "code",
   "execution_count": null,
   "id": "a4025270",
   "metadata": {},
   "outputs": [],
   "source": []
  },
  {
   "cell_type": "code",
   "execution_count": null,
   "id": "9172e867",
   "metadata": {},
   "outputs": [],
   "source": []
  },
  {
   "cell_type": "code",
   "execution_count": null,
   "id": "e2068ba4",
   "metadata": {},
   "outputs": [],
   "source": []
  },
  {
   "cell_type": "code",
   "execution_count": null,
   "id": "fb2cdcb0",
   "metadata": {},
   "outputs": [],
   "source": []
  },
  {
   "cell_type": "code",
   "execution_count": null,
   "id": "6e7ccd32",
   "metadata": {},
   "outputs": [],
   "source": []
  },
  {
   "cell_type": "code",
   "execution_count": null,
   "id": "3f47ddd9",
   "metadata": {},
   "outputs": [],
   "source": []
  },
  {
   "cell_type": "code",
   "execution_count": null,
   "id": "99ddafe4",
   "metadata": {},
   "outputs": [],
   "source": []
  },
  {
   "cell_type": "code",
   "execution_count": null,
   "id": "40ac43b7",
   "metadata": {},
   "outputs": [],
   "source": []
  },
  {
   "cell_type": "code",
   "execution_count": null,
   "id": "e7f9cde3",
   "metadata": {},
   "outputs": [],
   "source": []
  },
  {
   "cell_type": "code",
   "execution_count": null,
   "id": "ceccdb51",
   "metadata": {},
   "outputs": [],
   "source": []
  },
  {
   "cell_type": "code",
   "execution_count": null,
   "id": "74defa03",
   "metadata": {},
   "outputs": [],
   "source": []
  },
  {
   "cell_type": "code",
   "execution_count": null,
   "id": "5e718841",
   "metadata": {},
   "outputs": [],
   "source": []
  },
  {
   "cell_type": "code",
   "execution_count": null,
   "id": "15feedab",
   "metadata": {},
   "outputs": [],
   "source": []
  },
  {
   "cell_type": "code",
   "execution_count": null,
   "id": "ee5c2014",
   "metadata": {},
   "outputs": [],
   "source": []
  },
  {
   "cell_type": "code",
   "execution_count": null,
   "id": "7c9f2ca4",
   "metadata": {},
   "outputs": [],
   "source": []
  },
  {
   "cell_type": "code",
   "execution_count": null,
   "id": "a66d9ff6",
   "metadata": {},
   "outputs": [],
   "source": []
  },
  {
   "cell_type": "code",
   "execution_count": null,
   "id": "4c494e26",
   "metadata": {},
   "outputs": [],
   "source": []
  },
  {
   "cell_type": "code",
   "execution_count": null,
   "id": "bf3b0b9c",
   "metadata": {},
   "outputs": [],
   "source": []
  },
  {
   "cell_type": "code",
   "execution_count": null,
   "id": "c24d3bb5",
   "metadata": {},
   "outputs": [],
   "source": []
  },
  {
   "cell_type": "code",
   "execution_count": null,
   "id": "c85d435e",
   "metadata": {},
   "outputs": [],
   "source": []
  },
  {
   "cell_type": "code",
   "execution_count": null,
   "id": "31882ec5",
   "metadata": {},
   "outputs": [],
   "source": []
  }
 ],
 "metadata": {
  "kernelspec": {
   "display_name": "Python 3 (ipykernel)",
   "language": "python",
   "name": "python3"
  },
  "language_info": {
   "codemirror_mode": {
    "name": "ipython",
    "version": 3
   },
   "file_extension": ".py",
   "mimetype": "text/x-python",
   "name": "python",
   "nbconvert_exporter": "python",
   "pygments_lexer": "ipython3",
   "version": "3.9.7"
  }
 },
 "nbformat": 4,
 "nbformat_minor": 5
}
