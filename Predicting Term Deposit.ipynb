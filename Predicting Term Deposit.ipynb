{
 "cells": [
  {
   "cell_type": "markdown",
   "metadata": {},
   "source": [
    "  <tr>\n",
    "        <td width=\"15%\">\n",
    "        </td>\n",
    "        <td>\n",
    "            <div align=\"left\">\n",
    "                <font size=25px>\n",
    "                    <b>  Predicting Term Deposit Subscription by a client\n",
    "                    </b>\n",
    "                </font>\n",
    "            </div>\n",
    "        </td>\n",
    "    </tr>"
   ]
  },
  {
   "cell_type": "markdown",
   "metadata": {},
   "source": [
    "## Problem Statement:\n",
    "The objective of the dataset is to predict whether or not a client will subscribe to the term deposit.  \n",
    "\n",
    "The data is related with direct marketing campaigns of a Portuguese banking institution. The marketing campaigns were based on phone calls. Often, more than one contact to the same client was required, in order to access if the product (bank term deposit) would be ('yes') or not ('no') subscribed. \n",
    "\n",
    "The dataset consists of several predictor variables and one target variable, Outcome. Predictor variables includes the age, job, marital status, and so on.\n"
   ]
  },
  {
   "cell_type": "markdown",
   "metadata": {},
   "source": [
    "## Data Definition:\n",
    "\n",
    "Input variables:\n",
    "\n",
    "1) **age** (numeric)\n",
    "\n",
    "\n",
    "2) **job:**  type of job (categorical: 'admin.','blue-collar', 'entrepreneur', 'housemaid', 'management', 'retired','self-employed', 'services', 'student', 'technician', 'unemployed', 'unknown')\n",
    "\n",
    "\n",
    "3) **marital:** &nbsp;&nbsp; marital status (categorical: 'divorced','married','single','unknown'; note: 'divorced' means divorced or widowed)\n",
    "\n",
    "4) **education:** (categorical: 'basic.4y', 'basic.6y' ,'basic.9y', 'high.school', 'illiterate', 'professional.course', 'university.degree','unknown')\n",
    "\n",
    "\n",
    "5) **default:** has credit in default? (categorical: 'no','yes','unknown')\n",
    "\n",
    "\n",
    "6) **housing:** has housing loan? (categorical: 'no','yes','unknown')\n",
    "\n",
    "\n",
    "7) **loan:**    has personal loan? (categorical: 'no','yes','unknown')\n",
    "\n",
    "\n",
    "8) **contact:** contact communication type (categorical: 'cellular','telephone') \n",
    "\n",
    "\n",
    "9) **month:**   last contact month of year (categorical: 'jan', 'feb', 'mar', ..., 'nov', 'dec')\n",
    "\n",
    "\n",
    "10) **day_of_week:** last contact day of the week (categorical: 'mon','tue','wed','thu','fri')\n",
    "\n",
    "\n",
    "11) **duration:** last contact duration, in seconds (numeric). Important note: this attribute highly affects the output target (e.g., if duration=0 then y='no'). Yet, the duration is not known before a call is performed. Also, after the end of the call y is obviously known. Thus, this input should only be included for benchmark purposes and should be discarded if the intention is to have a realistic predictive model.\n",
    "\n",
    "\n",
    "12) **campaign:** number of contacts performed during this campaign and for this client (numeric, includes last contact)\n",
    "\n",
    "\n",
    "13) **pdays:** number of days that passed by after the client was last contacted from a previous campaign (numeric; 999 means client was not previously contacted)\n",
    "\n",
    "\n",
    "14) **previous:** number of contacts performed before this campaign and for this client (numeric)\n",
    "\n",
    "\n",
    "15) **poutcome:** outcome of the previous marketing campaign (categorical: 'failure','nonexistent','success')\n",
    "\n",
    "\n",
    "16) **emp.var.rate:** employment variation rate - quarterly indicator (numeric)\n",
    "\n",
    "\n",
    "17) **cons.price.idx:** consumer price index - monthly indicator (numeric) \n",
    "\n",
    "\n",
    "18) **cons.conf.idx:** consumer confidence index - monthly indicator (numeric) \n",
    "\n",
    "\n",
    "19) **euribor3m:** euribor 3 month rate - daily indicator (numeric)\n",
    "\n",
    "\n",
    "20) **nr.employed:** number of employees - quarterly indicator (numeric)\n",
    "\n",
    "\n",
    "\n",
    "Output variable (desired target):\n",
    "\n",
    "21) **y** - has the client subscribed a term deposit? (binary: 'yes','no')\n"
   ]
  },
  {
   "cell_type": "markdown",
   "metadata": {},
   "source": [
    "## Content\n",
    "\n",
    "1. **[Import Packages](#import_packages)**\n",
    "2. **[Read Data](#Read_Data)**\n",
    "3. **[Understand and Prepare the Data](#data_preparation)**\n",
    "    - 3.1 - [Data Types and Dimensions](#Data_Types)\n",
    "    - 3.2 - [Statistical Summary](#Statistical_Summary)\n",
    "    - 3.3 - [Label Encoding for Target Variable](#Label_Encoding_for_Target_Variable)\n",
    "    - 3.4 - [One Hot Encoding for Categorical Variables](#One_Hot_Encoding_for_Categorical_Variables)\n",
    "    - 3.5 - [Missing Data Treatment](#Missing_Data_Treatment)\n",
    "    - 3.6 - [Correlation](#Correlation)\n",
    "4. **[Support Vector Machine](#SVM)**\n",
    "    - 4.1 - [ Support Vector Machine using Linear Kernal](#Linear)\n",
    "    - 4.2 - [Support Vector Machine using Gaussian Kernal](#Gaussian)\n",
    "    - 4.3 - [Support Vector Machine using Sigmoid Kernal](#Sigmoid)\n",
    "    - 4.4 - [Support Vector Machine using Polynomial Kernal](#Poly)\n",
    "    - 4.5 - [Support Vector Machine using Polynomial Kernal with degree of polynomial = 2](#Poly_d)\n",
    "    - 4.6 - [Support Vector Machine using Polynomial Kernal using GridSearchCV](#Poly_Grid)\n",
    "    "
   ]
  },
  {
   "cell_type": "markdown",
   "metadata": {},
   "source": [
    "<a id='import_packages'></a>\n",
    "## 1. Import Packages"
   ]
  },
  {
   "cell_type": "code",
   "execution_count": 1,
   "metadata": {
    "collapsed": true
   },
   "outputs": [],
   "source": [
    "# import pandas\n",
    "import pandas as pd\n",
    "\n",
    "# import numpy\n",
    "import numpy as np\n",
    "\n",
    "# import matplotlib\n",
    "import matplotlib.pyplot as plt\n",
    "\n",
    "# to save graph within the notebook\n",
    "%matplotlib inline\n",
    "\n",
    "# import seaborn\n",
    "import seaborn as sns\n",
    "\n",
    "# import statsmodel\n",
    "import statsmodels.api as sm\n",
    "\n",
    "# 'Scikit-learn' (sklearn) emphasizes various regression, classification and clustering algorithms\n",
    "from sklearn.model_selection import train_test_split\n",
    "from sklearn.metrics import confusion_matrix\n",
    "from sklearn.metrics import classification_report\n",
    "from sklearn.metrics import cohen_kappa_score\n",
    "from sklearn.metrics import roc_curve\n",
    "from sklearn import metrics\n",
    "from sklearn import linear_model\n",
    "from sklearn.model_selection import GridSearchCV\n",
    "from sklearn.svm import SVC\n",
    "\n",
    "\n",
    "# display all columns of the dataframe\n",
    "pd.options.display.max_columns = None\n",
    "\n",
    "# display all rows of the dataframe\n",
    "pd.options.display.max_rows = None\n",
    " \n",
    "# use below code to convert the 'exponential' values to float upto 6 decimals\n",
    "pd.set_option('display.float_format', lambda x: '%.6f' % x)"
   ]
  },
  {
   "cell_type": "markdown",
   "metadata": {},
   "source": [
    "<a id='Read_Data'></a>\n",
    "## 2. Read the Data"
   ]
  },
  {
   "cell_type": "markdown",
   "metadata": {},
   "source": [
    "<table align=\"left\">\n",
    "    <tr>\n",
    "        <td width=\"8%\">\n",
    "            <img src=\"key.png\">\n",
    "        </td>\n",
    "        <td>\n",
    "            <div align=\"left\", style=\"font-size:120%\">\n",
    "                    <b>Read the data using read_csv() function from pandas<br> \n",
    "                </font>\n",
    "            </div>\n",
    "        </td>\n",
    "    </tr>\n",
    "</table>"
   ]
  },
  {
   "cell_type": "code",
   "execution_count": 2,
   "metadata": {},
   "outputs": [
    {
     "data": {
      "text/html": [
       "<div>\n",
       "<style scoped>\n",
       "    .dataframe tbody tr th:only-of-type {\n",
       "        vertical-align: middle;\n",
       "    }\n",
       "\n",
       "    .dataframe tbody tr th {\n",
       "        vertical-align: top;\n",
       "    }\n",
       "\n",
       "    .dataframe thead th {\n",
       "        text-align: right;\n",
       "    }\n",
       "</style>\n",
       "<table border=\"1\" class=\"dataframe\">\n",
       "  <thead>\n",
       "    <tr style=\"text-align: right;\">\n",
       "      <th></th>\n",
       "      <th>age</th>\n",
       "      <th>job</th>\n",
       "      <th>marital</th>\n",
       "      <th>education</th>\n",
       "      <th>default</th>\n",
       "      <th>housing</th>\n",
       "      <th>loan</th>\n",
       "      <th>contact</th>\n",
       "      <th>month</th>\n",
       "      <th>day_of_week</th>\n",
       "      <th>duration</th>\n",
       "      <th>campaign</th>\n",
       "      <th>pdays</th>\n",
       "      <th>previous</th>\n",
       "      <th>poutcome</th>\n",
       "      <th>emp.var.rate</th>\n",
       "      <th>cons.price.idx</th>\n",
       "      <th>cons.conf.idx</th>\n",
       "      <th>euribor3m</th>\n",
       "      <th>nr.employed</th>\n",
       "      <th>y</th>\n",
       "    </tr>\n",
       "  </thead>\n",
       "  <tbody>\n",
       "    <tr>\n",
       "      <th>0</th>\n",
       "      <td>56</td>\n",
       "      <td>housemaid</td>\n",
       "      <td>married</td>\n",
       "      <td>basic.4y</td>\n",
       "      <td>no</td>\n",
       "      <td>no</td>\n",
       "      <td>no</td>\n",
       "      <td>telephone</td>\n",
       "      <td>may</td>\n",
       "      <td>mon</td>\n",
       "      <td>261</td>\n",
       "      <td>1</td>\n",
       "      <td>999</td>\n",
       "      <td>0</td>\n",
       "      <td>nonexistent</td>\n",
       "      <td>1.100000</td>\n",
       "      <td>93.994000</td>\n",
       "      <td>-36.400000</td>\n",
       "      <td>4.857000</td>\n",
       "      <td>5191.000000</td>\n",
       "      <td>no</td>\n",
       "    </tr>\n",
       "    <tr>\n",
       "      <th>1</th>\n",
       "      <td>57</td>\n",
       "      <td>services</td>\n",
       "      <td>married</td>\n",
       "      <td>high.school</td>\n",
       "      <td>unknown</td>\n",
       "      <td>no</td>\n",
       "      <td>no</td>\n",
       "      <td>telephone</td>\n",
       "      <td>may</td>\n",
       "      <td>mon</td>\n",
       "      <td>149</td>\n",
       "      <td>1</td>\n",
       "      <td>999</td>\n",
       "      <td>0</td>\n",
       "      <td>nonexistent</td>\n",
       "      <td>1.100000</td>\n",
       "      <td>93.994000</td>\n",
       "      <td>-36.400000</td>\n",
       "      <td>4.857000</td>\n",
       "      <td>5191.000000</td>\n",
       "      <td>no</td>\n",
       "    </tr>\n",
       "    <tr>\n",
       "      <th>2</th>\n",
       "      <td>37</td>\n",
       "      <td>services</td>\n",
       "      <td>married</td>\n",
       "      <td>high.school</td>\n",
       "      <td>no</td>\n",
       "      <td>yes</td>\n",
       "      <td>no</td>\n",
       "      <td>telephone</td>\n",
       "      <td>may</td>\n",
       "      <td>mon</td>\n",
       "      <td>226</td>\n",
       "      <td>1</td>\n",
       "      <td>999</td>\n",
       "      <td>0</td>\n",
       "      <td>nonexistent</td>\n",
       "      <td>1.100000</td>\n",
       "      <td>93.994000</td>\n",
       "      <td>-36.400000</td>\n",
       "      <td>4.857000</td>\n",
       "      <td>5191.000000</td>\n",
       "      <td>no</td>\n",
       "    </tr>\n",
       "    <tr>\n",
       "      <th>3</th>\n",
       "      <td>40</td>\n",
       "      <td>admin.</td>\n",
       "      <td>married</td>\n",
       "      <td>basic.6y</td>\n",
       "      <td>no</td>\n",
       "      <td>no</td>\n",
       "      <td>no</td>\n",
       "      <td>telephone</td>\n",
       "      <td>may</td>\n",
       "      <td>mon</td>\n",
       "      <td>151</td>\n",
       "      <td>1</td>\n",
       "      <td>999</td>\n",
       "      <td>0</td>\n",
       "      <td>nonexistent</td>\n",
       "      <td>1.100000</td>\n",
       "      <td>93.994000</td>\n",
       "      <td>-36.400000</td>\n",
       "      <td>4.857000</td>\n",
       "      <td>5191.000000</td>\n",
       "      <td>no</td>\n",
       "    </tr>\n",
       "    <tr>\n",
       "      <th>4</th>\n",
       "      <td>56</td>\n",
       "      <td>services</td>\n",
       "      <td>married</td>\n",
       "      <td>high.school</td>\n",
       "      <td>no</td>\n",
       "      <td>no</td>\n",
       "      <td>yes</td>\n",
       "      <td>telephone</td>\n",
       "      <td>may</td>\n",
       "      <td>mon</td>\n",
       "      <td>307</td>\n",
       "      <td>1</td>\n",
       "      <td>999</td>\n",
       "      <td>0</td>\n",
       "      <td>nonexistent</td>\n",
       "      <td>1.100000</td>\n",
       "      <td>93.994000</td>\n",
       "      <td>-36.400000</td>\n",
       "      <td>4.857000</td>\n",
       "      <td>5191.000000</td>\n",
       "      <td>no</td>\n",
       "    </tr>\n",
       "  </tbody>\n",
       "</table>\n",
       "</div>"
      ],
      "text/plain": [
       "   age        job  marital    education  default housing loan    contact  \\\n",
       "0   56  housemaid  married     basic.4y       no      no   no  telephone   \n",
       "1   57   services  married  high.school  unknown      no   no  telephone   \n",
       "2   37   services  married  high.school       no     yes   no  telephone   \n",
       "3   40     admin.  married     basic.6y       no      no   no  telephone   \n",
       "4   56   services  married  high.school       no      no  yes  telephone   \n",
       "\n",
       "  month day_of_week  duration  campaign  pdays  previous     poutcome  \\\n",
       "0   may         mon       261         1    999         0  nonexistent   \n",
       "1   may         mon       149         1    999         0  nonexistent   \n",
       "2   may         mon       226         1    999         0  nonexistent   \n",
       "3   may         mon       151         1    999         0  nonexistent   \n",
       "4   may         mon       307         1    999         0  nonexistent   \n",
       "\n",
       "   emp.var.rate  cons.price.idx  cons.conf.idx  euribor3m  nr.employed   y  \n",
       "0      1.100000       93.994000     -36.400000   4.857000  5191.000000  no  \n",
       "1      1.100000       93.994000     -36.400000   4.857000  5191.000000  no  \n",
       "2      1.100000       93.994000     -36.400000   4.857000  5191.000000  no  \n",
       "3      1.100000       93.994000     -36.400000   4.857000  5191.000000  no  \n",
       "4      1.100000       93.994000     -36.400000   4.857000  5191.000000  no  "
      ]
     },
     "execution_count": 2,
     "metadata": {},
     "output_type": "execute_result"
    }
   ],
   "source": [
    "# read the data\n",
    "df_term_deposit = pd.read_csv(\n",
    "    \"/Users/suchita/Desktop/PythonSession/SVM Case Study/bank-additional-full.csv\",delimiter=';')\n",
    "\n",
    "# print the first five rows of the data\n",
    "df_term_deposit.head()"
   ]
  },
  {
   "cell_type": "markdown",
   "metadata": {},
   "source": [
    "<a id='data_preparation'></a>\n",
    "## 3. Understand and Prepare the Data"
   ]
  },
  {
   "cell_type": "markdown",
   "metadata": {},
   "source": [
    "<table align=\"left\">\n",
    "    <tr>\n",
    "        <td width=\"8%\">\n",
    "            <img src=\"key.png\">\n",
    "        </td>\n",
    "        <td>\n",
    "            <div align=\"left\", style=\"font-size:120%\">\n",
    "                    <b>The process of data preparation entails cleansing, structuring and integrating data to make it ready for analysis. <br><br>\n",
    "                        Here we will analyze and prepare data to perform regression techniques:<br>\n",
    "                        1. Check dimensions and data types of the dataframe <br>\n",
    "                        2. Study summary statistics<br> \n",
    "                        3. Check for missing values<br>\n",
    "                        4. Study correlation<br>\n",
    "                                       </b>\n",
    "                </font>\n",
    "            </div>\n",
    "        </td>\n",
    "    </tr>\n",
    "</table>"
   ]
  },
  {
   "cell_type": "markdown",
   "metadata": {},
   "source": [
    "<a id='Data_Types'></a>\n",
    "## 3.1 Data Types and Dimensions"
   ]
  },
  {
   "cell_type": "code",
   "execution_count": 3,
   "metadata": {},
   "outputs": [
    {
     "name": "stdout",
     "output_type": "stream",
     "text": [
      "<class 'pandas.core.frame.DataFrame'>\n",
      "RangeIndex: 41188 entries, 0 to 41187\n",
      "Data columns (total 21 columns):\n",
      " #   Column          Non-Null Count  Dtype  \n",
      "---  ------          --------------  -----  \n",
      " 0   age             41188 non-null  int64  \n",
      " 1   job             41188 non-null  object \n",
      " 2   marital         41188 non-null  object \n",
      " 3   education       41188 non-null  object \n",
      " 4   default         41188 non-null  object \n",
      " 5   housing         41188 non-null  object \n",
      " 6   loan            41188 non-null  object \n",
      " 7   contact         41188 non-null  object \n",
      " 8   month           41188 non-null  object \n",
      " 9   day_of_week     41188 non-null  object \n",
      " 10  duration        41188 non-null  int64  \n",
      " 11  campaign        41188 non-null  int64  \n",
      " 12  pdays           41188 non-null  int64  \n",
      " 13  previous        41188 non-null  int64  \n",
      " 14  poutcome        41188 non-null  object \n",
      " 15  emp.var.rate    41188 non-null  float64\n",
      " 16  cons.price.idx  41188 non-null  float64\n",
      " 17  cons.conf.idx   41188 non-null  float64\n",
      " 18  euribor3m       41188 non-null  float64\n",
      " 19  nr.employed     41188 non-null  float64\n",
      " 20  y               41188 non-null  object \n",
      "dtypes: float64(5), int64(5), object(11)\n",
      "memory usage: 6.6+ MB\n"
     ]
    }
   ],
   "source": [
    "# check the data types for variables\n",
    "df_term_deposit.info()"
   ]
  },
  {
   "cell_type": "markdown",
   "metadata": {},
   "source": [
    "<table align='left'>\n",
    "    <tr>\n",
    "        <td width='8%'>\n",
    "            <img src='note.png'>\n",
    "        </td>\n",
    "        <td>\n",
    "            <div align='left', style='font-size:120%'>\n",
    "                    <b>From the above output, we see that not all the variables are numeric. Many variables, including the target variable are categorical variables<br>\n",
    "                    </br></b>\n",
    "                </font>\n",
    "            </div>\n",
    "        </td>\n",
    "    </tr>\n",
    "</table>"
   ]
  },
  {
   "cell_type": "code",
   "execution_count": 4,
   "metadata": {},
   "outputs": [
    {
     "name": "stdout",
     "output_type": "stream",
     "text": [
      "(41188, 21)\n"
     ]
    }
   ],
   "source": [
    "# get the shape\n",
    "print(df_term_deposit.shape)"
   ]
  },
  {
   "cell_type": "markdown",
   "metadata": {},
   "source": [
    "**We see the dataframe has 21 columns and 41188 observations**"
   ]
  },
  {
   "cell_type": "markdown",
   "metadata": {},
   "source": [
    "<table align='left'>\n",
    "    <tr>\n",
    "        <td width='8%'>\n",
    "            <img src='note.png'>\n",
    "        </td>\n",
    "        <td>\n",
    "            <div align='left', style='font-size:120%'>\n",
    "                    <b>We chack the class distribution of the target variable<br>\n",
    "                    </br></b>\n",
    "                </font>\n",
    "            </div>\n",
    "        </td>\n",
    "    </tr>\n",
    "</table>"
   ]
  },
  {
   "cell_type": "code",
   "execution_count": 5,
   "metadata": {},
   "outputs": [
    {
     "name": "stdout",
     "output_type": "stream",
     "text": [
      "Total number of people: 41188\n",
      "Number of people opted for Term Deposit: 36548\n",
      "Number of people not opted for Term Deposit: 4640\n"
     ]
    }
   ],
   "source": [
    "print(\"Total number of people: {}\".format(df_term_deposit.shape[0]))\n",
    "print(\"Number of people opted for Term Deposit: {}\".format(df_term_deposit[df_term_deposit.y == 'no'].shape[0]))\n",
    "print(\"Number of people not opted for Term Deposit: {}\".format(df_term_deposit[df_term_deposit.y == 'yes'].shape[0]))"
   ]
  },
  {
   "cell_type": "markdown",
   "metadata": {},
   "source": [
    "#### We see that the data is imbalanced"
   ]
  },
  {
   "cell_type": "markdown",
   "metadata": {},
   "source": [
    "<a id='Statistical_Summary'></a>\n",
    "## 3.2 Statistical Summary\n",
    "Here we take a look at the summary of each attribute. This includes the count, mean, the min and max values as well as some percentiles for numeric variables."
   ]
  },
  {
   "cell_type": "markdown",
   "metadata": {},
   "source": [
    "<table align=\"left\">\n",
    "    <tr>\n",
    "        <td width=\"8%\">\n",
    "            <img src=\"key.png\">\n",
    "        </td>\n",
    "        <td>\n",
    "            <div align=\"left\", style=\"font-size:120%\">\n",
    "                    <b> In our dataset we have numerical variables. Now we check for summary statistics of all the variables<br>\n",
    "                        For numerical variables, we use .describe(). For categorical variables we use describe(include='object').\n",
    "          <br>\n",
    "                    </b>\n",
    "                </font>\n",
    "            </div>\n",
    "        </td>\n",
    "    </tr>\n",
    "</table>"
   ]
  },
  {
   "cell_type": "code",
   "execution_count": 6,
   "metadata": {},
   "outputs": [
    {
     "data": {
      "text/html": [
       "<div>\n",
       "<style scoped>\n",
       "    .dataframe tbody tr th:only-of-type {\n",
       "        vertical-align: middle;\n",
       "    }\n",
       "\n",
       "    .dataframe tbody tr th {\n",
       "        vertical-align: top;\n",
       "    }\n",
       "\n",
       "    .dataframe thead th {\n",
       "        text-align: right;\n",
       "    }\n",
       "</style>\n",
       "<table border=\"1\" class=\"dataframe\">\n",
       "  <thead>\n",
       "    <tr style=\"text-align: right;\">\n",
       "      <th></th>\n",
       "      <th>age</th>\n",
       "      <th>duration</th>\n",
       "      <th>campaign</th>\n",
       "      <th>pdays</th>\n",
       "      <th>previous</th>\n",
       "      <th>emp.var.rate</th>\n",
       "      <th>cons.price.idx</th>\n",
       "      <th>cons.conf.idx</th>\n",
       "      <th>euribor3m</th>\n",
       "      <th>nr.employed</th>\n",
       "    </tr>\n",
       "  </thead>\n",
       "  <tbody>\n",
       "    <tr>\n",
       "      <th>count</th>\n",
       "      <td>41188.000000</td>\n",
       "      <td>41188.000000</td>\n",
       "      <td>41188.000000</td>\n",
       "      <td>41188.000000</td>\n",
       "      <td>41188.000000</td>\n",
       "      <td>41188.000000</td>\n",
       "      <td>41188.000000</td>\n",
       "      <td>41188.000000</td>\n",
       "      <td>41188.000000</td>\n",
       "      <td>41188.000000</td>\n",
       "    </tr>\n",
       "    <tr>\n",
       "      <th>mean</th>\n",
       "      <td>40.024060</td>\n",
       "      <td>258.285010</td>\n",
       "      <td>2.567593</td>\n",
       "      <td>962.475454</td>\n",
       "      <td>0.172963</td>\n",
       "      <td>0.081886</td>\n",
       "      <td>93.575664</td>\n",
       "      <td>-40.502600</td>\n",
       "      <td>3.621291</td>\n",
       "      <td>5167.035911</td>\n",
       "    </tr>\n",
       "    <tr>\n",
       "      <th>std</th>\n",
       "      <td>10.421250</td>\n",
       "      <td>259.279249</td>\n",
       "      <td>2.770014</td>\n",
       "      <td>186.910907</td>\n",
       "      <td>0.494901</td>\n",
       "      <td>1.570960</td>\n",
       "      <td>0.578840</td>\n",
       "      <td>4.628198</td>\n",
       "      <td>1.734447</td>\n",
       "      <td>72.251528</td>\n",
       "    </tr>\n",
       "    <tr>\n",
       "      <th>min</th>\n",
       "      <td>17.000000</td>\n",
       "      <td>0.000000</td>\n",
       "      <td>1.000000</td>\n",
       "      <td>0.000000</td>\n",
       "      <td>0.000000</td>\n",
       "      <td>-3.400000</td>\n",
       "      <td>92.201000</td>\n",
       "      <td>-50.800000</td>\n",
       "      <td>0.634000</td>\n",
       "      <td>4963.600000</td>\n",
       "    </tr>\n",
       "    <tr>\n",
       "      <th>25%</th>\n",
       "      <td>32.000000</td>\n",
       "      <td>102.000000</td>\n",
       "      <td>1.000000</td>\n",
       "      <td>999.000000</td>\n",
       "      <td>0.000000</td>\n",
       "      <td>-1.800000</td>\n",
       "      <td>93.075000</td>\n",
       "      <td>-42.700000</td>\n",
       "      <td>1.344000</td>\n",
       "      <td>5099.100000</td>\n",
       "    </tr>\n",
       "    <tr>\n",
       "      <th>50%</th>\n",
       "      <td>38.000000</td>\n",
       "      <td>180.000000</td>\n",
       "      <td>2.000000</td>\n",
       "      <td>999.000000</td>\n",
       "      <td>0.000000</td>\n",
       "      <td>1.100000</td>\n",
       "      <td>93.749000</td>\n",
       "      <td>-41.800000</td>\n",
       "      <td>4.857000</td>\n",
       "      <td>5191.000000</td>\n",
       "    </tr>\n",
       "    <tr>\n",
       "      <th>75%</th>\n",
       "      <td>47.000000</td>\n",
       "      <td>319.000000</td>\n",
       "      <td>3.000000</td>\n",
       "      <td>999.000000</td>\n",
       "      <td>0.000000</td>\n",
       "      <td>1.400000</td>\n",
       "      <td>93.994000</td>\n",
       "      <td>-36.400000</td>\n",
       "      <td>4.961000</td>\n",
       "      <td>5228.100000</td>\n",
       "    </tr>\n",
       "    <tr>\n",
       "      <th>max</th>\n",
       "      <td>98.000000</td>\n",
       "      <td>4918.000000</td>\n",
       "      <td>56.000000</td>\n",
       "      <td>999.000000</td>\n",
       "      <td>7.000000</td>\n",
       "      <td>1.400000</td>\n",
       "      <td>94.767000</td>\n",
       "      <td>-26.900000</td>\n",
       "      <td>5.045000</td>\n",
       "      <td>5228.100000</td>\n",
       "    </tr>\n",
       "  </tbody>\n",
       "</table>\n",
       "</div>"
      ],
      "text/plain": [
       "               age     duration     campaign        pdays     previous  \\\n",
       "count 41188.000000 41188.000000 41188.000000 41188.000000 41188.000000   \n",
       "mean     40.024060   258.285010     2.567593   962.475454     0.172963   \n",
       "std      10.421250   259.279249     2.770014   186.910907     0.494901   \n",
       "min      17.000000     0.000000     1.000000     0.000000     0.000000   \n",
       "25%      32.000000   102.000000     1.000000   999.000000     0.000000   \n",
       "50%      38.000000   180.000000     2.000000   999.000000     0.000000   \n",
       "75%      47.000000   319.000000     3.000000   999.000000     0.000000   \n",
       "max      98.000000  4918.000000    56.000000   999.000000     7.000000   \n",
       "\n",
       "       emp.var.rate  cons.price.idx  cons.conf.idx    euribor3m  nr.employed  \n",
       "count  41188.000000    41188.000000   41188.000000 41188.000000 41188.000000  \n",
       "mean       0.081886       93.575664     -40.502600     3.621291  5167.035911  \n",
       "std        1.570960        0.578840       4.628198     1.734447    72.251528  \n",
       "min       -3.400000       92.201000     -50.800000     0.634000  4963.600000  \n",
       "25%       -1.800000       93.075000     -42.700000     1.344000  5099.100000  \n",
       "50%        1.100000       93.749000     -41.800000     4.857000  5191.000000  \n",
       "75%        1.400000       93.994000     -36.400000     4.961000  5228.100000  \n",
       "max        1.400000       94.767000     -26.900000     5.045000  5228.100000  "
      ]
     },
     "execution_count": 6,
     "metadata": {},
     "output_type": "execute_result"
    }
   ],
   "source": [
    "# data frame with numerical features\n",
    "df_term_deposit.describe()"
   ]
  },
  {
   "cell_type": "markdown",
   "metadata": {},
   "source": [
    "<table align=\"left\">\n",
    "    <tr>\n",
    "        <td width=\"8%\">\n",
    "            <img src=\"note.png\">\n",
    "        </td>\n",
    "        <td>\n",
    "            <div align=\"left\", style=\"font-size:120%\">\n",
    "<b>The above output illustrates the summary statistics of all the numeric variables like the mean, median(50%), minimum, and maximum values, along with the standard deviation.</b>     </font>\n",
    "            </div>\n",
    "        </td>\n",
    "    </tr>\n",
    "</table>"
   ]
  },
  {
   "cell_type": "code",
   "execution_count": 7,
   "metadata": {},
   "outputs": [
    {
     "data": {
      "text/html": [
       "<div>\n",
       "<style scoped>\n",
       "    .dataframe tbody tr th:only-of-type {\n",
       "        vertical-align: middle;\n",
       "    }\n",
       "\n",
       "    .dataframe tbody tr th {\n",
       "        vertical-align: top;\n",
       "    }\n",
       "\n",
       "    .dataframe thead th {\n",
       "        text-align: right;\n",
       "    }\n",
       "</style>\n",
       "<table border=\"1\" class=\"dataframe\">\n",
       "  <thead>\n",
       "    <tr style=\"text-align: right;\">\n",
       "      <th></th>\n",
       "      <th>job</th>\n",
       "      <th>marital</th>\n",
       "      <th>education</th>\n",
       "      <th>default</th>\n",
       "      <th>housing</th>\n",
       "      <th>loan</th>\n",
       "      <th>contact</th>\n",
       "      <th>month</th>\n",
       "      <th>day_of_week</th>\n",
       "      <th>poutcome</th>\n",
       "      <th>y</th>\n",
       "    </tr>\n",
       "  </thead>\n",
       "  <tbody>\n",
       "    <tr>\n",
       "      <th>count</th>\n",
       "      <td>41188</td>\n",
       "      <td>41188</td>\n",
       "      <td>41188</td>\n",
       "      <td>41188</td>\n",
       "      <td>41188</td>\n",
       "      <td>41188</td>\n",
       "      <td>41188</td>\n",
       "      <td>41188</td>\n",
       "      <td>41188</td>\n",
       "      <td>41188</td>\n",
       "      <td>41188</td>\n",
       "    </tr>\n",
       "    <tr>\n",
       "      <th>unique</th>\n",
       "      <td>12</td>\n",
       "      <td>4</td>\n",
       "      <td>8</td>\n",
       "      <td>3</td>\n",
       "      <td>3</td>\n",
       "      <td>3</td>\n",
       "      <td>2</td>\n",
       "      <td>10</td>\n",
       "      <td>5</td>\n",
       "      <td>3</td>\n",
       "      <td>2</td>\n",
       "    </tr>\n",
       "    <tr>\n",
       "      <th>top</th>\n",
       "      <td>admin.</td>\n",
       "      <td>married</td>\n",
       "      <td>university.degree</td>\n",
       "      <td>no</td>\n",
       "      <td>yes</td>\n",
       "      <td>no</td>\n",
       "      <td>cellular</td>\n",
       "      <td>may</td>\n",
       "      <td>thu</td>\n",
       "      <td>nonexistent</td>\n",
       "      <td>no</td>\n",
       "    </tr>\n",
       "    <tr>\n",
       "      <th>freq</th>\n",
       "      <td>10422</td>\n",
       "      <td>24928</td>\n",
       "      <td>12168</td>\n",
       "      <td>32588</td>\n",
       "      <td>21576</td>\n",
       "      <td>33950</td>\n",
       "      <td>26144</td>\n",
       "      <td>13769</td>\n",
       "      <td>8623</td>\n",
       "      <td>35563</td>\n",
       "      <td>36548</td>\n",
       "    </tr>\n",
       "  </tbody>\n",
       "</table>\n",
       "</div>"
      ],
      "text/plain": [
       "           job  marital          education default housing   loan   contact  \\\n",
       "count    41188    41188              41188   41188   41188  41188     41188   \n",
       "unique      12        4                  8       3       3      3         2   \n",
       "top     admin.  married  university.degree      no     yes     no  cellular   \n",
       "freq     10422    24928              12168   32588   21576  33950     26144   \n",
       "\n",
       "        month day_of_week     poutcome      y  \n",
       "count   41188       41188        41188  41188  \n",
       "unique     10           5            3      2  \n",
       "top       may         thu  nonexistent     no  \n",
       "freq    13769        8623        35563  36548  "
      ]
     },
     "execution_count": 7,
     "metadata": {},
     "output_type": "execute_result"
    }
   ],
   "source": [
    "# data frame with categorical features\n",
    "df_term_deposit.describe(include='object')"
   ]
  },
  {
   "cell_type": "markdown",
   "metadata": {},
   "source": [
    "<table align=\"left\">\n",
    "    <tr>\n",
    "        <td width=\"8%\">\n",
    "            <img src=\"note.png\">\n",
    "        </td>\n",
    "        <td>\n",
    "            <div align=\"left\", style=\"font-size:120%\">\n",
    "<b>The above output illustrates the summary statistics of all the categorical variables like unique(no.of levels in the variable), top(majority level) and the count of the majority level.</b>     </font>\n",
    "            </div>\n",
    "        </td>\n",
    "    </tr>\n",
    "</table>"
   ]
  },
  {
   "cell_type": "markdown",
   "metadata": {},
   "source": [
    "<a id='Label_Encoding_for_Target_Variable'></a>\n",
    "## 3.3. Label Encoding for Target Variable\n",
    "Converting target categorical variable into numeric"
   ]
  },
  {
   "cell_type": "code",
   "execution_count": 8,
   "metadata": {},
   "outputs": [
    {
     "data": {
      "text/html": [
       "<div>\n",
       "<style scoped>\n",
       "    .dataframe tbody tr th:only-of-type {\n",
       "        vertical-align: middle;\n",
       "    }\n",
       "\n",
       "    .dataframe tbody tr th {\n",
       "        vertical-align: top;\n",
       "    }\n",
       "\n",
       "    .dataframe thead th {\n",
       "        text-align: right;\n",
       "    }\n",
       "</style>\n",
       "<table border=\"1\" class=\"dataframe\">\n",
       "  <thead>\n",
       "    <tr style=\"text-align: right;\">\n",
       "      <th></th>\n",
       "      <th>age</th>\n",
       "      <th>job</th>\n",
       "      <th>marital</th>\n",
       "      <th>education</th>\n",
       "      <th>default</th>\n",
       "      <th>housing</th>\n",
       "      <th>loan</th>\n",
       "      <th>contact</th>\n",
       "      <th>month</th>\n",
       "      <th>day_of_week</th>\n",
       "      <th>duration</th>\n",
       "      <th>campaign</th>\n",
       "      <th>pdays</th>\n",
       "      <th>previous</th>\n",
       "      <th>poutcome</th>\n",
       "      <th>emp.var.rate</th>\n",
       "      <th>cons.price.idx</th>\n",
       "      <th>cons.conf.idx</th>\n",
       "      <th>euribor3m</th>\n",
       "      <th>nr.employed</th>\n",
       "      <th>y</th>\n",
       "    </tr>\n",
       "  </thead>\n",
       "  <tbody>\n",
       "    <tr>\n",
       "      <th>0</th>\n",
       "      <td>56</td>\n",
       "      <td>housemaid</td>\n",
       "      <td>married</td>\n",
       "      <td>basic.4y</td>\n",
       "      <td>no</td>\n",
       "      <td>no</td>\n",
       "      <td>no</td>\n",
       "      <td>telephone</td>\n",
       "      <td>may</td>\n",
       "      <td>mon</td>\n",
       "      <td>261</td>\n",
       "      <td>1</td>\n",
       "      <td>999</td>\n",
       "      <td>0</td>\n",
       "      <td>nonexistent</td>\n",
       "      <td>1.100000</td>\n",
       "      <td>93.994000</td>\n",
       "      <td>-36.400000</td>\n",
       "      <td>4.857000</td>\n",
       "      <td>5191.000000</td>\n",
       "      <td>0</td>\n",
       "    </tr>\n",
       "    <tr>\n",
       "      <th>1</th>\n",
       "      <td>57</td>\n",
       "      <td>services</td>\n",
       "      <td>married</td>\n",
       "      <td>high.school</td>\n",
       "      <td>unknown</td>\n",
       "      <td>no</td>\n",
       "      <td>no</td>\n",
       "      <td>telephone</td>\n",
       "      <td>may</td>\n",
       "      <td>mon</td>\n",
       "      <td>149</td>\n",
       "      <td>1</td>\n",
       "      <td>999</td>\n",
       "      <td>0</td>\n",
       "      <td>nonexistent</td>\n",
       "      <td>1.100000</td>\n",
       "      <td>93.994000</td>\n",
       "      <td>-36.400000</td>\n",
       "      <td>4.857000</td>\n",
       "      <td>5191.000000</td>\n",
       "      <td>0</td>\n",
       "    </tr>\n",
       "    <tr>\n",
       "      <th>2</th>\n",
       "      <td>37</td>\n",
       "      <td>services</td>\n",
       "      <td>married</td>\n",
       "      <td>high.school</td>\n",
       "      <td>no</td>\n",
       "      <td>yes</td>\n",
       "      <td>no</td>\n",
       "      <td>telephone</td>\n",
       "      <td>may</td>\n",
       "      <td>mon</td>\n",
       "      <td>226</td>\n",
       "      <td>1</td>\n",
       "      <td>999</td>\n",
       "      <td>0</td>\n",
       "      <td>nonexistent</td>\n",
       "      <td>1.100000</td>\n",
       "      <td>93.994000</td>\n",
       "      <td>-36.400000</td>\n",
       "      <td>4.857000</td>\n",
       "      <td>5191.000000</td>\n",
       "      <td>0</td>\n",
       "    </tr>\n",
       "    <tr>\n",
       "      <th>3</th>\n",
       "      <td>40</td>\n",
       "      <td>admin.</td>\n",
       "      <td>married</td>\n",
       "      <td>basic.6y</td>\n",
       "      <td>no</td>\n",
       "      <td>no</td>\n",
       "      <td>no</td>\n",
       "      <td>telephone</td>\n",
       "      <td>may</td>\n",
       "      <td>mon</td>\n",
       "      <td>151</td>\n",
       "      <td>1</td>\n",
       "      <td>999</td>\n",
       "      <td>0</td>\n",
       "      <td>nonexistent</td>\n",
       "      <td>1.100000</td>\n",
       "      <td>93.994000</td>\n",
       "      <td>-36.400000</td>\n",
       "      <td>4.857000</td>\n",
       "      <td>5191.000000</td>\n",
       "      <td>0</td>\n",
       "    </tr>\n",
       "    <tr>\n",
       "      <th>4</th>\n",
       "      <td>56</td>\n",
       "      <td>services</td>\n",
       "      <td>married</td>\n",
       "      <td>high.school</td>\n",
       "      <td>no</td>\n",
       "      <td>no</td>\n",
       "      <td>yes</td>\n",
       "      <td>telephone</td>\n",
       "      <td>may</td>\n",
       "      <td>mon</td>\n",
       "      <td>307</td>\n",
       "      <td>1</td>\n",
       "      <td>999</td>\n",
       "      <td>0</td>\n",
       "      <td>nonexistent</td>\n",
       "      <td>1.100000</td>\n",
       "      <td>93.994000</td>\n",
       "      <td>-36.400000</td>\n",
       "      <td>4.857000</td>\n",
       "      <td>5191.000000</td>\n",
       "      <td>0</td>\n",
       "    </tr>\n",
       "  </tbody>\n",
       "</table>\n",
       "</div>"
      ],
      "text/plain": [
       "   age        job  marital    education  default housing loan    contact  \\\n",
       "0   56  housemaid  married     basic.4y       no      no   no  telephone   \n",
       "1   57   services  married  high.school  unknown      no   no  telephone   \n",
       "2   37   services  married  high.school       no     yes   no  telephone   \n",
       "3   40     admin.  married     basic.6y       no      no   no  telephone   \n",
       "4   56   services  married  high.school       no      no  yes  telephone   \n",
       "\n",
       "  month day_of_week  duration  campaign  pdays  previous     poutcome  \\\n",
       "0   may         mon       261         1    999         0  nonexistent   \n",
       "1   may         mon       149         1    999         0  nonexistent   \n",
       "2   may         mon       226         1    999         0  nonexistent   \n",
       "3   may         mon       151         1    999         0  nonexistent   \n",
       "4   may         mon       307         1    999         0  nonexistent   \n",
       "\n",
       "   emp.var.rate  cons.price.idx  cons.conf.idx  euribor3m  nr.employed  y  \n",
       "0      1.100000       93.994000     -36.400000   4.857000  5191.000000  0  \n",
       "1      1.100000       93.994000     -36.400000   4.857000  5191.000000  0  \n",
       "2      1.100000       93.994000     -36.400000   4.857000  5191.000000  0  \n",
       "3      1.100000       93.994000     -36.400000   4.857000  5191.000000  0  \n",
       "4      1.100000       93.994000     -36.400000   4.857000  5191.000000  0  "
      ]
     },
     "execution_count": 8,
     "metadata": {},
     "output_type": "execute_result"
    }
   ],
   "source": [
    "# replace 'no' with zero\n",
    "df_term_deposit['y'] = df_term_deposit['y'].replace('no', 0)\n",
    "# replace 'yes' with one\n",
    "df_term_deposit['y'] = df_term_deposit['y'].replace('yes', 1)\n",
    "\n",
    "df_term_deposit.head()"
   ]
  },
  {
   "cell_type": "markdown",
   "metadata": {},
   "source": [
    "<a id='One_Hot_Encoding_for_Categorical_Variables'></a>\n",
    "## 3.4. One Hot Encoding for Categorical Variables\n",
    "Converting categorical variables into a form that could be provided to ML algorithms to do a better job in prediction."
   ]
  },
  {
   "cell_type": "markdown",
   "metadata": {},
   "source": [
    "<table align=\"left\">\n",
    "    <tr>\n",
    "        <td width=\"8%\">\n",
    "            <img src=\"key.png\">\n",
    "        </td>\n",
    "        <td>\n",
    "            <div align=\"left\", style=\"font-size:120%\">\n",
    "                    <b>In order to convert categorical variables to numeric variables we will first segregate such vaiarbles in one dataframe and numeric variables in another. Use pandas.get_dummies function to Convert categorical variable into dummy/indicator variables and then use concat function to merge two dataframe for further analysis.\n",
    "                    </b>\n",
    "                </font>\n",
    "            </div>\n",
    "        </td>\n",
    "    </tr>\n",
    "</table>"
   ]
  },
  {
   "cell_type": "code",
   "execution_count": 9,
   "metadata": {
    "collapsed": true
   },
   "outputs": [],
   "source": [
    "# save all categorical columns in list\n",
    "categorical_columns = [col for col in df_term_deposit.columns.values if df_term_deposit[col].dtype == 'object']\n",
    "\n",
    "# dataframe with categorical features\n",
    "data_cat = df_term_deposit[categorical_columns]\n",
    "# dataframe with numerical features\n",
    "data_num = df_term_deposit.drop(categorical_columns, axis=1)"
   ]
  },
  {
   "cell_type": "code",
   "execution_count": 10,
   "metadata": {
    "collapsed": true
   },
   "outputs": [],
   "source": [
    "# Convert categorical variables into dummy variables.\n",
    "#drop_first = TRUE for n-1 dummy coding\n",
    "data_cat_dummies  = pd.get_dummies(data_cat,drop_first=True)"
   ]
  },
  {
   "cell_type": "code",
   "execution_count": 11,
   "metadata": {
    "collapsed": true
   },
   "outputs": [],
   "source": [
    "# merger the two datafraes for further analysis\n",
    "df_term_deposit = pd.concat([data_num, data_cat_dummies], axis=1)"
   ]
  },
  {
   "cell_type": "markdown",
   "metadata": {},
   "source": [
    "<a id='Missing_Data_Treatment'></a>\n",
    "## 3.5. Missing Data Treatment\n",
    "If the missing values are not handled properly we may end up drawing an inaccurate inference about the data. Due to improper handling, the result obtained will differ from the ones where the missing values are present."
   ]
  },
  {
   "cell_type": "markdown",
   "metadata": {},
   "source": [
    "<table align=\"left\">\n",
    "    <tr>\n",
    "        <td width=\"8%\">\n",
    "            <img src=\"key.png\">\n",
    "        </td>\n",
    "        <td>\n",
    "            <div align=\"left\", style=\"font-size:120%\">\n",
    "                    <b>In order to get the count of missing values in each column, we use the in-built function .isnull().sum()\n",
    "                    </b>\n",
    "                </font>\n",
    "            </div>\n",
    "        </td>\n",
    "    </tr>\n",
    "</table>"
   ]
  },
  {
   "cell_type": "code",
   "execution_count": 12,
   "metadata": {},
   "outputs": [
    {
     "name": "stdout",
     "output_type": "stream",
     "text": [
      "age                              0\n",
      "duration                         0\n",
      "campaign                         0\n",
      "pdays                            0\n",
      "previous                         0\n",
      "emp.var.rate                     0\n",
      "cons.price.idx                   0\n",
      "cons.conf.idx                    0\n",
      "euribor3m                        0\n",
      "nr.employed                      0\n",
      "y                                0\n",
      "job_blue-collar                  0\n",
      "job_entrepreneur                 0\n",
      "job_housemaid                    0\n",
      "job_management                   0\n",
      "job_retired                      0\n",
      "job_self-employed                0\n",
      "job_services                     0\n",
      "job_student                      0\n",
      "job_technician                   0\n",
      "job_unemployed                   0\n",
      "job_unknown                      0\n",
      "marital_married                  0\n",
      "marital_single                   0\n",
      "marital_unknown                  0\n",
      "education_basic.6y               0\n",
      "education_basic.9y               0\n",
      "education_high.school            0\n",
      "education_illiterate             0\n",
      "education_professional.course    0\n",
      "education_university.degree      0\n",
      "education_unknown                0\n",
      "default_unknown                  0\n",
      "default_yes                      0\n",
      "housing_unknown                  0\n",
      "housing_yes                      0\n",
      "loan_unknown                     0\n",
      "loan_yes                         0\n",
      "contact_telephone                0\n",
      "month_aug                        0\n",
      "month_dec                        0\n",
      "month_jul                        0\n",
      "month_jun                        0\n",
      "month_mar                        0\n",
      "month_may                        0\n",
      "month_nov                        0\n",
      "month_oct                        0\n",
      "month_sep                        0\n",
      "day_of_week_mon                  0\n",
      "day_of_week_thu                  0\n",
      "day_of_week_tue                  0\n",
      "day_of_week_wed                  0\n",
      "poutcome_nonexistent             0\n",
      "poutcome_success                 0\n",
      "dtype: int64\n"
     ]
    }
   ],
   "source": [
    "# get the count of missing values\n",
    "missing_values = df_term_deposit.isnull().sum()\n",
    "\n",
    "# print the count of missing values\n",
    "print(missing_values)"
   ]
  },
  {
   "cell_type": "markdown",
   "metadata": {},
   "source": [
    "There are no missing values present in the data."
   ]
  },
  {
   "cell_type": "markdown",
   "metadata": {},
   "source": [
    "<a id='Correlation'></a>\n",
    "## 3.6 Correlation"
   ]
  },
  {
   "cell_type": "markdown",
   "metadata": {},
   "source": [
    "<table align=\"left\">\n",
    "    <tr>\n",
    "        <td width=\"8%\">\n",
    "            <img src=\"key.png\">\n",
    "        </td>\n",
    "        <td>\n",
    "            <div align=\"left\", style=\"font-size:120%\">\n",
    "                    <b> Call the corr() function which will return the correlation matrix of numeric variables</b>\n",
    "                </font>\n",
    "            </div>\n",
    "        </td>\n",
    "    </tr>\n",
    "</table>"
   ]
  },
  {
   "cell_type": "code",
   "execution_count": 13,
   "metadata": {},
   "outputs": [
    {
     "data": {
      "text/html": [
       "<div>\n",
       "<style scoped>\n",
       "    .dataframe tbody tr th:only-of-type {\n",
       "        vertical-align: middle;\n",
       "    }\n",
       "\n",
       "    .dataframe tbody tr th {\n",
       "        vertical-align: top;\n",
       "    }\n",
       "\n",
       "    .dataframe thead th {\n",
       "        text-align: right;\n",
       "    }\n",
       "</style>\n",
       "<table border=\"1\" class=\"dataframe\">\n",
       "  <thead>\n",
       "    <tr style=\"text-align: right;\">\n",
       "      <th></th>\n",
       "      <th>age</th>\n",
       "      <th>duration</th>\n",
       "      <th>campaign</th>\n",
       "      <th>pdays</th>\n",
       "      <th>previous</th>\n",
       "      <th>emp.var.rate</th>\n",
       "      <th>cons.price.idx</th>\n",
       "      <th>cons.conf.idx</th>\n",
       "      <th>euribor3m</th>\n",
       "      <th>nr.employed</th>\n",
       "    </tr>\n",
       "  </thead>\n",
       "  <tbody>\n",
       "    <tr>\n",
       "      <th>age</th>\n",
       "      <td>1.000000</td>\n",
       "      <td>-0.000866</td>\n",
       "      <td>0.004594</td>\n",
       "      <td>-0.034369</td>\n",
       "      <td>0.024365</td>\n",
       "      <td>-0.000371</td>\n",
       "      <td>0.000857</td>\n",
       "      <td>0.129372</td>\n",
       "      <td>0.010767</td>\n",
       "      <td>-0.017725</td>\n",
       "    </tr>\n",
       "    <tr>\n",
       "      <th>duration</th>\n",
       "      <td>-0.000866</td>\n",
       "      <td>1.000000</td>\n",
       "      <td>-0.071699</td>\n",
       "      <td>-0.047577</td>\n",
       "      <td>0.020640</td>\n",
       "      <td>-0.027968</td>\n",
       "      <td>0.005312</td>\n",
       "      <td>-0.008173</td>\n",
       "      <td>-0.032897</td>\n",
       "      <td>-0.044703</td>\n",
       "    </tr>\n",
       "    <tr>\n",
       "      <th>campaign</th>\n",
       "      <td>0.004594</td>\n",
       "      <td>-0.071699</td>\n",
       "      <td>1.000000</td>\n",
       "      <td>0.052584</td>\n",
       "      <td>-0.079141</td>\n",
       "      <td>0.150754</td>\n",
       "      <td>0.127836</td>\n",
       "      <td>-0.013733</td>\n",
       "      <td>0.135133</td>\n",
       "      <td>0.144095</td>\n",
       "    </tr>\n",
       "    <tr>\n",
       "      <th>pdays</th>\n",
       "      <td>-0.034369</td>\n",
       "      <td>-0.047577</td>\n",
       "      <td>0.052584</td>\n",
       "      <td>1.000000</td>\n",
       "      <td>-0.587514</td>\n",
       "      <td>0.271004</td>\n",
       "      <td>0.078889</td>\n",
       "      <td>-0.091342</td>\n",
       "      <td>0.296899</td>\n",
       "      <td>0.372605</td>\n",
       "    </tr>\n",
       "    <tr>\n",
       "      <th>previous</th>\n",
       "      <td>0.024365</td>\n",
       "      <td>0.020640</td>\n",
       "      <td>-0.079141</td>\n",
       "      <td>-0.587514</td>\n",
       "      <td>1.000000</td>\n",
       "      <td>-0.420489</td>\n",
       "      <td>-0.203130</td>\n",
       "      <td>-0.050936</td>\n",
       "      <td>-0.454494</td>\n",
       "      <td>-0.501333</td>\n",
       "    </tr>\n",
       "    <tr>\n",
       "      <th>emp.var.rate</th>\n",
       "      <td>-0.000371</td>\n",
       "      <td>-0.027968</td>\n",
       "      <td>0.150754</td>\n",
       "      <td>0.271004</td>\n",
       "      <td>-0.420489</td>\n",
       "      <td>1.000000</td>\n",
       "      <td>0.775334</td>\n",
       "      <td>0.196041</td>\n",
       "      <td>0.972245</td>\n",
       "      <td>0.906970</td>\n",
       "    </tr>\n",
       "    <tr>\n",
       "      <th>cons.price.idx</th>\n",
       "      <td>0.000857</td>\n",
       "      <td>0.005312</td>\n",
       "      <td>0.127836</td>\n",
       "      <td>0.078889</td>\n",
       "      <td>-0.203130</td>\n",
       "      <td>0.775334</td>\n",
       "      <td>1.000000</td>\n",
       "      <td>0.058986</td>\n",
       "      <td>0.688230</td>\n",
       "      <td>0.522034</td>\n",
       "    </tr>\n",
       "    <tr>\n",
       "      <th>cons.conf.idx</th>\n",
       "      <td>0.129372</td>\n",
       "      <td>-0.008173</td>\n",
       "      <td>-0.013733</td>\n",
       "      <td>-0.091342</td>\n",
       "      <td>-0.050936</td>\n",
       "      <td>0.196041</td>\n",
       "      <td>0.058986</td>\n",
       "      <td>1.000000</td>\n",
       "      <td>0.277686</td>\n",
       "      <td>0.100513</td>\n",
       "    </tr>\n",
       "    <tr>\n",
       "      <th>euribor3m</th>\n",
       "      <td>0.010767</td>\n",
       "      <td>-0.032897</td>\n",
       "      <td>0.135133</td>\n",
       "      <td>0.296899</td>\n",
       "      <td>-0.454494</td>\n",
       "      <td>0.972245</td>\n",
       "      <td>0.688230</td>\n",
       "      <td>0.277686</td>\n",
       "      <td>1.000000</td>\n",
       "      <td>0.945154</td>\n",
       "    </tr>\n",
       "    <tr>\n",
       "      <th>nr.employed</th>\n",
       "      <td>-0.017725</td>\n",
       "      <td>-0.044703</td>\n",
       "      <td>0.144095</td>\n",
       "      <td>0.372605</td>\n",
       "      <td>-0.501333</td>\n",
       "      <td>0.906970</td>\n",
       "      <td>0.522034</td>\n",
       "      <td>0.100513</td>\n",
       "      <td>0.945154</td>\n",
       "      <td>1.000000</td>\n",
       "    </tr>\n",
       "  </tbody>\n",
       "</table>\n",
       "</div>"
      ],
      "text/plain": [
       "                     age  duration  campaign     pdays  previous  \\\n",
       "age             1.000000 -0.000866  0.004594 -0.034369  0.024365   \n",
       "duration       -0.000866  1.000000 -0.071699 -0.047577  0.020640   \n",
       "campaign        0.004594 -0.071699  1.000000  0.052584 -0.079141   \n",
       "pdays          -0.034369 -0.047577  0.052584  1.000000 -0.587514   \n",
       "previous        0.024365  0.020640 -0.079141 -0.587514  1.000000   \n",
       "emp.var.rate   -0.000371 -0.027968  0.150754  0.271004 -0.420489   \n",
       "cons.price.idx  0.000857  0.005312  0.127836  0.078889 -0.203130   \n",
       "cons.conf.idx   0.129372 -0.008173 -0.013733 -0.091342 -0.050936   \n",
       "euribor3m       0.010767 -0.032897  0.135133  0.296899 -0.454494   \n",
       "nr.employed    -0.017725 -0.044703  0.144095  0.372605 -0.501333   \n",
       "\n",
       "                emp.var.rate  cons.price.idx  cons.conf.idx  euribor3m  \\\n",
       "age                -0.000371        0.000857       0.129372   0.010767   \n",
       "duration           -0.027968        0.005312      -0.008173  -0.032897   \n",
       "campaign            0.150754        0.127836      -0.013733   0.135133   \n",
       "pdays               0.271004        0.078889      -0.091342   0.296899   \n",
       "previous           -0.420489       -0.203130      -0.050936  -0.454494   \n",
       "emp.var.rate        1.000000        0.775334       0.196041   0.972245   \n",
       "cons.price.idx      0.775334        1.000000       0.058986   0.688230   \n",
       "cons.conf.idx       0.196041        0.058986       1.000000   0.277686   \n",
       "euribor3m           0.972245        0.688230       0.277686   1.000000   \n",
       "nr.employed         0.906970        0.522034       0.100513   0.945154   \n",
       "\n",
       "                nr.employed  \n",
       "age               -0.017725  \n",
       "duration          -0.044703  \n",
       "campaign           0.144095  \n",
       "pdays              0.372605  \n",
       "previous          -0.501333  \n",
       "emp.var.rate       0.906970  \n",
       "cons.price.idx     0.522034  \n",
       "cons.conf.idx      0.100513  \n",
       "euribor3m          0.945154  \n",
       "nr.employed        1.000000  "
      ]
     },
     "execution_count": 13,
     "metadata": {},
     "output_type": "execute_result"
    }
   ],
   "source": [
    "# check correlation\n",
    "data_num = data_num.drop('y', axis=1)\n",
    "corr = data_num.corr()\n",
    "corr"
   ]
  },
  {
   "cell_type": "code",
   "execution_count": 14,
   "metadata": {},
   "outputs": [
    {
     "data": {
      "image/png": "[encoded data removed]",
      "text/plain": [
       "<Figure size 2160x1080 with 2 Axes>"
      ]
     },
     "metadata": {
      "needs_background": "light"
     },
     "output_type": "display_data"
    }
   ],
   "source": [
    "# ploting correlation plot\n",
    "\n",
    "# set the figure size\n",
    "plt.figure(figsize=(30, 15))\n",
    "\n",
    "# plotting the heat map\n",
    "# corr: give the correlation matrix\n",
    "# cmap: colour code used for plotting\n",
    "# vmax: gives maximum range of values for the chart\n",
    "# vmin: gives minimum range of values for the chart\n",
    "# annot: prints the correlation values in the chart\n",
    "# annot_kws: sets the font size of the annotation\n",
    "# set condition to get a strong correlation between the variables\n",
    "sns.heatmap(corr[(corr >= 0.9) | (corr <= -0.9)], \n",
    "            cmap='YlGnBu', vmax=1.0, vmin=-1.0,\n",
    "            annot=True, annot_kws={\"size\": 15})\n",
    "\n",
    "# set the title\n",
    "# fontsize=30: set the font size of the title\n",
    "plt.title('Correlation between features', fontsize=15)\n",
    "# display the plot\n",
    "plt.show()"
   ]
  },
  {
   "cell_type": "markdown",
   "metadata": {},
   "source": [
    "<table align=\"left\">\n",
    "    <tr>\n",
    "        <td width=\"8%\">\n",
    "            <img src=\"note.png\">\n",
    "        </td>\n",
    "        <td>\n",
    "            <div align=\"left\", style=\"font-size:120%\">\n",
    "<b>By looking at the correlation matrix we can see that variables euribor3m, emp.var.rate and nr.employed have a strong positive correlation with each other. These feature pairs are strongly correlated to each other. Ideally, we should not select these features together for training the model. However, we will go ahead using all variables.</b>     </font>\n",
    "            </div>\n",
    "        </td>\n",
    "    </tr>\n",
    "</table>"
   ]
  },
  {
   "cell_type": "markdown",
   "metadata": {},
   "source": [
    "Later, as a practice exercise, try building the model by dropping these highly correlated variables, and monitor its effect on model performance. You may refer the below commented code, for dropping the required variables."
   ]
  },
  {
   "cell_type": "code",
   "execution_count": 88,
   "metadata": {
    "collapsed": true
   },
   "outputs": [],
   "source": [
    "# drop the features\n",
    "# axis=1: it stands for column\n",
    "# inplace=True: it perform operations on original data\n",
    "#df_term_deposit.drop(['euribor3m', 'emp.var.rate', 'nr.employed'], axis=1, inplace=True)"
   ]
  },
  {
   "cell_type": "code",
   "execution_count": 15,
   "metadata": {},
   "outputs": [
    {
     "data": {
      "text/plain": [
       "Index(['age', 'duration', 'campaign', 'pdays', 'previous', 'emp.var.rate',\n",
       "       'cons.price.idx', 'cons.conf.idx', 'euribor3m', 'nr.employed', 'y',\n",
       "       'job_blue-collar', 'job_entrepreneur', 'job_housemaid',\n",
       "       'job_management', 'job_retired', 'job_self-employed', 'job_services',\n",
       "       'job_student', 'job_technician', 'job_unemployed', 'job_unknown',\n",
       "       'marital_married', 'marital_single', 'marital_unknown',\n",
       "       'education_basic.6y', 'education_basic.9y', 'education_high.school',\n",
       "       'education_illiterate', 'education_professional.course',\n",
       "       'education_university.degree', 'education_unknown', 'default_unknown',\n",
       "       'default_yes', 'housing_unknown', 'housing_yes', 'loan_unknown',\n",
       "       'loan_yes', 'contact_telephone', 'month_aug', 'month_dec', 'month_jul',\n",
       "       'month_jun', 'month_mar', 'month_may', 'month_nov', 'month_oct',\n",
       "       'month_sep', 'day_of_week_mon', 'day_of_week_thu', 'day_of_week_tue',\n",
       "       'day_of_week_wed', 'poutcome_nonexistent', 'poutcome_success'],\n",
       "      dtype='object')"
      ]
     },
     "execution_count": 15,
     "metadata": {},
     "output_type": "execute_result"
    }
   ],
   "source": [
    "# print the name of columns\n",
    "df_term_deposit.columns"
   ]
  },
  {
   "cell_type": "markdown",
   "metadata": {},
   "source": [
    "<a id=\"SVM\"> </a>\n",
    "## 4. Support Vector Machine"
   ]
  },
  {
   "cell_type": "markdown",
   "metadata": {},
   "source": [
    "<a id=\"Linear\"> </a>\n",
    "## 4.1 Support Vector Machine using Linear Kernal"
   ]
  },
  {
   "cell_type": "markdown",
   "metadata": {},
   "source": [
    "<table align=\"left\">\n",
    "    <tr>\n",
    "        <td width=\"8%\">\n",
    "            <img src=\"key.png\">\n",
    "        </td>\n",
    "        <td>\n",
    "            <div align=\"left\", style=\"font-size:120%\">\n",
    "                    <b> Now we build a SVM model using linear kernal. We start with our original data set gradually proceeding with our analysis<br><br>\n",
    "                        In order to buil a  SVM model using linear kernal, we do the following:<br>\n",
    "                        1. Split the dataset set <br>\n",
    "                        2. Build the model<br>\n",
    "                        3. Predict the values<br>\n",
    "                        4. Compute the accuracy measures<br>\n",
    "                        5. Tabulate the results <br>\n",
    "                      </b>\n",
    "                </font>\n",
    "            </div>\n",
    "        </td>\n",
    "    </tr>\n",
    "</table>"
   ]
  },
  {
   "cell_type": "markdown",
   "metadata": {},
   "source": [
    "**1. Split the dataset set**"
   ]
  },
  {
   "cell_type": "code",
   "execution_count": 16,
   "metadata": {},
   "outputs": [
    {
     "data": {
      "text/html": [
       "<div>\n",
       "<style scoped>\n",
       "    .dataframe tbody tr th:only-of-type {\n",
       "        vertical-align: middle;\n",
       "    }\n",
       "\n",
       "    .dataframe tbody tr th {\n",
       "        vertical-align: top;\n",
       "    }\n",
       "\n",
       "    .dataframe thead th {\n",
       "        text-align: right;\n",
       "    }\n",
       "</style>\n",
       "<table border=\"1\" class=\"dataframe\">\n",
       "  <thead>\n",
       "    <tr style=\"text-align: right;\">\n",
       "      <th></th>\n",
       "      <th>age</th>\n",
       "      <th>duration</th>\n",
       "      <th>campaign</th>\n",
       "      <th>pdays</th>\n",
       "      <th>previous</th>\n",
       "      <th>emp.var.rate</th>\n",
       "      <th>cons.price.idx</th>\n",
       "      <th>cons.conf.idx</th>\n",
       "      <th>euribor3m</th>\n",
       "      <th>nr.employed</th>\n",
       "      <th>y</th>\n",
       "      <th>job_blue-collar</th>\n",
       "      <th>job_entrepreneur</th>\n",
       "      <th>job_housemaid</th>\n",
       "      <th>job_management</th>\n",
       "      <th>job_retired</th>\n",
       "      <th>job_self-employed</th>\n",
       "      <th>job_services</th>\n",
       "      <th>job_student</th>\n",
       "      <th>job_technician</th>\n",
       "      <th>job_unemployed</th>\n",
       "      <th>job_unknown</th>\n",
       "      <th>marital_married</th>\n",
       "      <th>marital_single</th>\n",
       "      <th>marital_unknown</th>\n",
       "      <th>education_basic.6y</th>\n",
       "      <th>education_basic.9y</th>\n",
       "      <th>education_high.school</th>\n",
       "      <th>education_illiterate</th>\n",
       "      <th>education_professional.course</th>\n",
       "      <th>education_university.degree</th>\n",
       "      <th>education_unknown</th>\n",
       "      <th>default_unknown</th>\n",
       "      <th>default_yes</th>\n",
       "      <th>housing_unknown</th>\n",
       "      <th>housing_yes</th>\n",
       "      <th>loan_unknown</th>\n",
       "      <th>loan_yes</th>\n",
       "      <th>contact_telephone</th>\n",
       "      <th>month_aug</th>\n",
       "      <th>month_dec</th>\n",
       "      <th>month_jul</th>\n",
       "      <th>month_jun</th>\n",
       "      <th>month_mar</th>\n",
       "      <th>month_may</th>\n",
       "      <th>month_nov</th>\n",
       "      <th>month_oct</th>\n",
       "      <th>month_sep</th>\n",
       "      <th>day_of_week_mon</th>\n",
       "      <th>day_of_week_thu</th>\n",
       "      <th>day_of_week_tue</th>\n",
       "      <th>day_of_week_wed</th>\n",
       "      <th>poutcome_nonexistent</th>\n",
       "      <th>poutcome_success</th>\n",
       "    </tr>\n",
       "  </thead>\n",
       "  <tbody>\n",
       "    <tr>\n",
       "      <th>0</th>\n",
       "      <td>56</td>\n",
       "      <td>261</td>\n",
       "      <td>1</td>\n",
       "      <td>999</td>\n",
       "      <td>0</td>\n",
       "      <td>1.100000</td>\n",
       "      <td>93.994000</td>\n",
       "      <td>-36.400000</td>\n",
       "      <td>4.857000</td>\n",
       "      <td>5191.000000</td>\n",
       "      <td>0</td>\n",
       "      <td>0</td>\n",
       "      <td>0</td>\n",
       "      <td>1</td>\n",
       "      <td>0</td>\n",
       "      <td>0</td>\n",
       "      <td>0</td>\n",
       "      <td>0</td>\n",
       "      <td>0</td>\n",
       "      <td>0</td>\n",
       "      <td>0</td>\n",
       "      <td>0</td>\n",
       "      <td>1</td>\n",
       "      <td>0</td>\n",
       "      <td>0</td>\n",
       "      <td>0</td>\n",
       "      <td>0</td>\n",
       "      <td>0</td>\n",
       "      <td>0</td>\n",
       "      <td>0</td>\n",
       "      <td>0</td>\n",
       "      <td>0</td>\n",
       "      <td>0</td>\n",
       "      <td>0</td>\n",
       "      <td>0</td>\n",
       "      <td>0</td>\n",
       "      <td>0</td>\n",
       "      <td>0</td>\n",
       "      <td>1</td>\n",
       "      <td>0</td>\n",
       "      <td>0</td>\n",
       "      <td>0</td>\n",
       "      <td>0</td>\n",
       "      <td>0</td>\n",
       "      <td>1</td>\n",
       "      <td>0</td>\n",
       "      <td>0</td>\n",
       "      <td>0</td>\n",
       "      <td>1</td>\n",
       "      <td>0</td>\n",
       "      <td>0</td>\n",
       "      <td>0</td>\n",
       "      <td>1</td>\n",
       "      <td>0</td>\n",
       "    </tr>\n",
       "    <tr>\n",
       "      <th>1</th>\n",
       "      <td>57</td>\n",
       "      <td>149</td>\n",
       "      <td>1</td>\n",
       "      <td>999</td>\n",
       "      <td>0</td>\n",
       "      <td>1.100000</td>\n",
       "      <td>93.994000</td>\n",
       "      <td>-36.400000</td>\n",
       "      <td>4.857000</td>\n",
       "      <td>5191.000000</td>\n",
       "      <td>0</td>\n",
       "      <td>0</td>\n",
       "      <td>0</td>\n",
       "      <td>0</td>\n",
       "      <td>0</td>\n",
       "      <td>0</td>\n",
       "      <td>0</td>\n",
       "      <td>1</td>\n",
       "      <td>0</td>\n",
       "      <td>0</td>\n",
       "      <td>0</td>\n",
       "      <td>0</td>\n",
       "      <td>1</td>\n",
       "      <td>0</td>\n",
       "      <td>0</td>\n",
       "      <td>0</td>\n",
       "      <td>0</td>\n",
       "      <td>1</td>\n",
       "      <td>0</td>\n",
       "      <td>0</td>\n",
       "      <td>0</td>\n",
       "      <td>0</td>\n",
       "      <td>1</td>\n",
       "      <td>0</td>\n",
       "      <td>0</td>\n",
       "      <td>0</td>\n",
       "      <td>0</td>\n",
       "      <td>0</td>\n",
       "      <td>1</td>\n",
       "      <td>0</td>\n",
       "      <td>0</td>\n",
       "      <td>0</td>\n",
       "      <td>0</td>\n",
       "      <td>0</td>\n",
       "      <td>1</td>\n",
       "      <td>0</td>\n",
       "      <td>0</td>\n",
       "      <td>0</td>\n",
       "      <td>1</td>\n",
       "      <td>0</td>\n",
       "      <td>0</td>\n",
       "      <td>0</td>\n",
       "      <td>1</td>\n",
       "      <td>0</td>\n",
       "    </tr>\n",
       "    <tr>\n",
       "      <th>2</th>\n",
       "      <td>37</td>\n",
       "      <td>226</td>\n",
       "      <td>1</td>\n",
       "      <td>999</td>\n",
       "      <td>0</td>\n",
       "      <td>1.100000</td>\n",
       "      <td>93.994000</td>\n",
       "      <td>-36.400000</td>\n",
       "      <td>4.857000</td>\n",
       "      <td>5191.000000</td>\n",
       "      <td>0</td>\n",
       "      <td>0</td>\n",
       "      <td>0</td>\n",
       "      <td>0</td>\n",
       "      <td>0</td>\n",
       "      <td>0</td>\n",
       "      <td>0</td>\n",
       "      <td>1</td>\n",
       "      <td>0</td>\n",
       "      <td>0</td>\n",
       "      <td>0</td>\n",
       "      <td>0</td>\n",
       "      <td>1</td>\n",
       "      <td>0</td>\n",
       "      <td>0</td>\n",
       "      <td>0</td>\n",
       "      <td>0</td>\n",
       "      <td>1</td>\n",
       "      <td>0</td>\n",
       "      <td>0</td>\n",
       "      <td>0</td>\n",
       "      <td>0</td>\n",
       "      <td>0</td>\n",
       "      <td>0</td>\n",
       "      <td>0</td>\n",
       "      <td>1</td>\n",
       "      <td>0</td>\n",
       "      <td>0</td>\n",
       "      <td>1</td>\n",
       "      <td>0</td>\n",
       "      <td>0</td>\n",
       "      <td>0</td>\n",
       "      <td>0</td>\n",
       "      <td>0</td>\n",
       "      <td>1</td>\n",
       "      <td>0</td>\n",
       "      <td>0</td>\n",
       "      <td>0</td>\n",
       "      <td>1</td>\n",
       "      <td>0</td>\n",
       "      <td>0</td>\n",
       "      <td>0</td>\n",
       "      <td>1</td>\n",
       "      <td>0</td>\n",
       "    </tr>\n",
       "    <tr>\n",
       "      <th>3</th>\n",
       "      <td>40</td>\n",
       "      <td>151</td>\n",
       "      <td>1</td>\n",
       "      <td>999</td>\n",
       "      <td>0</td>\n",
       "      <td>1.100000</td>\n",
       "      <td>93.994000</td>\n",
       "      <td>-36.400000</td>\n",
       "      <td>4.857000</td>\n",
       "      <td>5191.000000</td>\n",
       "      <td>0</td>\n",
       "      <td>0</td>\n",
       "      <td>0</td>\n",
       "      <td>0</td>\n",
       "      <td>0</td>\n",
       "      <td>0</td>\n",
       "      <td>0</td>\n",
       "      <td>0</td>\n",
       "      <td>0</td>\n",
       "      <td>0</td>\n",
       "      <td>0</td>\n",
       "      <td>0</td>\n",
       "      <td>1</td>\n",
       "      <td>0</td>\n",
       "      <td>0</td>\n",
       "      <td>1</td>\n",
       "      <td>0</td>\n",
       "      <td>0</td>\n",
       "      <td>0</td>\n",
       "      <td>0</td>\n",
       "      <td>0</td>\n",
       "      <td>0</td>\n",
       "      <td>0</td>\n",
       "      <td>0</td>\n",
       "      <td>0</td>\n",
       "      <td>0</td>\n",
       "      <td>0</td>\n",
       "      <td>0</td>\n",
       "      <td>1</td>\n",
       "      <td>0</td>\n",
       "      <td>0</td>\n",
       "      <td>0</td>\n",
       "      <td>0</td>\n",
       "      <td>0</td>\n",
       "      <td>1</td>\n",
       "      <td>0</td>\n",
       "      <td>0</td>\n",
       "      <td>0</td>\n",
       "      <td>1</td>\n",
       "      <td>0</td>\n",
       "      <td>0</td>\n",
       "      <td>0</td>\n",
       "      <td>1</td>\n",
       "      <td>0</td>\n",
       "    </tr>\n",
       "    <tr>\n",
       "      <th>4</th>\n",
       "      <td>56</td>\n",
       "      <td>307</td>\n",
       "      <td>1</td>\n",
       "      <td>999</td>\n",
       "      <td>0</td>\n",
       "      <td>1.100000</td>\n",
       "      <td>93.994000</td>\n",
       "      <td>-36.400000</td>\n",
       "      <td>4.857000</td>\n",
       "      <td>5191.000000</td>\n",
       "      <td>0</td>\n",
       "      <td>0</td>\n",
       "      <td>0</td>\n",
       "      <td>0</td>\n",
       "      <td>0</td>\n",
       "      <td>0</td>\n",
       "      <td>0</td>\n",
       "      <td>1</td>\n",
       "      <td>0</td>\n",
       "      <td>0</td>\n",
       "      <td>0</td>\n",
       "      <td>0</td>\n",
       "      <td>1</td>\n",
       "      <td>0</td>\n",
       "      <td>0</td>\n",
       "      <td>0</td>\n",
       "      <td>0</td>\n",
       "      <td>1</td>\n",
       "      <td>0</td>\n",
       "      <td>0</td>\n",
       "      <td>0</td>\n",
       "      <td>0</td>\n",
       "      <td>0</td>\n",
       "      <td>0</td>\n",
       "      <td>0</td>\n",
       "      <td>0</td>\n",
       "      <td>0</td>\n",
       "      <td>1</td>\n",
       "      <td>1</td>\n",
       "      <td>0</td>\n",
       "      <td>0</td>\n",
       "      <td>0</td>\n",
       "      <td>0</td>\n",
       "      <td>0</td>\n",
       "      <td>1</td>\n",
       "      <td>0</td>\n",
       "      <td>0</td>\n",
       "      <td>0</td>\n",
       "      <td>1</td>\n",
       "      <td>0</td>\n",
       "      <td>0</td>\n",
       "      <td>0</td>\n",
       "      <td>1</td>\n",
       "      <td>0</td>\n",
       "    </tr>\n",
       "  </tbody>\n",
       "</table>\n",
       "</div>"
      ],
      "text/plain": [
       "   age  duration  campaign  pdays  previous  emp.var.rate  cons.price.idx  \\\n",
       "0   56       261         1    999         0      1.100000       93.994000   \n",
       "1   57       149         1    999         0      1.100000       93.994000   \n",
       "2   37       226         1    999         0      1.100000       93.994000   \n",
       "3   40       151         1    999         0      1.100000       93.994000   \n",
       "4   56       307         1    999         0      1.100000       93.994000   \n",
       "\n",
       "   cons.conf.idx  euribor3m  nr.employed  y  job_blue-collar  \\\n",
       "0     -36.400000   4.857000  5191.000000  0                0   \n",
       "1     -36.400000   4.857000  5191.000000  0                0   \n",
       "2     -36.400000   4.857000  5191.000000  0                0   \n",
       "3     -36.400000   4.857000  5191.000000  0                0   \n",
       "4     -36.400000   4.857000  5191.000000  0                0   \n",
       "\n",
       "   job_entrepreneur  job_housemaid  job_management  job_retired  \\\n",
       "0                 0              1               0            0   \n",
       "1                 0              0               0            0   \n",
       "2                 0              0               0            0   \n",
       "3                 0              0               0            0   \n",
       "4                 0              0               0            0   \n",
       "\n",
       "   job_self-employed  job_services  job_student  job_technician  \\\n",
       "0                  0             0            0               0   \n",
       "1                  0             1            0               0   \n",
       "2                  0             1            0               0   \n",
       "3                  0             0            0               0   \n",
       "4                  0             1            0               0   \n",
       "\n",
       "   job_unemployed  job_unknown  marital_married  marital_single  \\\n",
       "0               0            0                1               0   \n",
       "1               0            0                1               0   \n",
       "2               0            0                1               0   \n",
       "3               0            0                1               0   \n",
       "4               0            0                1               0   \n",
       "\n",
       "   marital_unknown  education_basic.6y  education_basic.9y  \\\n",
       "0                0                   0                   0   \n",
       "1                0                   0                   0   \n",
       "2                0                   0                   0   \n",
       "3                0                   1                   0   \n",
       "4                0                   0                   0   \n",
       "\n",
       "   education_high.school  education_illiterate  education_professional.course  \\\n",
       "0                      0                     0                              0   \n",
       "1                      1                     0                              0   \n",
       "2                      1                     0                              0   \n",
       "3                      0                     0                              0   \n",
       "4                      1                     0                              0   \n",
       "\n",
       "   education_university.degree  education_unknown  default_unknown  \\\n",
       "0                            0                  0                0   \n",
       "1                            0                  0                1   \n",
       "2                            0                  0                0   \n",
       "3                            0                  0                0   \n",
       "4                            0                  0                0   \n",
       "\n",
       "   default_yes  housing_unknown  housing_yes  loan_unknown  loan_yes  \\\n",
       "0            0                0            0             0         0   \n",
       "1            0                0            0             0         0   \n",
       "2            0                0            1             0         0   \n",
       "3            0                0            0             0         0   \n",
       "4            0                0            0             0         1   \n",
       "\n",
       "   contact_telephone  month_aug  month_dec  month_jul  month_jun  month_mar  \\\n",
       "0                  1          0          0          0          0          0   \n",
       "1                  1          0          0          0          0          0   \n",
       "2                  1          0          0          0          0          0   \n",
       "3                  1          0          0          0          0          0   \n",
       "4                  1          0          0          0          0          0   \n",
       "\n",
       "   month_may  month_nov  month_oct  month_sep  day_of_week_mon  \\\n",
       "0          1          0          0          0                1   \n",
       "1          1          0          0          0                1   \n",
       "2          1          0          0          0                1   \n",
       "3          1          0          0          0                1   \n",
       "4          1          0          0          0                1   \n",
       "\n",
       "   day_of_week_thu  day_of_week_tue  day_of_week_wed  poutcome_nonexistent  \\\n",
       "0                0                0                0                     1   \n",
       "1                0                0                0                     1   \n",
       "2                0                0                0                     1   \n",
       "3                0                0                0                     1   \n",
       "4                0                0                0                     1   \n",
       "\n",
       "   poutcome_success  \n",
       "0                 0  \n",
       "1                 0  \n",
       "2                 0  \n",
       "3                 0  \n",
       "4                 0  "
      ]
     },
     "execution_count": 16,
     "metadata": {},
     "output_type": "execute_result"
    }
   ],
   "source": [
    "df_term_deposit.head()"
   ]
  },
  {
   "cell_type": "code",
   "execution_count": 17,
   "metadata": {
    "collapsed": true
   },
   "outputs": [],
   "source": [
    "# extract the predictor variables\n",
    "X = df_term_deposit.iloc[:, df_term_deposit.columns != 'y']\n",
    "# extract the target variable\n",
    "y = df_term_deposit.iloc[:, df_term_deposit.columns == 'y']"
   ]
  },
  {
   "cell_type": "code",
   "execution_count": 18,
   "metadata": {},
   "outputs": [
    {
     "name": "stdout",
     "output_type": "stream",
     "text": [
      "X_train  (28831, 53)\n",
      "X_test  (12357, 53)\n",
      "y_train  (28831, 1)\n",
      "y_test  (12357, 1)\n"
     ]
    }
   ],
   "source": [
    "# let us now split the dataset into train & test\n",
    "X_train, X_test, y_train, y_test = train_test_split(X, y, test_size = 0.30, random_state=10)\n",
    "\n",
    "# print the shape of 'x_train'\n",
    "print(\"X_train \",X_train.shape)\n",
    "\n",
    "# print the shape of 'x_test'\n",
    "print(\"X_test \",X_test.shape)\n",
    "\n",
    "# print the shape of 'y_train'\n",
    "print(\"y_train \",y_train.shape)\n",
    "\n",
    "# print the shape of 'y_test'\n",
    "print(\"y_test \",y_test.shape)"
   ]
  },
  {
   "cell_type": "markdown",
   "metadata": {},
   "source": [
    "**2. Build the model**"
   ]
  },
  {
   "cell_type": "code",
   "execution_count": 19,
   "metadata": {},
   "outputs": [
    {
     "name": "stderr",
     "output_type": "stream",
     "text": [
      "/opt/anaconda3/lib/python3.7/site-packages/sklearn/utils/validation.py:760: DataConversionWarning: A column-vector y was passed when a 1d array was expected. Please change the shape of y to (n_samples, ), for example using ravel().\n",
      "  y = column_or_1d(y, warn=True)\n"
     ]
    },
    {
     "data": {
      "text/plain": [
       "SVC(C=1.0, break_ties=False, cache_size=200, class_weight=None, coef0=0.0,\n",
       "    decision_function_shape='ovr', degree=3, gamma='scale', kernel='linear',\n",
       "    max_iter=-1, probability=False, random_state=None, shrinking=True,\n",
       "    tol=0.001, verbose=False)"
      ]
     },
     "execution_count": 19,
     "metadata": {},
     "output_type": "execute_result"
    }
   ],
   "source": [
    "# build the model\n",
    "svclassifier = SVC(kernel = 'linear')\n",
    "\n",
    "# fit the model\n",
    "svclassifier.fit(X_train, y_train)\n"
   ]
  },
  {
   "cell_type": "markdown",
   "metadata": {},
   "source": [
    "**3. Predict the values**"
   ]
  },
  {
   "cell_type": "code",
   "execution_count": 20,
   "metadata": {
    "collapsed": true
   },
   "outputs": [],
   "source": [
    "# predict the values\n",
    "y_pred = svclassifier.predict(X_test)"
   ]
  },
  {
   "cell_type": "markdown",
   "metadata": {},
   "source": [
    "**4. Compute accuracy measures**"
   ]
  },
  {
   "cell_type": "code",
   "execution_count": 21,
   "metadata": {},
   "outputs": [
    {
     "data": {
      "image/png": "[encoded data removed]",
      "text/plain": [
       "<Figure size 576x360 with 1 Axes>"
      ]
     },
     "metadata": {
      "needs_background": "light"
     },
     "output_type": "display_data"
    }
   ],
   "source": [
    "# compute the confusion matrix\n",
    "cm = confusion_matrix(y_test, y_pred)\n",
    "\n",
    "# label the confusion matrix  \n",
    "conf_matrix = pd.DataFrame(data=cm,columns=['Predicted:0','Predicted:1'],index=['Actual:0','Actual:1'])\n",
    "\n",
    "# set sizeof the plot\n",
    "plt.figure(figsize = (8,5))\n",
    "\n",
    "# plot a heatmap\n",
    "# cmap: colour code used for plotting\n",
    "# annot: prints the correlation values in the chart\n",
    "# annot_kws: sets the font size of the annotation\n",
    "# cbar=False: Whether to draw a colorbar\n",
    "# fmt: string formatting code to use when adding annotations\n",
    "sns.heatmap(conf_matrix, annot=True, fmt='d', cmap=\"YlGnBu\", cbar=False)\n",
    "plt.show()"
   ]
  },
  {
   "cell_type": "code",
   "execution_count": 22,
   "metadata": {
    "collapsed": true
   },
   "outputs": [],
   "source": [
    "   # True Negatives are denoted by 'TN'\n",
    "# Actual 'O' values which are classified correctly\n",
    "TN = cm[0,0]\n",
    "\n",
    "# True Positives are denoted by 'TP'\n",
    "# Actual '1' values which are classified correctly\n",
    "TP = cm[1,1]\n",
    "\n",
    "# False Negatives are denoted by 'FN'\n",
    "# Actual '1' values which are classified wrongly as '0'\n",
    "FN = cm[1,0]\n",
    "\n",
    "# False Positives are denoted by 'FP'\n",
    "# Actual 'O' values which are classified wrongly as '1'\n",
    "FP = cm[0,1]                                                           "
   ]
  },
  {
   "cell_type": "code",
   "execution_count": 23,
   "metadata": {},
   "outputs": [
    {
     "name": "stdout",
     "output_type": "stream",
     "text": [
      "              precision    recall  f1-score   support\n",
      "\n",
      "           0       0.93      0.93      0.93     10935\n",
      "           1       0.48      0.47      0.48      1422\n",
      "\n",
      "    accuracy                           0.88     12357\n",
      "   macro avg       0.71      0.70      0.70     12357\n",
      "weighted avg       0.88      0.88      0.88     12357\n",
      "\n"
     ]
    }
   ],
   "source": [
    "# accuracy measures by classification_report()\n",
    "result = classification_report(y_test,y_pred)\n",
    "\n",
    "# print the result\n",
    "print(result)"
   ]
  },
  {
   "cell_type": "code",
   "execution_count": 24,
   "metadata": {},
   "outputs": [
    {
     "name": "stdout",
     "output_type": "stream",
     "text": [
      "kappa value: 0.408157528327604\n"
     ]
    }
   ],
   "source": [
    "# compute kappa value\n",
    "kappa = metrics.cohen_kappa_score(y_test, y_pred)\n",
    "\n",
    "# print kappa\n",
    "print('kappa value:',kappa)"
   ]
  },
  {
   "cell_type": "code",
   "execution_count": 25,
   "metadata": {},
   "outputs": [
    {
     "data": {
      "image/png": "[encoded data removed]",
      "text/plain": [
       "<Figure size 576x360 with 1 Axes>"
      ]
     },
     "metadata": {
      "needs_background": "light"
     },
     "output_type": "display_data"
    }
   ],
   "source": [
    "# set the figure size\n",
    "plt.rcParams['figure.figsize']=(8,5)\n",
    "\n",
    "fpr, tpr, thresholds = roc_curve(y_test, y_pred)\n",
    "\n",
    "# plot the ROC curve\n",
    "plt.plot(fpr,tpr)\n",
    "\n",
    "# set limits for x and y axes\n",
    "plt.xlim([0.0, 1.0])\n",
    "plt.ylim([0.0, 1.0])\n",
    "\n",
    "# plot the straight line showing worst prediction for the model\n",
    "plt.plot([0, 1], [0, 1],'r--')\n",
    "\n",
    "# add the AUC score\n",
    "plt.text(x = 0.05, y = 0.8, s =('AUC Score:', round(metrics.roc_auc_score(y_test, y_pred),4)))\n",
    "\n",
    "# name the plot, and both axes\n",
    "plt.xlabel('False positive rate (1-Specificity)')\n",
    "plt.ylabel('True positive rate (Sensitivity)')\n",
    "\n",
    "# plot the grid\n",
    "plt.grid(True)"
   ]
  },
  {
   "cell_type": "markdown",
   "metadata": {},
   "source": [
    "<table align=\"left\">\n",
    "    <tr>\n",
    "        <td width=\"8%\">\n",
    "            <img src=\"note.png\">\n",
    "        </td>\n",
    "        <td>\n",
    "            <div align=\"left\", style=\"font-size:120%\">\n",
    "                    <b>The dotted line represents the ROC curve of a purely random classifier; a good classifier stays as far away from that line as possible (toward the top-left corner)<br><br>\n",
    "We see our classifier is fairly away from the dotted line; which means the SVM with linear kernel classifier is a fairly good classifier  </b>\n",
    "                </font>\n",
    "            </div>\n",
    "        </td>\n",
    "    </tr>\n",
    "</table>\n",
    "\n"
   ]
  },
  {
   "cell_type": "markdown",
   "metadata": {},
   "source": [
    "**5. Tabulate the results**"
   ]
  },
  {
   "cell_type": "code",
   "execution_count": 98,
   "metadata": {},
   "outputs": [
    {
     "data": {
      "text/html": [
       "<div>\n",
       "<style scoped>\n",
       "    .dataframe tbody tr th:only-of-type {\n",
       "        vertical-align: middle;\n",
       "    }\n",
       "\n",
       "    .dataframe tbody tr th {\n",
       "        vertical-align: top;\n",
       "    }\n",
       "\n",
       "    .dataframe thead th {\n",
       "        text-align: right;\n",
       "    }\n",
       "</style>\n",
       "<table border=\"1\" class=\"dataframe\">\n",
       "  <thead>\n",
       "    <tr style=\"text-align: right;\">\n",
       "      <th></th>\n",
       "      <th>Model</th>\n",
       "      <th>AUC Score</th>\n",
       "      <th>Precision Score</th>\n",
       "      <th>Recall Score</th>\n",
       "      <th>Accuracy Score</th>\n",
       "      <th>Kappa Score</th>\n",
       "      <th>f1-score</th>\n",
       "    </tr>\n",
       "  </thead>\n",
       "  <tbody>\n",
       "    <tr>\n",
       "      <th>0</th>\n",
       "      <td>SVM using linear kernel</td>\n",
       "      <td>0.701270</td>\n",
       "      <td>0.482934</td>\n",
       "      <td>0.467651</td>\n",
       "      <td>0.881120</td>\n",
       "      <td>0.408158</td>\n",
       "      <td>0.475170</td>\n",
       "    </tr>\n",
       "  </tbody>\n",
       "</table>\n",
       "</div>"
      ],
      "text/plain": [
       "                      Model  AUC Score  Precision Score  Recall Score  \\\n",
       "0  SVM using linear kernel    0.701270         0.482934      0.467651   \n",
       "\n",
       "   Accuracy Score  Kappa Score  f1-score  \n",
       "0        0.881120     0.408158  0.475170  "
      ]
     },
     "execution_count": 98,
     "metadata": {},
     "output_type": "execute_result"
    }
   ],
   "source": [
    "# create the result table for all accuracy scores\n",
    "# Accuracy measures considered for model comparision are 'Model', 'AUC Score', 'Precision Score', 'Recall Score','Accuracy Score','Kappa Score', 'f1 - score'\n",
    "\n",
    "# create a list of column names\n",
    "cols = ['Model', 'AUC Score', 'Precision Score', 'Recall Score','Accuracy Score','Kappa Score','f1-score']\n",
    "\n",
    "# creating an empty dataframe of the colums\n",
    "result_tabulation = pd.DataFrame(columns = cols)\n",
    "\n",
    "# compiling the required information\n",
    "SVM_linear_metrics = pd.Series({'Model': \"SVM using linear kernel \",\n",
    "                     'AUC Score' : metrics.roc_auc_score(y_test, y_pred),\n",
    "                 'Precision Score': metrics.precision_score(y_test, y_pred),\n",
    "                 'Recall Score': metrics.recall_score(y_test, y_pred),\n",
    "                 'Accuracy Score': metrics.accuracy_score(y_test, y_pred),\n",
    "                 'Kappa Score':metrics.cohen_kappa_score(y_test, y_pred),\n",
    "                  'f1-score':metrics.f1_score(y_test, y_pred)})\n",
    "\n",
    "\n",
    "\n",
    "# appending our result table\n",
    "result_tabulation = result_tabulation.append(SVM_linear_metrics , ignore_index = True)\n",
    "\n",
    "# view the result table\n",
    "result_tabulation"
   ]
  },
  {
   "cell_type": "markdown",
   "metadata": {},
   "source": [
    "<a id=\"Gaussian\"> </a>\n",
    "## 4.2 Support Vector Machine using Gaussian Kernal"
   ]
  },
  {
   "cell_type": "markdown",
   "metadata": {},
   "source": [
    "<table align=\"left\">\n",
    "    <tr>\n",
    "        <td width=\"8%\">\n",
    "            <img src=\"key.png\">\n",
    "        </td>\n",
    "        <td>\n",
    "            <div align=\"left\", style=\"font-size:120%\">\n",
    "                    <b> Now we build a SVM model using Gaussian kernal. We start with our original data set gradually proceeding with our analysis<br><br>\n",
    "                        In order to buil a  SVM model using Gaussian kernal, we do the following:<br>\n",
    "                        1. Build the model<br>\n",
    "                        2. Predict the values<br>\n",
    "                        3. Compute the accuracy measures<br>\n",
    "                        4. Tabulate the results <br>\n",
    "                      </b>\n",
    "                </font>\n",
    "            </div>\n",
    "        </td>\n",
    "    </tr>\n",
    "</table>"
   ]
  },
  {
   "cell_type": "markdown",
   "metadata": {},
   "source": [
    "**1. Build the model**"
   ]
  },
  {
   "cell_type": "code",
   "execution_count": 101,
   "metadata": {},
   "outputs": [
    {
     "name": "stderr",
     "output_type": "stream",
     "text": [
      "/opt/anaconda3/lib/python3.7/site-packages/sklearn/utils/validation.py:760: DataConversionWarning: A column-vector y was passed when a 1d array was expected. Please change the shape of y to (n_samples, ), for example using ravel().\n",
      "  y = column_or_1d(y, warn=True)\n"
     ]
    },
    {
     "data": {
      "text/plain": [
       "SVC(C=1.0, break_ties=False, cache_size=200, class_weight=None, coef0=0.0,\n",
       "    decision_function_shape='ovr', degree=3, gamma='scale', kernel='rbf',\n",
       "    max_iter=-1, probability=False, random_state=None, shrinking=True,\n",
       "    tol=0.001, verbose=False)"
      ]
     },
     "execution_count": 101,
     "metadata": {},
     "output_type": "execute_result"
    }
   ],
   "source": [
    "# build the model\n",
    "svclassifier = SVC(kernel='rbf')\n",
    "# fit the model\n",
    "svclassifier.fit(X_train, y_train)"
   ]
  },
  {
   "cell_type": "markdown",
   "metadata": {},
   "source": [
    "**2. Do predictions on the test set**"
   ]
  },
  {
   "cell_type": "code",
   "execution_count": 102,
   "metadata": {
    "collapsed": true
   },
   "outputs": [],
   "source": [
    "# predict the values\n",
    "y_pred_gaussian  = svclassifier.predict(X_test)"
   ]
  },
  {
   "cell_type": "markdown",
   "metadata": {},
   "source": [
    "Before we compute the accuracy measures, let us plot the confusion matrix."
   ]
  },
  {
   "cell_type": "markdown",
   "metadata": {},
   "source": [
    "**3. Compute accuracy measures**"
   ]
  },
  {
   "cell_type": "code",
   "execution_count": 103,
   "metadata": {},
   "outputs": [
    {
     "data": {
      "image/png": "[encoded data removed]",
      "text/plain": [
       "<Figure size 576x360 with 1 Axes>"
      ]
     },
     "metadata": {
      "needs_background": "light"
     },
     "output_type": "display_data"
    }
   ],
   "source": [
    "# compute the confusion matrix\n",
    "cm = confusion_matrix(y_test, y_pred_gaussian)\n",
    "\n",
    "# label the confusion matrix  \n",
    "conf_matrix = pd.DataFrame(data=cm,columns=['Predicted:0','Predicted:1'],index=['Actual:0','Actual:1'])\n",
    "\n",
    "# set sizeof the plot\n",
    "plt.figure(figsize = (8,5))\n",
    "\n",
    "# plot a heatmap\n",
    "# cmap: colour code used for plotting\n",
    "# annot: prints the correlation values in the chart\n",
    "# annot_kws: sets the font size of the annotation\n",
    "# cbar=False: Whether to draw a colorbar\n",
    "# fmt: string formatting code to use when adding annotations\n",
    "sns.heatmap(conf_matrix, annot=True, fmt='d', cmap=\"YlGnBu\", cbar=False)\n",
    "plt.show()"
   ]
  },
  {
   "cell_type": "code",
   "execution_count": 104,
   "metadata": {
    "collapsed": true
   },
   "outputs": [],
   "source": [
    "# True Negatives are denoted by 'TN'\n",
    "# Actual 'O' values which are classified correctly\n",
    "TN = cm[0,0]\n",
    "\n",
    "# True Positives are denoted by 'TP'\n",
    "# Actual '1' values which are classified correctly\n",
    "TP = cm[1,1]\n",
    "\n",
    "# False Negatives are denoted by 'FN'\n",
    "# Actual '1' values which are classified wrongly as '0'\n",
    "FN = cm[1,0]\n",
    "\n",
    "# False Positives are denoted by 'FP'\n",
    "# Actual 'O' values which are classified wrongly as '1'\n",
    "FP = cm[0,1]                                                           "
   ]
  },
  {
   "cell_type": "code",
   "execution_count": 105,
   "metadata": {},
   "outputs": [
    {
     "name": "stdout",
     "output_type": "stream",
     "text": [
      "              precision    recall  f1-score   support\n",
      "\n",
      "           0       0.91      0.98      0.94     10935\n",
      "           1       0.64      0.21      0.31      1422\n",
      "\n",
      "    accuracy                           0.90     12357\n",
      "   macro avg       0.77      0.60      0.63     12357\n",
      "weighted avg       0.87      0.90      0.87     12357\n",
      "\n"
     ]
    }
   ],
   "source": [
    "# accuracy measures by classification_report()\n",
    "result = classification_report(y_test, y_pred_gaussian)\n",
    "\n",
    "# print the result\n",
    "print(result)"
   ]
  },
  {
   "cell_type": "code",
   "execution_count": 106,
   "metadata": {},
   "outputs": [
    {
     "name": "stdout",
     "output_type": "stream",
     "text": [
      "kappa value: 0.27158643128078885\n"
     ]
    }
   ],
   "source": [
    "# compute kappa value\n",
    "kappa = metrics.cohen_kappa_score(y_test, y_pred_gaussian)\n",
    "\n",
    "# print kappa\n",
    "print('kappa value:',kappa)"
   ]
  },
  {
   "cell_type": "markdown",
   "metadata": {},
   "source": [
    "Cohen’s kappa statistic measures interrater reliability (sometimes called interobserver agreement). Interrater reliability, or precision, happens when your data raters (or collectors) give the same score to the same data item.\n",
    "The kappa score can range between 0 -1, where.\n",
    "\n",
    "<br>0 = agreement equivalent to chance.\n",
    "<br>0.1 – 0.20 = slight agreement.\n",
    "<br>0.21 – 0.40 = fair agreement.\n",
    "<br>0.41 – 0.60 = moderate agreement.\n",
    "<br>0.61 – 0.80 = substantial agreement.\n",
    "<br>0.81 – 0.99 = near perfect agreement\n",
    "<br>1 = perfect agreement.\n",
    "\n",
    "Therefore from the above result we can say that there is a fair interobserver agreement "
   ]
  },
  {
   "cell_type": "code",
   "execution_count": 107,
   "metadata": {},
   "outputs": [
    {
     "data": {
      "image/png": "[encoded data removed]",
      "text/plain": [
       "<Figure size 576x360 with 1 Axes>"
      ]
     },
     "metadata": {
      "needs_background": "light"
     },
     "output_type": "display_data"
    }
   ],
   "source": [
    "# set the figure size\n",
    "plt.rcParams['figure.figsize']=(8,5)\n",
    "\n",
    "fpr, tpr, thresholds = roc_curve(y_test, y_pred_gaussian)\n",
    "\n",
    "# plot the ROC curve\n",
    "plt.plot(fpr,tpr)\n",
    "\n",
    "# set limits for x and y axes\n",
    "plt.xlim([0.0, 1.0])\n",
    "plt.ylim([0.0, 1.0])\n",
    "\n",
    "# plot the straight line showing worst prediction for the model\n",
    "plt.plot([0, 1], [0, 1],'r--')\n",
    "\n",
    "# add the AUC score\n",
    "plt.text(x = 0.05, y = 0.8, s =('AUC Score:', round(metrics.roc_auc_score(y_test, y_pred_gaussian),4)))\n",
    "\n",
    "# name the plot, and both axes\n",
    "plt.xlabel('False positive rate (1-Specificity)')\n",
    "plt.ylabel('True positive rate (Sensitivity)')\n",
    "\n",
    "# plot the grid\n",
    "plt.grid(True)"
   ]
  },
  {
   "cell_type": "markdown",
   "metadata": {},
   "source": [
    "<table align=\"left\">\n",
    "    <tr>\n",
    "        <td width=\"8%\">\n",
    "            <img src=\"note.png\">\n",
    "        </td>\n",
    "        <td>\n",
    "            <div align=\"left\", style=\"font-size:120%\">\n",
    "                    <b>The dotted line represents the ROC curve of a purely random classifier; a good classifier stays as far away from that line as possible (toward the top-left corner)<br><br>\n",
    "We see our classifier (SVM using linear gaussian) is not very far away from the dotted line; which means the SVM using gaussian classifier is not a very good classifier  </b>\n",
    "                </font>\n",
    "            </div>\n",
    "        </td>\n",
    "    </tr>\n",
    "</table>"
   ]
  },
  {
   "cell_type": "markdown",
   "metadata": {},
   "source": [
    "**4. Tabulate the results**"
   ]
  },
  {
   "cell_type": "code",
   "execution_count": 108,
   "metadata": {},
   "outputs": [
    {
     "data": {
      "text/html": [
       "<div>\n",
       "<style scoped>\n",
       "    .dataframe tbody tr th:only-of-type {\n",
       "        vertical-align: middle;\n",
       "    }\n",
       "\n",
       "    .dataframe tbody tr th {\n",
       "        vertical-align: top;\n",
       "    }\n",
       "\n",
       "    .dataframe thead th {\n",
       "        text-align: right;\n",
       "    }\n",
       "</style>\n",
       "<table border=\"1\" class=\"dataframe\">\n",
       "  <thead>\n",
       "    <tr style=\"text-align: right;\">\n",
       "      <th></th>\n",
       "      <th>Model</th>\n",
       "      <th>AUC Score</th>\n",
       "      <th>Precision Score</th>\n",
       "      <th>Recall Score</th>\n",
       "      <th>Accuracy Score</th>\n",
       "      <th>Kappa Score</th>\n",
       "      <th>f1-score</th>\n",
       "    </tr>\n",
       "  </thead>\n",
       "  <tbody>\n",
       "    <tr>\n",
       "      <th>0</th>\n",
       "      <td>SVM using linear kernel</td>\n",
       "      <td>0.701270</td>\n",
       "      <td>0.482934</td>\n",
       "      <td>0.467651</td>\n",
       "      <td>0.881120</td>\n",
       "      <td>0.408158</td>\n",
       "      <td>0.475170</td>\n",
       "    </tr>\n",
       "    <tr>\n",
       "      <th>1</th>\n",
       "      <td>SVM using gaussian kernal</td>\n",
       "      <td>0.596000</td>\n",
       "      <td>0.635776</td>\n",
       "      <td>0.207454</td>\n",
       "      <td>0.895120</td>\n",
       "      <td>0.271586</td>\n",
       "      <td>0.312831</td>\n",
       "    </tr>\n",
       "  </tbody>\n",
       "</table>\n",
       "</div>"
      ],
      "text/plain": [
       "                        Model  AUC Score  Precision Score  Recall Score  \\\n",
       "0    SVM using linear kernel    0.701270         0.482934      0.467651   \n",
       "1  SVM using gaussian kernal    0.596000         0.635776      0.207454   \n",
       "\n",
       "   Accuracy Score  Kappa Score  f1-score  \n",
       "0        0.881120     0.408158  0.475170  \n",
       "1        0.895120     0.271586  0.312831  "
      ]
     },
     "execution_count": 108,
     "metadata": {},
     "output_type": "execute_result"
    }
   ],
   "source": [
    "# create the result table for all accuracy scores\n",
    "# Accuracy measures considered for model comparision are 'Model', 'AUC Score', 'Precision Score', 'Recall Score','Accuracy Score','Kappa Score', 'f1 - score'\n",
    "\n",
    "# create a list of column names\n",
    "\n",
    "\n",
    "# compiling the required information\n",
    "SVM_Gaussian_metrics = pd.Series({'Model': \"SVM using gaussian kernal \",\n",
    "                     'AUC Score' : metrics.roc_auc_score(y_test, y_pred_gaussian),\n",
    "                 'Precision Score': metrics.precision_score(y_test, y_pred_gaussian),\n",
    "                 'Recall Score': metrics.recall_score(y_test, y_pred_gaussian),\n",
    "                 'Accuracy Score': metrics.accuracy_score(y_test, y_pred_gaussian),\n",
    "                 'Kappa Score':metrics.cohen_kappa_score(y_test, y_pred_gaussian),\n",
    "                  'f1-score':metrics.f1_score(y_test, y_pred_gaussian)})\n",
    "\n",
    "\n",
    "\n",
    "# appending our result table\n",
    "result_tabulation = result_tabulation.append(SVM_Gaussian_metrics , ignore_index = True)\n",
    "\n",
    "# view the result table\n",
    "result_tabulation"
   ]
  },
  {
   "cell_type": "markdown",
   "metadata": {},
   "source": [
    "<table align=\"left\">\n",
    "    <tr>\n",
    "        <td width=\"8%\">\n",
    "            <img src=\"note.png\">\n",
    "        </td>\n",
    "        <td>\n",
    "            <div align=\"left\", style=\"font-size:120%\">\n",
    "                    <b>It can be seen from the result tabulation, that all of the accuracy measures for both the models are not very good. However,  for term deposit subscription prediction, type 2 errors are costly. The type 2 error for both the above models are high. Hence, this may not be the best model for the required prediction.  </b>\n",
    "                </font>\n",
    "            </div>\n",
    "        </td>\n",
    "    </tr>\n",
    "</table>"
   ]
  },
  {
   "cell_type": "markdown",
   "metadata": {},
   "source": [
    "<a id=\"Sigmoid\"> </a>\n",
    "## 4.3 Support Vector Machine using Sigmoid Kernal"
   ]
  },
  {
   "cell_type": "markdown",
   "metadata": {},
   "source": [
    "<table align=\"left\">\n",
    "    <tr>\n",
    "        <td width=\"8%\">\n",
    "            <img src=\"key.png\">\n",
    "        </td>\n",
    "        <td>\n",
    "            <div align=\"left\", style=\"font-size:120%\">\n",
    "                    <b> Now we build a SVM model using Sigmoid kernal. We start with our original data set gradually proceeding with our analysis<br><br>\n",
    "                        In order to buil a  SVM model using Sigmoid kernal, we do the following:<br>\n",
    "                        1. Build the model<br>\n",
    "                        2. Predict the values<br>\n",
    "                        3. Compute the accuracy measures<br>\n",
    "                        4. Tabulate the results <br>\n",
    "                      </b>\n",
    "                </font>\n",
    "            </div>\n",
    "        </td>\n",
    "    </tr>\n",
    "</table>"
   ]
  },
  {
   "cell_type": "markdown",
   "metadata": {},
   "source": [
    "**1. Build the model**"
   ]
  },
  {
   "cell_type": "code",
   "execution_count": 109,
   "metadata": {},
   "outputs": [
    {
     "name": "stderr",
     "output_type": "stream",
     "text": [
      "/opt/anaconda3/lib/python3.7/site-packages/sklearn/utils/validation.py:760: DataConversionWarning: A column-vector y was passed when a 1d array was expected. Please change the shape of y to (n_samples, ), for example using ravel().\n",
      "  y = column_or_1d(y, warn=True)\n"
     ]
    },
    {
     "data": {
      "text/plain": [
       "SVC(C=1.0, break_ties=False, cache_size=200, class_weight=None, coef0=0.0,\n",
       "    decision_function_shape='ovr', degree=3, gamma='scale', kernel='sigmoid',\n",
       "    max_iter=-1, probability=False, random_state=None, shrinking=True,\n",
       "    tol=0.001, verbose=False)"
      ]
     },
     "execution_count": 109,
     "metadata": {},
     "output_type": "execute_result"
    }
   ],
   "source": [
    "# build the model\n",
    "svclassifier = SVC(kernel='sigmoid')\n",
    "# fit the model\n",
    "svclassifier.fit(X_train, y_train)"
   ]
  },
  {
   "cell_type": "markdown",
   "metadata": {},
   "source": [
    "**2. Predict the values for the test set**"
   ]
  },
  {
   "cell_type": "code",
   "execution_count": 110,
   "metadata": {
    "collapsed": true
   },
   "outputs": [],
   "source": [
    "# predict the values\n",
    "y_pred_sigmoid  = svclassifier.predict(X_test)"
   ]
  },
  {
   "cell_type": "markdown",
   "metadata": {},
   "source": [
    "**3. Compute accuracy measures**"
   ]
  },
  {
   "cell_type": "code",
   "execution_count": 111,
   "metadata": {},
   "outputs": [
    {
     "data": {
      "image/png": "[encoded data removed]",
      "text/plain": [
       "<Figure size 576x360 with 1 Axes>"
      ]
     },
     "metadata": {
      "needs_background": "light"
     },
     "output_type": "display_data"
    }
   ],
   "source": [
    "# compute the confusion matrix\n",
    "cm = confusion_matrix(y_test, y_pred_sigmoid)\n",
    "\n",
    "# label the confusion matrix  \n",
    "conf_matrix = pd.DataFrame(data=cm,columns=['Predicted:0','Predicted:1'],index=['Actual:0','Actual:1'])\n",
    "\n",
    "# set sizeof the plot\n",
    "plt.figure(figsize = (8,5))\n",
    "\n",
    "# plot a heatmap\n",
    "# cmap: colour code used for plotting\n",
    "# annot: prints the correlation values in the chart\n",
    "# annot_kws: sets the font size of the annotation\n",
    "# cbar=False: Whether to draw a colorbar\n",
    "# fmt: string formatting code to use when adding annotations\n",
    "sns.heatmap(conf_matrix, annot=True, fmt='d', cmap=\"YlGnBu\", cbar=False)\n",
    "plt.show()"
   ]
  },
  {
   "cell_type": "code",
   "execution_count": 112,
   "metadata": {
    "collapsed": true
   },
   "outputs": [],
   "source": [
    "# True Negatives are denoted by 'TN'\n",
    "# Actual 'O' values which are classified correctly\n",
    "TN = cm[0,0]\n",
    "\n",
    "# True Positives are denoted by 'TP'\n",
    "# Actual '1' values which are classified correctly\n",
    "TP = cm[1,1]\n",
    "\n",
    "# False Negatives are denoted by 'FN'\n",
    "# Actual '1' values which are classified wrongly as '0'\n",
    "FN = cm[1,0]\n",
    "\n",
    "# False Positives are denoted by 'FP'\n",
    "# Actual 'O' values which are classified wrongly as '1'\n",
    "FP = cm[0,1]               "
   ]
  },
  {
   "cell_type": "code",
   "execution_count": 113,
   "metadata": {},
   "outputs": [
    {
     "name": "stdout",
     "output_type": "stream",
     "text": [
      "              precision    recall  f1-score   support\n",
      "\n",
      "           0       0.90      0.99      0.94     10935\n",
      "           1       0.64      0.20      0.31      1422\n",
      "\n",
      "    accuracy                           0.89     12357\n",
      "   macro avg       0.77      0.59      0.62     12357\n",
      "weighted avg       0.87      0.89      0.87     12357\n",
      "\n"
     ]
    }
   ],
   "source": [
    "# accuracy measures by classification_report()\n",
    "result = classification_report(y_test,y_pred_sigmoid)\n",
    "\n",
    "# print the result\n",
    "print(result)"
   ]
  },
  {
   "cell_type": "code",
   "execution_count": 114,
   "metadata": {},
   "outputs": [
    {
     "name": "stdout",
     "output_type": "stream",
     "text": [
      "kappa value: 0.26488515915613153\n"
     ]
    }
   ],
   "source": [
    "# compute kappa value\n",
    "kappa = metrics.cohen_kappa_score(y_test, y_pred_sigmoid)\n",
    "\n",
    "# print kappa\n",
    "print('kappa value:',kappa)"
   ]
  },
  {
   "cell_type": "code",
   "execution_count": 115,
   "metadata": {},
   "outputs": [
    {
     "data": {
      "image/png": "[encoded data removed]",
      "text/plain": [
       "<Figure size 576x360 with 1 Axes>"
      ]
     },
     "metadata": {
      "needs_background": "light"
     },
     "output_type": "display_data"
    }
   ],
   "source": [
    "# set the figure size\n",
    "plt.rcParams['figure.figsize']=(8,5)\n",
    "\n",
    "fpr, tpr, thresholds = roc_curve(y_test, y_pred_sigmoid)\n",
    "\n",
    "# plot the ROC curve\n",
    "plt.plot(fpr,tpr)\n",
    "\n",
    "# set limits for x and y axes\n",
    "plt.xlim([0.0, 1.0])\n",
    "plt.ylim([0.0, 1.0])\n",
    "\n",
    "# plot the straight line showing worst prediction for the model\n",
    "plt.plot([0, 1], [0, 1],'r--')\n",
    "\n",
    "# add the AUC score\n",
    "plt.text(x = 0.05, y = 0.8, s =('AUC Score:', round(metrics.roc_auc_score(y_test, y_pred_sigmoid),4)))\n",
    "\n",
    "# name the plot, and both axes\n",
    "plt.xlabel('False positive rate (1-Specificity)')\n",
    "plt.ylabel('True positive rate (Sensitivity)')\n",
    "\n",
    "# plot the grid\n",
    "plt.grid(True)"
   ]
  },
  {
   "cell_type": "markdown",
   "metadata": {},
   "source": [
    "<table align=\"left\">\n",
    "    <tr>\n",
    "        <td width=\"8%\">\n",
    "            <img src=\"note.png\">\n",
    "        </td>\n",
    "        <td>\n",
    "            <div align=\"left\", style=\"font-size:120%\">\n",
    "                    <b>The dotted line represents the ROC curve of a purely random classifier; a good classifier stays as far away from that line as possible (toward the top-left corner)<br><br>\n",
    "We see our classifier is not very far away from the dotted line; which means the it is not a good classifier  </b>\n",
    "                </font>\n",
    "            </div>\n",
    "        </td>\n",
    "    </tr>\n",
    "</table>"
   ]
  },
  {
   "cell_type": "markdown",
   "metadata": {},
   "source": [
    "**5. Tabulate the results**"
   ]
  },
  {
   "cell_type": "code",
   "execution_count": 116,
   "metadata": {},
   "outputs": [
    {
     "data": {
      "text/html": [
       "<div>\n",
       "<style scoped>\n",
       "    .dataframe tbody tr th:only-of-type {\n",
       "        vertical-align: middle;\n",
       "    }\n",
       "\n",
       "    .dataframe tbody tr th {\n",
       "        vertical-align: top;\n",
       "    }\n",
       "\n",
       "    .dataframe thead th {\n",
       "        text-align: right;\n",
       "    }\n",
       "</style>\n",
       "<table border=\"1\" class=\"dataframe\">\n",
       "  <thead>\n",
       "    <tr style=\"text-align: right;\">\n",
       "      <th></th>\n",
       "      <th>Model</th>\n",
       "      <th>AUC Score</th>\n",
       "      <th>Precision Score</th>\n",
       "      <th>Recall Score</th>\n",
       "      <th>Accuracy Score</th>\n",
       "      <th>Kappa Score</th>\n",
       "      <th>f1-score</th>\n",
       "    </tr>\n",
       "  </thead>\n",
       "  <tbody>\n",
       "    <tr>\n",
       "      <th>0</th>\n",
       "      <td>SVM using linear kernel</td>\n",
       "      <td>0.701270</td>\n",
       "      <td>0.482934</td>\n",
       "      <td>0.467651</td>\n",
       "      <td>0.881120</td>\n",
       "      <td>0.408158</td>\n",
       "      <td>0.475170</td>\n",
       "    </tr>\n",
       "    <tr>\n",
       "      <th>1</th>\n",
       "      <td>SVM using gaussian kernal</td>\n",
       "      <td>0.596000</td>\n",
       "      <td>0.635776</td>\n",
       "      <td>0.207454</td>\n",
       "      <td>0.895120</td>\n",
       "      <td>0.271586</td>\n",
       "      <td>0.312831</td>\n",
       "    </tr>\n",
       "    <tr>\n",
       "      <th>2</th>\n",
       "      <td>SVM using sigmoid kernal</td>\n",
       "      <td>0.593064</td>\n",
       "      <td>0.635556</td>\n",
       "      <td>0.201125</td>\n",
       "      <td>0.894796</td>\n",
       "      <td>0.264885</td>\n",
       "      <td>0.305556</td>\n",
       "    </tr>\n",
       "  </tbody>\n",
       "</table>\n",
       "</div>"
      ],
      "text/plain": [
       "                        Model  AUC Score  Precision Score  Recall Score  \\\n",
       "0    SVM using linear kernel    0.701270         0.482934      0.467651   \n",
       "1  SVM using gaussian kernal    0.596000         0.635776      0.207454   \n",
       "2   SVM using sigmoid kernal    0.593064         0.635556      0.201125   \n",
       "\n",
       "   Accuracy Score  Kappa Score  f1-score  \n",
       "0        0.881120     0.408158  0.475170  \n",
       "1        0.895120     0.271586  0.312831  \n",
       "2        0.894796     0.264885  0.305556  "
      ]
     },
     "execution_count": 116,
     "metadata": {},
     "output_type": "execute_result"
    }
   ],
   "source": [
    "# create the result table for all accuracy scores\n",
    "# Accuracy measures considered for model comparision are 'Model', 'AUC Score', 'Precision Score', 'Recall Score','Accuracy Score','Kappa Score', 'f1 - score'\n",
    "\n",
    "# create a list of column names\n",
    "\n",
    "\n",
    "# compiling the required information\n",
    "SVM_sigmoid_metrics = pd.Series({'Model': \"SVM using sigmoid kernal \",\n",
    "                     'AUC Score' : metrics.roc_auc_score(y_test, y_pred_sigmoid),\n",
    "                 'Precision Score': metrics.precision_score(y_test, y_pred_sigmoid),\n",
    "                 'Recall Score': metrics.recall_score(y_test, y_pred_sigmoid),\n",
    "                 'Accuracy Score': metrics.accuracy_score(y_test, y_pred_sigmoid),\n",
    "                 'Kappa Score':metrics.cohen_kappa_score(y_test, y_pred_sigmoid),\n",
    "                  'f1-score':metrics.f1_score(y_test, y_pred_sigmoid)})\n",
    "\n",
    "\n",
    "\n",
    "# appending our result table\n",
    "result_tabulation = result_tabulation.append(SVM_sigmoid_metrics , ignore_index = True)\n",
    "\n",
    "# view the result table\n",
    "result_tabulation"
   ]
  },
  {
   "cell_type": "markdown",
   "metadata": {},
   "source": [
    "<a id=\"Poly\"> </a>\n",
    "## 4.4 Support Vector Machine using Polynomial Kernal"
   ]
  },
  {
   "cell_type": "markdown",
   "metadata": {},
   "source": [
    "<table align=\"left\">\n",
    "    <tr>\n",
    "        <td width=\"8%\">\n",
    "            <img src=\"key.png\">\n",
    "        </td>\n",
    "        <td>\n",
    "            <div align=\"left\", style=\"font-size:120%\">\n",
    "                    <b> Now we build a SVM model using Polynomial kernal. We start with our original data set gradually proceeding with our analysis<br><br>\n",
    "                        In order to build a  SVM model using Polynomial kernal, we do the following:<br>\n",
    "                        1. Build the model<br>\n",
    "                        2. Predict the values<br>\n",
    "                        3. Compute the accuracy measures<br>\n",
    "                        4. Tabulate the results <br>\n",
    "                      </b>\n",
    "                </font>\n",
    "            </div>\n",
    "        </td>\n",
    "    </tr>\n",
    "</table>"
   ]
  },
  {
   "cell_type": "markdown",
   "metadata": {},
   "source": [
    "**1. Build the model**"
   ]
  },
  {
   "cell_type": "code",
   "execution_count": 144,
   "metadata": {},
   "outputs": [
    {
     "name": "stderr",
     "output_type": "stream",
     "text": [
      "/opt/anaconda3/lib/python3.7/site-packages/sklearn/utils/validation.py:760: DataConversionWarning: A column-vector y was passed when a 1d array was expected. Please change the shape of y to (n_samples, ), for example using ravel().\n",
      "  y = column_or_1d(y, warn=True)\n"
     ]
    },
    {
     "data": {
      "text/plain": [
       "SVC(C=1.0, break_ties=False, cache_size=200, class_weight=None, coef0=0.0,\n",
       "    decision_function_shape='ovr', degree=3, gamma='scale', kernel='poly',\n",
       "    max_iter=-1, probability=False, random_state=None, shrinking=True,\n",
       "    tol=0.001, verbose=False)"
      ]
     },
     "execution_count": 144,
     "metadata": {},
     "output_type": "execute_result"
    }
   ],
   "source": [
    "# build the model\n",
    "svclassifier = SVC(kernel='poly')\n",
    "# fit the model\n",
    "svclassifier.fit(X_train, y_train)"
   ]
  },
  {
   "cell_type": "markdown",
   "metadata": {},
   "source": [
    "**2. Do predictions on the test set**"
   ]
  },
  {
   "cell_type": "code",
   "execution_count": 145,
   "metadata": {
    "collapsed": true
   },
   "outputs": [],
   "source": [
    "# predict the values\n",
    "y_pred_Poly  = svclassifier.predict(X_test)"
   ]
  },
  {
   "cell_type": "markdown",
   "metadata": {},
   "source": [
    "Before we compute the accuracy measures, let us plot the confusion matrix."
   ]
  },
  {
   "cell_type": "markdown",
   "metadata": {},
   "source": [
    "**3. Compute accuracy measures**"
   ]
  },
  {
   "cell_type": "code",
   "execution_count": 146,
   "metadata": {},
   "outputs": [
    {
     "data": {
      "image/png": "[encoded data removed]",
      "text/plain": [
       "<Figure size 576x360 with 1 Axes>"
      ]
     },
     "metadata": {
      "needs_background": "light"
     },
     "output_type": "display_data"
    }
   ],
   "source": [
    "# compute the confusion matrix\n",
    "cm = confusion_matrix(y_test, y_pred_Poly)\n",
    "\n",
    "# label the confusion matrix  \n",
    "conf_matrix = pd.DataFrame(data=cm,columns=['Predicted:0','Predicted:1'],index=['Actual:0','Actual:1'])\n",
    "\n",
    "# set sizeof the plot\n",
    "plt.figure(figsize = (8,5))\n",
    "\n",
    "# plot a heatmap\n",
    "# cmap: colour code used for plotting\n",
    "# annot: prints the correlation values in the chart\n",
    "# annot_kws: sets the font size of the annotation\n",
    "# cbar=False: Whether to draw a colorbar\n",
    "# fmt: string formatting code to use when adding annotations\n",
    "sns.heatmap(conf_matrix, annot=True, fmt='d', cmap=\"YlGnBu\", cbar=False)\n",
    "plt.show()"
   ]
  },
  {
   "cell_type": "code",
   "execution_count": 147,
   "metadata": {
    "collapsed": true
   },
   "outputs": [],
   "source": [
    "# True Negatives are denoted by 'TN'\n",
    "# Actual 'O' values which are classified correctly\n",
    "TN = cm[0,0]\n",
    "\n",
    "# True Positives are denoted by 'TP'\n",
    "# Actual '1' values which are classified correctly\n",
    "TP = cm[1,1]\n",
    "\n",
    "# False Negatives are denoted by 'FN'\n",
    "# Actual '1' values which are classified wrongly as '0'\n",
    "FN = cm[1,0]\n",
    "\n",
    "# False Positives are denoted by 'FP'\n",
    "# Actual 'O' values which are classified wrongly as '1'\n",
    "FP = cm[0,1] "
   ]
  },
  {
   "cell_type": "code",
   "execution_count": 148,
   "metadata": {},
   "outputs": [
    {
     "name": "stdout",
     "output_type": "stream",
     "text": [
      "              precision    recall  f1-score   support\n",
      "\n",
      "           0       0.91      0.98      0.94     10935\n",
      "           1       0.64      0.21      0.32      1422\n",
      "\n",
      "    accuracy                           0.90     12357\n",
      "   macro avg       0.77      0.60      0.63     12357\n",
      "weighted avg       0.87      0.90      0.87     12357\n",
      "\n"
     ]
    }
   ],
   "source": [
    "# accuracy measures by classification_report()\n",
    "result = classification_report(y_test, y_pred_Poly)\n",
    "\n",
    "# print the result\n",
    "print(result)"
   ]
  },
  {
   "cell_type": "code",
   "execution_count": 149,
   "metadata": {},
   "outputs": [
    {
     "name": "stdout",
     "output_type": "stream",
     "text": [
      "kappa value: 0.2778338883046966\n"
     ]
    }
   ],
   "source": [
    "# compute kappa value\n",
    "kappa = metrics.cohen_kappa_score(y_test, y_pred_Poly)\n",
    "\n",
    "# print kappa\n",
    "print('kappa value:',kappa)"
   ]
  },
  {
   "cell_type": "code",
   "execution_count": 150,
   "metadata": {},
   "outputs": [
    {
     "data": {
      "image/png": "[encoded data removed]",
      "text/plain": [
       "<Figure size 576x360 with 1 Axes>"
      ]
     },
     "metadata": {
      "needs_background": "light"
     },
     "output_type": "display_data"
    }
   ],
   "source": [
    "# set the figure size\n",
    "plt.rcParams['figure.figsize']=(8,5)\n",
    "\n",
    "fpr, tpr, thresholds = roc_curve(y_test, y_pred_Poly)\n",
    "\n",
    "# plot the ROC curve\n",
    "plt.plot(fpr,tpr)\n",
    "\n",
    "# set limits for x and y axes\n",
    "plt.xlim([0.0, 1.0])\n",
    "plt.ylim([0.0, 1.0])\n",
    "\n",
    "# plot the straight line showing worst prediction for the model\n",
    "plt.plot([0, 1], [0, 1],'r--')\n",
    "\n",
    "# add the AUC score\n",
    "plt.text(x = 0.05, y = 0.8, s =('AUC Score:', round(metrics.roc_auc_score(y_test, y_pred_Poly),4)))\n",
    "\n",
    "# name the plot, and both axes\n",
    "plt.xlabel('False positive rate (1-Specificity)')\n",
    "plt.ylabel('True positive rate (Sensitivity)')\n",
    "\n",
    "# plot the grid\n",
    "plt.grid(True)"
   ]
  },
  {
   "cell_type": "markdown",
   "metadata": {},
   "source": [
    "<table align=\"left\">\n",
    "    <tr>\n",
    "        <td width=\"8%\">\n",
    "            <img src=\"note.png\">\n",
    "        </td>\n",
    "        <td>\n",
    "            <div align=\"left\", style=\"font-size:120%\">\n",
    "                    <b>The dotted line represents the ROC curve of a purely random classifier; a good classifier stays as far away from that line as possible (toward the top-left corner)<br><br>\n",
    "We see our classifier (SVM using polynomial sigmoid) is not very far away from the dotted line; which means the SVM using a polynomial classifier is not a very good classifier  </b>\n",
    "                </font>\n",
    "            </div>\n",
    "        </td>\n",
    "    </tr>\n",
    "</table>"
   ]
  },
  {
   "cell_type": "markdown",
   "metadata": {},
   "source": [
    "**4. Tabulate the results**"
   ]
  },
  {
   "cell_type": "code",
   "execution_count": 126,
   "metadata": {},
   "outputs": [
    {
     "data": {
      "text/html": [
       "<div>\n",
       "<style scoped>\n",
       "    .dataframe tbody tr th:only-of-type {\n",
       "        vertical-align: middle;\n",
       "    }\n",
       "\n",
       "    .dataframe tbody tr th {\n",
       "        vertical-align: top;\n",
       "    }\n",
       "\n",
       "    .dataframe thead th {\n",
       "        text-align: right;\n",
       "    }\n",
       "</style>\n",
       "<table border=\"1\" class=\"dataframe\">\n",
       "  <thead>\n",
       "    <tr style=\"text-align: right;\">\n",
       "      <th></th>\n",
       "      <th>Model</th>\n",
       "      <th>AUC Score</th>\n",
       "      <th>Precision Score</th>\n",
       "      <th>Recall Score</th>\n",
       "      <th>Accuracy Score</th>\n",
       "      <th>Kappa Score</th>\n",
       "      <th>f1-score</th>\n",
       "    </tr>\n",
       "  </thead>\n",
       "  <tbody>\n",
       "    <tr>\n",
       "      <th>0</th>\n",
       "      <td>SVM using linear kernel</td>\n",
       "      <td>0.701270</td>\n",
       "      <td>0.482934</td>\n",
       "      <td>0.467651</td>\n",
       "      <td>0.881120</td>\n",
       "      <td>0.408158</td>\n",
       "      <td>0.475170</td>\n",
       "    </tr>\n",
       "    <tr>\n",
       "      <th>1</th>\n",
       "      <td>SVM using gaussian kernal</td>\n",
       "      <td>0.596000</td>\n",
       "      <td>0.635776</td>\n",
       "      <td>0.207454</td>\n",
       "      <td>0.895120</td>\n",
       "      <td>0.271586</td>\n",
       "      <td>0.312831</td>\n",
       "    </tr>\n",
       "    <tr>\n",
       "      <th>2</th>\n",
       "      <td>SVM using sigmoid kernal</td>\n",
       "      <td>0.593064</td>\n",
       "      <td>0.635556</td>\n",
       "      <td>0.201125</td>\n",
       "      <td>0.894796</td>\n",
       "      <td>0.264885</td>\n",
       "      <td>0.305556</td>\n",
       "    </tr>\n",
       "    <tr>\n",
       "      <th>3</th>\n",
       "      <td>SVM using polynomial kernal</td>\n",
       "      <td>0.598675</td>\n",
       "      <td>0.637895</td>\n",
       "      <td>0.213080</td>\n",
       "      <td>0.895525</td>\n",
       "      <td>0.277834</td>\n",
       "      <td>0.319452</td>\n",
       "    </tr>\n",
       "  </tbody>\n",
       "</table>\n",
       "</div>"
      ],
      "text/plain": [
       "                          Model  AUC Score  Precision Score  Recall Score  \\\n",
       "0      SVM using linear kernel    0.701270         0.482934      0.467651   \n",
       "1    SVM using gaussian kernal    0.596000         0.635776      0.207454   \n",
       "2     SVM using sigmoid kernal    0.593064         0.635556      0.201125   \n",
       "3  SVM using polynomial kernal    0.598675         0.637895      0.213080   \n",
       "\n",
       "   Accuracy Score  Kappa Score  f1-score  \n",
       "0        0.881120     0.408158  0.475170  \n",
       "1        0.895120     0.271586  0.312831  \n",
       "2        0.894796     0.264885  0.305556  \n",
       "3        0.895525     0.277834  0.319452  "
      ]
     },
     "execution_count": 126,
     "metadata": {},
     "output_type": "execute_result"
    }
   ],
   "source": [
    "# create the result table for all accuracy scores\n",
    "# Accuracy measures considered for model comparision are 'Model', 'AUC Score', 'Precision Score', 'Recall Score','Accuracy Score','Kappa Score', 'f1 - score'\n",
    "\n",
    "# create a list of column names\n",
    "\n",
    "\n",
    "# compiling the required information\n",
    "SVM_polynomial_metrics = pd.Series({'Model': \"SVM using polynomial kernal \",\n",
    "                     'AUC Score' : metrics.roc_auc_score(y_test, y_pred_Poly),\n",
    "                 'Precision Score': metrics.precision_score(y_test, y_pred_Poly),\n",
    "                 'Recall Score': metrics.recall_score(y_test, y_pred_Poly),\n",
    "                 'Accuracy Score': metrics.accuracy_score(y_test, y_pred_Poly),\n",
    "                 'Kappa Score':metrics.cohen_kappa_score(y_test, y_pred_Poly),\n",
    "                  'f1-score':metrics.f1_score(y_test, y_pred_Poly)})\n",
    "\n",
    "\n",
    "\n",
    "# appending our result table\n",
    "result_tabulation = result_tabulation.append(SVM_polynomial_metrics , ignore_index = True)\n",
    "\n",
    "# view the result table\n",
    "result_tabulation"
   ]
  },
  {
   "cell_type": "markdown",
   "metadata": {},
   "source": [
    "<a id=\"Poly_d\"> </a>\n",
    "## 4.5 Support Vector Machine using Polynomial Kernal with degree of polynomial = 2"
   ]
  },
  {
   "cell_type": "markdown",
   "metadata": {},
   "source": [
    "<table align=\"left\">\n",
    "    <tr>\n",
    "        <td width=\"8%\">\n",
    "            <img src=\"key.png\">\n",
    "        </td>\n",
    "        <td>\n",
    "            <div align=\"left\", style=\"font-size:120%\">\n",
    "                    <b> Now we build a SVM model using Polynomial kernal, with degree=2. We start with our original data set gradually proceeding with our analysis<br><br>\n",
    "                        In order to buil a  SVM model, we do the following:<br>\n",
    "                        1. Build the model<br>\n",
    "                        2. Predict the values<br>\n",
    "                        3. Compute the accuracy measures<br>\n",
    "                        4. Tabulate the results <br>\n",
    "                      </b>\n",
    "                </font>\n",
    "            </div>\n",
    "        </td>\n",
    "    </tr>\n",
    "</table>"
   ]
  },
  {
   "cell_type": "markdown",
   "metadata": {},
   "source": [
    "**1. Build the model**"
   ]
  },
  {
   "cell_type": "code",
   "execution_count": 28,
   "metadata": {},
   "outputs": [
    {
     "name": "stderr",
     "output_type": "stream",
     "text": [
      "/opt/anaconda3/lib/python3.7/site-packages/sklearn/utils/validation.py:760: DataConversionWarning: A column-vector y was passed when a 1d array was expected. Please change the shape of y to (n_samples, ), for example using ravel().\n",
      "  y = column_or_1d(y, warn=True)\n"
     ]
    },
    {
     "data": {
      "text/plain": [
       "SVC(C=1.0, break_ties=False, cache_size=200, class_weight=None, coef0=0.0,\n",
       "    decision_function_shape='ovr', degree=2, gamma='auto', kernel='poly',\n",
       "    max_iter=-1, probability=False, random_state=None, shrinking=True,\n",
       "    tol=0.001, verbose=False)"
      ]
     },
     "execution_count": 28,
     "metadata": {},
     "output_type": "execute_result"
    }
   ],
   "source": [
    "# build the model\n",
    "svclassifier_Poly = SVC(kernel='poly', degree = 2, gamma = 'auto')\n",
    "# fit the model\n",
    "svclassifier_Poly.fit(X_train, y_train)"
   ]
  },
  {
   "cell_type": "markdown",
   "metadata": {},
   "source": [
    "**2. Do predictions on the test set**"
   ]
  },
  {
   "cell_type": "code",
   "execution_count": 29,
   "metadata": {
    "collapsed": true
   },
   "outputs": [],
   "source": [
    "# predict the values\n",
    "y_pred_Poly_d  = svclassifier_Poly.predict(X_test)"
   ]
  },
  {
   "cell_type": "markdown",
   "metadata": {},
   "source": [
    "Before we compute the accuracy measures, let us plot the confusion matrix."
   ]
  },
  {
   "cell_type": "markdown",
   "metadata": {},
   "source": [
    "**3. Compute accuracy measures**"
   ]
  },
  {
   "cell_type": "code",
   "execution_count": 30,
   "metadata": {},
   "outputs": [
    {
     "data": {
      "image/png": "[encoded data removed]",
      "text/plain": [
       "<Figure size 576x360 with 1 Axes>"
      ]
     },
     "metadata": {
      "needs_background": "light"
     },
     "output_type": "display_data"
    }
   ],
   "source": [
    "# compute the confusion matrix\n",
    "cm = confusion_matrix(y_test, y_pred_Poly_d)\n",
    "\n",
    "# label the confusion matrix  \n",
    "conf_matrix = pd.DataFrame(data=cm,columns=['Predicted:0','Predicted:1'],index=['Actual:0','Actual:1'])\n",
    "\n",
    "# set sizeof the plot\n",
    "plt.figure(figsize = (8,5))\n",
    "\n",
    "# plot a heatmap\n",
    "# cmap: colour code used for plotting\n",
    "# annot: prints the correlation values in the chart\n",
    "# annot_kws: sets the font size of the annotation\n",
    "# cbar=False: Whether to draw a colorbar\n",
    "# fmt: string formatting code to use when adding annotations\n",
    "sns.heatmap(conf_matrix, annot=True, fmt='d', cmap=\"YlGnBu\", cbar=False)\n",
    "plt.show()"
   ]
  },
  {
   "cell_type": "code",
   "execution_count": 31,
   "metadata": {
    "collapsed": true
   },
   "outputs": [],
   "source": [
    "# True Negatives are denoted by 'TN'\n",
    "# Actual 'O' values which are classified correctly\n",
    "TN = cm[0,0]\n",
    "\n",
    "# True Positives are denoted by 'TP'\n",
    "# Actual '1' values which are classified correctly\n",
    "TP = cm[1,1]\n",
    "\n",
    "# False Negatives are denoted by 'FN'\n",
    "# Actual '1' values which are classified wrongly as '0'\n",
    "FN = cm[1,0]\n",
    "\n",
    "# False Positives are denoted by 'FP'\n",
    "# Actual 'O' values which are classified wrongly as '1'\n",
    "FP = cm[0,1] "
   ]
  },
  {
   "cell_type": "code",
   "execution_count": 32,
   "metadata": {},
   "outputs": [
    {
     "name": "stdout",
     "output_type": "stream",
     "text": [
      "              precision    recall  f1-score   support\n",
      "\n",
      "           0       0.93      0.97      0.95     10935\n",
      "           1       0.65      0.44      0.52      1422\n",
      "\n",
      "    accuracy                           0.91     12357\n",
      "   macro avg       0.79      0.70      0.74     12357\n",
      "weighted avg       0.90      0.91      0.90     12357\n",
      "\n"
     ]
    }
   ],
   "source": [
    "# accuracy measures by classification_report()\n",
    "result = classification_report(y_test, y_pred_Poly_d)\n",
    "\n",
    "# print the result\n",
    "print(result)"
   ]
  },
  {
   "cell_type": "code",
   "execution_count": 33,
   "metadata": {},
   "outputs": [
    {
     "name": "stdout",
     "output_type": "stream",
     "text": [
      "kappa value: 0.4751576862671667\n"
     ]
    }
   ],
   "source": [
    "# compute kappa value\n",
    "kappa = metrics.cohen_kappa_score(y_test, y_pred_Poly_d)\n",
    "\n",
    "# print kappa\n",
    "print('kappa value:',kappa)"
   ]
  },
  {
   "cell_type": "code",
   "execution_count": 34,
   "metadata": {},
   "outputs": [
    {
     "data": {
      "image/png": "[encoded data removed]",
      "text/plain": [
       "<Figure size 576x360 with 1 Axes>"
      ]
     },
     "metadata": {
      "needs_background": "light"
     },
     "output_type": "display_data"
    }
   ],
   "source": [
    "# set the figure size\n",
    "plt.rcParams['figure.figsize']=(8,5)\n",
    "\n",
    "fpr, tpr, thresholds = roc_curve(y_test, y_pred_Poly_d)\n",
    "\n",
    "# plot the ROC curve\n",
    "plt.plot(fpr,tpr)\n",
    "\n",
    "# set limits for x and y axes\n",
    "plt.xlim([0.0, 1.0])\n",
    "plt.ylim([0.0, 1.0])\n",
    "\n",
    "# plot the straight line showing worst prediction for the model\n",
    "plt.plot([0, 1], [0, 1],'r--')\n",
    "\n",
    "# add the AUC score\n",
    "plt.text(x = 0.05, y = 0.8, s =('AUC Score:', round(metrics.roc_auc_score(y_test, y_pred_Poly_d),4)))\n",
    "\n",
    "# name the plot, and both axes\n",
    "plt.xlabel('False positive rate (1-Specificity)')\n",
    "plt.ylabel('True positive rate (Sensitivity)')\n",
    "\n",
    "# plot the grid\n",
    "plt.grid(True)"
   ]
  },
  {
   "cell_type": "markdown",
   "metadata": {},
   "source": [
    "<table align=\"left\">\n",
    "    <tr>\n",
    "        <td width=\"8%\">\n",
    "            <img src=\"note.png\">\n",
    "        </td>\n",
    "        <td>\n",
    "            <div align=\"left\", style=\"font-size:120%\">\n",
    "                    <b>The dotted line represents the ROC curve of a purely random classifier; a good classifier stays as far away from that line as possible (toward the top-left corner)<br><br>\n",
    "We see our classifier (SVM using polynomial with degree = 2) is away from the dotted line; which means the SVM using polynomial kernel with degree = 2 is a fairly good classifier  </b>\n",
    "                </font>\n",
    "            </div>\n",
    "        </td>\n",
    "    </tr>\n",
    "</table>"
   ]
  },
  {
   "cell_type": "markdown",
   "metadata": {},
   "source": [
    "**4. Tabulate the results**"
   ]
  },
  {
   "cell_type": "code",
   "execution_count": 143,
   "metadata": {},
   "outputs": [
    {
     "data": {
      "text/html": [
       "<div>\n",
       "<style scoped>\n",
       "    .dataframe tbody tr th:only-of-type {\n",
       "        vertical-align: middle;\n",
       "    }\n",
       "\n",
       "    .dataframe tbody tr th {\n",
       "        vertical-align: top;\n",
       "    }\n",
       "\n",
       "    .dataframe thead th {\n",
       "        text-align: right;\n",
       "    }\n",
       "</style>\n",
       "<table border=\"1\" class=\"dataframe\">\n",
       "  <thead>\n",
       "    <tr style=\"text-align: right;\">\n",
       "      <th></th>\n",
       "      <th>Model</th>\n",
       "      <th>AUC Score</th>\n",
       "      <th>Precision Score</th>\n",
       "      <th>Recall Score</th>\n",
       "      <th>Accuracy Score</th>\n",
       "      <th>Kappa Score</th>\n",
       "      <th>f1-score</th>\n",
       "    </tr>\n",
       "  </thead>\n",
       "  <tbody>\n",
       "    <tr>\n",
       "      <th>0</th>\n",
       "      <td>SVM using linear kernel</td>\n",
       "      <td>0.701270</td>\n",
       "      <td>0.482934</td>\n",
       "      <td>0.467651</td>\n",
       "      <td>0.881120</td>\n",
       "      <td>0.408158</td>\n",
       "      <td>0.475170</td>\n",
       "    </tr>\n",
       "    <tr>\n",
       "      <th>1</th>\n",
       "      <td>SVM using gaussian kernal</td>\n",
       "      <td>0.596000</td>\n",
       "      <td>0.635776</td>\n",
       "      <td>0.207454</td>\n",
       "      <td>0.895120</td>\n",
       "      <td>0.271586</td>\n",
       "      <td>0.312831</td>\n",
       "    </tr>\n",
       "    <tr>\n",
       "      <th>2</th>\n",
       "      <td>SVM using sigmoid kernal</td>\n",
       "      <td>0.593064</td>\n",
       "      <td>0.635556</td>\n",
       "      <td>0.201125</td>\n",
       "      <td>0.894796</td>\n",
       "      <td>0.264885</td>\n",
       "      <td>0.305556</td>\n",
       "    </tr>\n",
       "    <tr>\n",
       "      <th>3</th>\n",
       "      <td>SVM using polynomial kernal</td>\n",
       "      <td>0.598675</td>\n",
       "      <td>0.637895</td>\n",
       "      <td>0.213080</td>\n",
       "      <td>0.895525</td>\n",
       "      <td>0.277834</td>\n",
       "      <td>0.319452</td>\n",
       "    </tr>\n",
       "    <tr>\n",
       "      <th>4</th>\n",
       "      <td>SVM using polynomial degree 2 kernal</td>\n",
       "      <td>0.703786</td>\n",
       "      <td>0.650993</td>\n",
       "      <td>0.438115</td>\n",
       "      <td>0.908311</td>\n",
       "      <td>0.475158</td>\n",
       "      <td>0.523749</td>\n",
       "    </tr>\n",
       "  </tbody>\n",
       "</table>\n",
       "</div>"
      ],
      "text/plain": [
       "                                   Model  AUC Score  Precision Score  \\\n",
       "0               SVM using linear kernel    0.701270         0.482934   \n",
       "1             SVM using gaussian kernal    0.596000         0.635776   \n",
       "2              SVM using sigmoid kernal    0.593064         0.635556   \n",
       "3           SVM using polynomial kernal    0.598675         0.637895   \n",
       "4  SVM using polynomial degree 2 kernal    0.703786         0.650993   \n",
       "\n",
       "   Recall Score  Accuracy Score  Kappa Score  f1-score  \n",
       "0      0.467651        0.881120     0.408158  0.475170  \n",
       "1      0.207454        0.895120     0.271586  0.312831  \n",
       "2      0.201125        0.894796     0.264885  0.305556  \n",
       "3      0.213080        0.895525     0.277834  0.319452  \n",
       "4      0.438115        0.908311     0.475158  0.523749  "
      ]
     },
     "execution_count": 143,
     "metadata": {},
     "output_type": "execute_result"
    }
   ],
   "source": [
    "# create the result table for all accuracy scores\n",
    "# Accuracy measures considered for model comparision are 'Model', 'AUC Score', 'Precision Score', 'Recall Score','Accuracy Score','Kappa Score', 'f1 - score'\n",
    "\n",
    "# create a list of column names\n",
    "\n",
    "\n",
    "# compiling the required information\n",
    "SVM_polynomial_d_metrics = pd.Series({'Model': \"SVM using polynomial degree 2 kernal \",\n",
    "                     'AUC Score' : metrics.roc_auc_score(y_test, y_pred_Poly_d),\n",
    "                 'Precision Score': metrics.precision_score(y_test, y_pred_Poly_d),\n",
    "                 'Recall Score': metrics.recall_score(y_test, y_pred_Poly_d),\n",
    "                 'Accuracy Score': metrics.accuracy_score(y_test, y_pred_Poly_d),\n",
    "                 'Kappa Score':metrics.cohen_kappa_score(y_test, y_pred_Poly_d),\n",
    "                  'f1-score':metrics.f1_score(y_test, y_pred_Poly_d)})\n",
    "\n",
    "\n",
    "\n",
    "# appending our result table\n",
    "result_tabulation = result_tabulation.append(SVM_polynomial_d_metrics , ignore_index = True)\n",
    "\n",
    "# view the result table\n",
    "result_tabulation"
   ]
  },
  {
   "cell_type": "markdown",
   "metadata": {},
   "source": [
    "<table align=\"left\">\n",
    "    <tr>\n",
    "        <td width=\"8%\">\n",
    "            <img src=\"note.png\">\n",
    "        </td>\n",
    "        <td>\n",
    "            <div align=\"left\", style=\"font-size:120%\">\n",
    "                    <b>It can be seen from the result tabulation, that accuracy measures for the model with polynomial kernel, degree = 2 are better than other models. </b>\n",
    "                </font>\n",
    "            </div>\n",
    "        </td>\n",
    "    </tr>\n",
    "</table>"
   ]
  },
  {
   "cell_type": "markdown",
   "metadata": {},
   "source": [
    "<table align=\"left\">\n",
    "    <tr>\n",
    "        <td width=\"8%\">\n",
    "            <img src=\"note.png\">\n",
    "        </td>\n",
    "        <td>\n",
    "            <div align=\"left\", style=\"font-size:120%\">\n",
    "                    <b>As an exercise, run the below code uisng GridSearch and tune the hyperparameters </b>\n",
    "                </font>\n",
    "            </div>\n",
    "        </td>\n",
    "    </tr>\n",
    "</table>"
   ]
  },
  {
   "cell_type": "markdown",
   "metadata": {},
   "source": [
    "<a id=\"Poly_Grid\"> </a>\n",
    "## 4.6 Support Vector Machine using Polynomial Kernal using GridSearchCV"
   ]
  },
  {
   "cell_type": "markdown",
   "metadata": {},
   "source": [
    "<table align=\"left\">\n",
    "    <tr>\n",
    "        <td width=\"8%\">\n",
    "            <img src=\"key.png\">\n",
    "        </td>\n",
    "        <td>\n",
    "            <div align=\"left\", style=\"font-size:120%\">\n",
    "                    <b> Now we build a SVM model using Polynomial kernal, with GridSearchCV. We start with our original data set gradually proceeding with our analysis<br><br>\n",
    "                        In order to buil a  SVM model, we do the following:<br>\n",
    "                        1. Build the model<br>\n",
    "                        2. Predict the values<br>\n",
    "                        3. Compute the accuracy measures<br>\n",
    "                        4. Tabulate the results <br>\n",
    "                      </b>\n",
    "                </font>\n",
    "            </div>\n",
    "        </td>\n",
    "    </tr>\n",
    "</table>"
   ]
  },
  {
   "cell_type": "markdown",
   "metadata": {},
   "source": [
    "**1. Use GridSecearchCV on the model to find the best parameters**"
   ]
  },
  {
   "cell_type": "code",
   "execution_count": 35,
   "metadata": {
    "collapsed": true
   },
   "outputs": [],
   "source": [
    "# degree: Degree of the polynomial\n",
    "# C: value of C parameter or regularisation parameter\n",
    "# gamma:\n",
    "param_grid = { \n",
    "    'degree': [2, 4], \n",
    "    'gamma' : ['auto','scale' ],\n",
    "    'C': [0.5, 1]\n",
    "}"
   ]
  },
  {
   "cell_type": "markdown",
   "metadata": {},
   "source": [
    "**2. Obtain the best parameter and build the model**"
   ]
  },
  {
   "cell_type": "code",
   "execution_count": null,
   "metadata": {
    "collapsed": true
   },
   "outputs": [],
   "source": [
    "# param_grid: pass the list of parameters\n",
    "# cv: determines the cross-validation splitting strategy\n",
    "CV_rfc = GridSearchCV(estimator= svclassifier_Poly, param_grid=param_grid, scoring='accuracy', cv= 5)\n",
    "# fit the model\n",
    "CV_rfc.fit(X_train, y_train)"
   ]
  },
  {
   "cell_type": "code",
   "execution_count": null,
   "metadata": {
    "collapsed": true
   },
   "outputs": [],
   "source": [
    "# find the best parameters\n",
    "# n_estimators: number of trees in the forest\n",
    "# learning_rate: how each tree contributes to overall results\n",
    "CV_rfc.best_params_"
   ]
  },
  {
   "cell_type": "markdown",
   "metadata": {},
   "source": [
    "We have obtained the optimal parameters. Now substitute these values in SVC() and build the model"
   ]
  },
  {
   "cell_type": "code",
   "execution_count": null,
   "metadata": {
    "collapsed": true
   },
   "outputs": [],
   "source": [
    "# build the model with best parameters obtained from above code\n",
    "svclassifier_Poly_Grid = SVC(kernel='poly', \n",
    "                            degree = 2, \n",
    "                            gamma = 'auto'\n",
    "                           C = 1 )\n",
    "# fit the model\n",
    "svclassifier_Poly_Grid.fit(X_train, y_train)"
   ]
  },
  {
   "cell_type": "markdown",
   "metadata": {},
   "source": [
    "**3. Do predictions on the test set**"
   ]
  },
  {
   "cell_type": "code",
   "execution_count": null,
   "metadata": {
    "collapsed": true
   },
   "outputs": [],
   "source": [
    "# predict the values\n",
    "y_pred_Poly_Grid  = svclassifier_Poly_Grid.predict(X_test)"
   ]
  },
  {
   "cell_type": "markdown",
   "metadata": {},
   "source": [
    "Before we compute the accuracy measures, let us plot the confusion matrix."
   ]
  },
  {
   "cell_type": "markdown",
   "metadata": {},
   "source": [
    "**4. Compute accuracy measures**"
   ]
  },
  {
   "cell_type": "code",
   "execution_count": null,
   "metadata": {
    "collapsed": true
   },
   "outputs": [],
   "source": [
    "# compute the confusion matrix\n",
    "cm = confusion_matrix(y_test, y_pred_Poly_Grid)\n",
    "\n",
    "# label the confusion matrix  \n",
    "conf_matrix = pd.DataFrame(data=cm,columns=['Predicted:0','Predicted:1'],index=['Actual:0','Actual:1'])\n",
    "\n",
    "# set sizeof the plot\n",
    "plt.figure(figsize = (8,5))\n",
    "\n",
    "# plot a heatmap\n",
    "# cmap: colour code used for plotting\n",
    "# annot: prints the correlation values in the chart\n",
    "# annot_kws: sets the font size of the annotation\n",
    "# cbar=False: Whether to draw a colorbar\n",
    "# fmt: string formatting code to use when adding annotations\n",
    "sns.heatmap(conf_matrix, annot=True, fmt='d', cmap=\"YlGnBu\", cbar=False)\n",
    "plt.show()"
   ]
  },
  {
   "cell_type": "code",
   "execution_count": null,
   "metadata": {
    "collapsed": true
   },
   "outputs": [],
   "source": [
    "# True Negatives are denoted by 'TN'\n",
    "# Actual 'O' values which are classified correctly\n",
    "TN = cm[0,0]\n",
    "\n",
    "# True Positives are denoted by 'TP'\n",
    "# Actual '1' values which are classified correctly\n",
    "TP = cm[1,1]\n",
    "\n",
    "# False Negatives are denoted by 'FN'\n",
    "# Actual '1' values which are classified wrongly as '0'\n",
    "FN = cm[1,0]\n",
    "\n",
    "# False Positives are denoted by 'FP'\n",
    "# Actual 'O' values which are classified wrongly as '1'\n",
    "FP = cm[0,1] "
   ]
  },
  {
   "cell_type": "code",
   "execution_count": null,
   "metadata": {
    "collapsed": true
   },
   "outputs": [],
   "source": [
    "# accuracy measures by classification_report()\n",
    "result = classification_report(y_test, y_pred_Poly_Grid)\n",
    "\n",
    "# print the result\n",
    "print(result)"
   ]
  },
  {
   "cell_type": "code",
   "execution_count": null,
   "metadata": {
    "collapsed": true
   },
   "outputs": [],
   "source": [
    "# compute kappa value\n",
    "kappa = metrics.cohen_kappa_score(y_test, y_pred_Poly_Grid)\n",
    "\n",
    "# print kappa\n",
    "print('kappa value:',kappa)"
   ]
  },
  {
   "cell_type": "code",
   "execution_count": null,
   "metadata": {
    "collapsed": true
   },
   "outputs": [],
   "source": [
    "# set the figure size\n",
    "plt.rcParams['figure.figsize']=(8,5)\n",
    "\n",
    "fpr, tpr, thresholds = roc_curve(y_test, y_pred_Poly_Grid)\n",
    "\n",
    "# plot the ROC curve\n",
    "plt.plot(fpr,tpr)\n",
    "\n",
    "# set limits for x and y axes\n",
    "plt.xlim([0.0, 1.0])\n",
    "plt.ylim([0.0, 1.0])\n",
    "\n",
    "# plot the straight line showing worst prediction for the model\n",
    "plt.plot([0, 1], [0, 1],'r--')\n",
    "\n",
    "# add the AUC score\n",
    "plt.text(x = 0.05, y = 0.8, s =('AUC Score:', round(metrics.roc_auc_score(y_test, y_pred_Poly_Grid),4)))\n",
    "\n",
    "# name the plot, and both axes\n",
    "plt.xlabel('False positive rate (1-Specificity)')\n",
    "plt.ylabel('True positive rate (Sensitivity)')\n",
    "\n",
    "# plot the grid\n",
    "plt.grid(True)"
   ]
  },
  {
   "cell_type": "markdown",
   "metadata": {},
   "source": [
    "**5. Tabulate the results**"
   ]
  },
  {
   "cell_type": "code",
   "execution_count": null,
   "metadata": {
    "collapsed": true
   },
   "outputs": [],
   "source": [
    "# create the result table for all accuracy scores\n",
    "# Accuracy measures considered for model comparision are 'Model', 'AUC Score', 'Precision Score', 'Recall Score','Accuracy Score','Kappa Score', 'f1 - score'\n",
    "\n",
    "# create a list of column names\n",
    "\n",
    "\n",
    "# compiling the required information\n",
    "SVM_polynomial_grid_metrics = pd.Series({'Model': \"SVM using polynomial kernal with GridSearch\",\n",
    "                     'AUC Score' : metrics.roc_auc_score(y_test, y_pred_Poly_d),\n",
    "                 'Precision Score': metrics.precision_score(y_test, y_pred_Poly_d),\n",
    "                 'Recall Score': metrics.recall_score(y_test, y_pred_Poly_d),\n",
    "                 'Accuracy Score': metrics.accuracy_score(y_test, y_pred_Poly_d),\n",
    "                 'Kappa Score':metrics.cohen_kappa_score(y_test, y_pred_Poly_d),\n",
    "                  'f1-score':metrics.f1_score(y_test, y_pred_Poly_d)})\n",
    "\n",
    "\n",
    "\n",
    "# appending our result table\n",
    "result_tabulation = result_tabulation.append(SVM_polynomial_grid_metrics , ignore_index = True)\n",
    "\n",
    "# view the result table\n",
    "result_tabulation"
   ]
  },
  {
   "cell_type": "markdown",
   "metadata": {},
   "source": [
    "<table align=\"left\">\n",
    "    <tr>\n",
    "        <td width=\"8%\">\n",
    "            <img src=\"note.png\">\n",
    "        </td>\n",
    "        <td>\n",
    "            <div align=\"left\", style=\"font-size:120%\">\n",
    "                    <b>Compare the performance of the model built using the best parameters obtained from GridSearch with the other models. </b>\n",
    "                </font>\n",
    "            </div>\n",
    "        </td>\n",
    "    </tr>\n",
    "</table>"
   ]
  }
 ],
 "metadata": {
  "kernelspec": {
   "display_name": "Python 3",
   "language": "python",
   "name": "python3"
  },
  "language_info": {
   "codemirror_mode": {
    "name": "ipython",
    "version": 3
   },
   "file_extension": ".py",
   "mimetype": "text/x-python",
   "name": "python",
   "nbconvert_exporter": "python",
   "pygments_lexer": "ipython3",
   "version": "3.6.3"
  }
 },
 "nbformat": 4,
 "nbformat_minor": 2
}
