{
 "cells": [
  {
   "cell_type": "code",
   "execution_count": 1,
   "id": "eef84798",
   "metadata": {},
   "outputs": [
    {
     "data": {
      "text/plain": [
       "'C:\\\\Users\\\\Lenovo\\\\Desktop\\\\PGA01-Mentorship Session'"
      ]
     },
     "execution_count": 1,
     "metadata": {},
     "output_type": "execute_result"
    }
   ],
   "source": [
    "import os\n",
    "os.getcwd()"
   ]
  },
  {
   "cell_type": "code",
   "execution_count": 2,
   "id": "5327f6d0",
   "metadata": {},
   "outputs": [
    {
     "name": "stdout",
     "output_type": "stream",
     "text": [
      "Requirement already satisfied: gTTS in c:\\users\\lenovo\\anaconda3\\lib\\site-packages (2.2.4)\n",
      "Requirement already satisfied: click in c:\\users\\lenovo\\anaconda3\\lib\\site-packages (from gTTS) (8.0.3)\n",
      "Requirement already satisfied: six in c:\\users\\lenovo\\anaconda3\\lib\\site-packages (from gTTS) (1.16.0)\n",
      "Requirement already satisfied: requests in c:\\users\\lenovo\\anaconda3\\lib\\site-packages (from gTTS) (2.26.0)\n",
      "Requirement already satisfied: colorama in c:\\users\\lenovo\\anaconda3\\lib\\site-packages (from click->gTTS) (0.4.4)\n",
      "Requirement already satisfied: charset-normalizer~=2.0.0 in c:\\users\\lenovo\\anaconda3\\lib\\site-packages (from requests->gTTS) (2.0.4)\n",
      "Requirement already satisfied: idna<4,>=2.5 in c:\\users\\lenovo\\anaconda3\\lib\\site-packages (from requests->gTTS) (3.2)\n",
      "Requirement already satisfied: urllib3<1.27,>=1.21.1 in c:\\users\\lenovo\\anaconda3\\lib\\site-packages (from requests->gTTS) (1.26.7)\n",
      "Requirement already satisfied: certifi>=2017.4.17 in c:\\users\\lenovo\\anaconda3\\lib\\site-packages (from requests->gTTS) (2021.10.8)\n"
     ]
    }
   ],
   "source": [
    "!pip install gTTS"
   ]
  },
  {
   "cell_type": "code",
   "execution_count": 3,
   "id": "7d8f57ec",
   "metadata": {},
   "outputs": [],
   "source": [
    "from gtts import gTTS"
   ]
  },
  {
   "cell_type": "code",
   "execution_count": 17,
   "id": "81f470a1",
   "metadata": {},
   "outputs": [
    {
     "name": "stdout",
     "output_type": "stream",
     "text": [
      "Please write your sentence here : \n",
      " >\"ನಮ್ಮ ದೇಶದ ಆಸ್ತಿ ನಮ್ಮ ಯುವಜನಾಂಗ. ಏಳಿ ಎದ್ದೇಳಿ, ಗುರಿ ಮುಟ್ಟುವ ತನಕ ನಿಲ್ಲದಿರಿ\" ಎನ್ನುವ ಸ್ವಾಮಿ ವಿವೇಕಾನಂದರ ಸಂದೇಶವನ್ನು ಮರೆಯುತ್ತಿದ್ದಾರೆ ನಮ್ಮ ಯುವಕರು . ನಿಮ್ಮ ಜೀವನದಲ್ಲಿ ಸವಾಲುಗಳನ್ನು ಎದುರಿಸಿ ಗೆಲ್ಲಲು ಪ್ರಯತ್ನಿಸಿ, ಜೀವನವನ್ನು ಮುನ್ನಡೆಸಿ, ಇತರರಿಗೆ ಮಾರ್ಗದರ್ಶನ ನೀಡಿ.. ದೇಶದ ಒಳಿತಿಗಾಗಿ ಹೋರಾಡಬೇಕಿದ್ದ ಬಹಳಷ್ಟು ಯುವಕ ಯುವತಿಯರು ಇದೀಗ ಆತ್ಮಹತ್ಯೆ , ಧೂಮಪಾನ, ಕುಡಿತ, ಕೆಲಸಕ್ಕೆ ಹೋಗದೆ ಮನೆಯಲ್ಲಿರುವುದು. ಧರ್ಮಕ್ಕಾಗಿ, ಆಸ್ತಿಗಾಗಿ ಕಚ್ಚಾಟ ಮಾಡುವುದು, ಇನ್ನೂ ಹತ್ತು ಹಲವಾರು ಕಾರಣದಿಂದ ಬದುಕನ್ನು ನಶಿಸಲು ಕಾರಣಕರ್ತರಾಗಿದ್ದಾರೆ. ಮುಂದೊಂದು ದಿನ ತಾವು ಮಾಡಿದ ತಪ್ಪು ಅರಿವಾಗುವಷ್ಟರಲ್ಲಿ ಕಾಲ ಮಿಂಚಿಹೋಗಿರುತ್ತದೆ ಸಮಯ ಕಳೆದಿರುತ್ತದೆ.\n"
     ]
    }
   ],
   "source": [
    "my_speech = input(\"Please write your sentence here : \\n >\")"
   ]
  },
  {
   "cell_type": "code",
   "execution_count": 18,
   "id": "f51570a2",
   "metadata": {},
   "outputs": [],
   "source": [
    "# https://en.wikipedia.org/wiki/List_of_ISO_639-1_codes\n",
    "audio = gTTS(text = my_speech, lang = 'kn', slow=False)"
   ]
  },
  {
   "cell_type": "code",
   "execution_count": 19,
   "id": "2a58a57b",
   "metadata": {},
   "outputs": [],
   "source": [
    "audio.save('kannada.mp3')"
   ]
  },
  {
   "cell_type": "code",
   "execution_count": null,
   "id": "cc645048",
   "metadata": {},
   "outputs": [],
   "source": []
  },
  {
   "cell_type": "code",
   "execution_count": null,
   "id": "8bd712be",
   "metadata": {},
   "outputs": [],
   "source": []
  },
  {
   "cell_type": "code",
   "execution_count": null,
   "id": "40893fe9",
   "metadata": {},
   "outputs": [],
   "source": []
  },
  {
   "cell_type": "code",
   "execution_count": null,
   "id": "aaf14e41",
   "metadata": {},
   "outputs": [],
   "source": []
  },
  {
   "cell_type": "code",
   "execution_count": null,
   "id": "1ee1fe1e",
   "metadata": {},
   "outputs": [],
   "source": []
  },
  {
   "cell_type": "code",
   "execution_count": null,
   "id": "8ea6903c",
   "metadata": {},
   "outputs": [],
   "source": []
  },
  {
   "cell_type": "code",
   "execution_count": null,
   "id": "c96c821d",
   "metadata": {},
   "outputs": [],
   "source": []
  }
 ],
 "metadata": {
  "kernelspec": {
   "display_name": "Python 3 (ipykernel)",
   "language": "python",
   "name": "python3"
  },
  "language_info": {
   "codemirror_mode": {
    "name": "ipython",
    "version": 3
   },
   "file_extension": ".py",
   "mimetype": "text/x-python",
   "name": "python",
   "nbconvert_exporter": "python",
   "pygments_lexer": "ipython3",
   "version": "3.9.7"
  }
 },
 "nbformat": 4,
 "nbformat_minor": 5
}
